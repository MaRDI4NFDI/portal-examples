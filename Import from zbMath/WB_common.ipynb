{
 "cells": [
  {
   "cell_type": "markdown",
   "id": "92158fc3-c2da-42b9-bd66-11ee282ff5e5",
   "metadata": {},
   "source": [
    "# This notebook has definitions and functions used in common by notebooks using the wikibase API\n",
    "\n",
    "The API documentation is [here](https://www.wikidata.org/w/api.php?action=help&modules=wbeditentity)\n",
    "\n",
    "To load these functions into another notebook, do `%run WB_common.ipynb` inside a code cell, e.g. once at the top of the page."
   ]
  },
  {
   "cell_type": "code",
   "execution_count": null,
   "id": "25b6e1db-3d61-4080-a3de-2c668e1e4bb0",
   "metadata": {},
   "outputs": [],
   "source": [
    "import pandas as pd"
   ]
  },
  {
   "cell_type": "markdown",
   "id": "b6260aa8-625a-4510-9f41-7429901f895e",
   "metadata": {},
   "source": [
    "## Subclass Exception to define custom exception for wikibase API errors"
   ]
  },
  {
   "cell_type": "code",
   "execution_count": 1,
   "id": "36a96e4e-053f-4c29-9d6a-762b6e8f02cf",
   "metadata": {},
   "outputs": [],
   "source": [
    "class WBAPIException(BaseException):\n",
    "    \"\"\"Raised when the wikibase Open API throws an error\"\"\"\n",
    "    pass"
   ]
  },
  {
   "cell_type": "markdown",
   "id": "1593a835-8500-481f-93df-2b6dba33b209",
   "metadata": {},
   "source": [
    "## Login to the Wikibase"
   ]
  },
  {
   "cell_type": "code",
   "execution_count": 1,
   "id": "6259c334-fab9-42f0-99f8-59832ab57d60",
   "metadata": {},
   "outputs": [],
   "source": [
    "import requests\n",
    "import json \n",
    "import configparser\n",
    "\n",
    "def login(username, botpwd):\n",
    "    \"\"\"\n",
    "    Starts a new session and logins using a bot account.\n",
    "    @username, @botpwd string: credentials of an existing bot user\n",
    "    @returns requests.sessions.Session object\n",
    "    \"\"\"\n",
    "    # create a new session\n",
    "    session = requests.Session()\n",
    "\n",
    "    # get login token\n",
    "    r1 = session.get(WIKIBASE_API, params={\n",
    "        'format': 'json',\n",
    "        'action': 'query',\n",
    "        'meta': 'tokens',\n",
    "        'type': 'login'\n",
    "    })\n",
    "    # login with bot account\n",
    "    r2 = session.post(WIKIBASE_API, data={\n",
    "        'format': 'json',\n",
    "        'action': 'login',\n",
    "        'lgname': username,\n",
    "        'lgpassword': botpwd,\n",
    "        'lgtoken': r1.json()['query']['tokens']['logintoken'],\n",
    "    })\n",
    "    # raise when login failed\n",
    "    if r2.json()['login']['result'] != 'Success':\n",
    "        raise WBAPIException(r2.json()['login'])\n",
    "        \n",
    "    return session"
   ]
  },
  {
   "cell_type": "markdown",
   "id": "fd909056-f2e4-4972-a1bc-77ba940a75d9",
   "metadata": {},
   "source": [
    "## Create a wikibase property\n",
    "A function that creates a new wikidatabase property and returns the new id.\n",
    "\n",
    "Properties can be seen in the wiki under `http:localhost:8080/wiki/Property:Px`"
   ]
  },
  {
   "cell_type": "code",
   "execution_count": 4,
   "id": "07c1ed8b-6b50-4394-9470-ddc4a71c9f9f",
   "metadata": {},
   "outputs": [],
   "source": [
    "def get_csrf_token(session):\n",
    "    \"\"\"Gets a security (CSRF) token.\"\"\"\n",
    "    params1 = {\n",
    "        \"action\": \"query\",\n",
    "        \"meta\": \"tokens\",\n",
    "        \"type\": \"csrf\"\n",
    "    }\n",
    "    r1 = session.get(WIKIBASE_API, params=params1)\n",
    "    token = r1.json()['query']['tokens']['csrftoken']\n",
    "\n",
    "    return token\n",
    "    \n",
    "\n",
    "def create_property(session, data):\n",
    "    \"\"\"\n",
    "    Creates a wikibase property.\n",
    "    @session requests.sessions.Session: session obtained from login \n",
    "    @data python dict: creation parameters of the property\n",
    "    @returns string: id of the new property\n",
    "    \"\"\"\n",
    "    token = get_csrf_token(session)\n",
    "    \n",
    "    params = {\n",
    "        \"action\": \"wbeditentity\",\n",
    "        \"format\": \"json\",\n",
    "        'new': 'property',\n",
    "        'data': json.dumps(data),\n",
    "        'token': token\n",
    "    }\n",
    "    r1 = session.post(WIKIBASE_API, data=params)\n",
    "    r1.json = r1.json()\n",
    "    \n",
    "    # raise when edit failed\n",
    "    if 'error' in r1.json.keys():\n",
    "        raise WBAPIException(r1.json['error'])\n",
    "\n",
    "    return r1.json['entity']['id']"
   ]
  },
  {
   "cell_type": "markdown",
   "id": "882c892b-6e3b-4a0f-b3a7-921bfa16a0fc",
   "metadata": {},
   "source": [
    "## Create a wikibase entity\n",
    "A function that creates a new wikidatabase entity (item) and returns the new id.\n",
    "\n",
    "If the property label already exists in the wiki, will not overwrite it, but return the existing QID ([example](https://query.portal.mardi4nfdi.de/embed.html#PREFIX%20wdt%3A%20%3Chttps%3A%2F%2Fportal.mardi4nfdi.de%2Fprop%2Fdirect%2F%3E%0APREFIX%20wd%3A%20%3Chttps%3A%2F%2Fportal.mardi4nfdi.de%2Fentity%2F%3E%0A%0ASELECT%20%20%3FqId%20%3FqIdLabel%20%3FswmathID%20%0AWHERE%20%7B%0A%20%20%3FqId%20wdt%3AP13%20%3FswmathID%20.%20%20%20%20%0A%20%20SERVICE%20wikibase%3Alabel%20%7B%20bd%3AserviceParam%20wikibase%3Alanguage%20%22en%22.%20%7D%0A%20%20%20%20%20%20%7D%0ALimit%2010)).\n",
    "\n",
    "Items can be seen in the wiki under `http:localhost:8080/wiki/Item:Qx`"
   ]
  },
  {
   "cell_type": "code",
   "execution_count": 5,
   "id": "24ef9ff3-6e08-4bec-8c39-dba4e185e043",
   "metadata": {},
   "outputs": [],
   "source": [
    "def create_entity(session, data):\n",
    "    \"\"\"\n",
    "    Creates a wikibase entity.\n",
    "    @session requests.sessions.Session: session obtained from login \n",
    "    @data python dict: creation parameters of the entity\n",
    "    @returns string: id of the new entity\n",
    "    \"\"\"\n",
    "    token = get_csrf_token(session)\n",
    "    \n",
    "    params = {\n",
    "        'action': 'wbeditentity',\n",
    "        'format': 'json',\n",
    "        'new': 'item',\n",
    "        'data': json.dumps(data),\n",
    "        'token': token\n",
    "    }\n",
    "    r1 = session.post(WIKIBASE_API, data=params)\n",
    "    r1.json = r1.json()\n",
    "    \n",
    "    # raise when edit failed\n",
    "    if 'error' in r1.json.keys():\n",
    "        raise WBAPIException(r1.json['error'])\n",
    "\n",
    "    return r1.json['entity']['id']"
   ]
  },
  {
   "cell_type": "markdown",
   "id": "a91aabac-06f0-41c1-8f8a-12b2220a515b",
   "metadata": {},
   "source": [
    "### Edit a wikibase entity"
   ]
  },
  {
   "cell_type": "code",
   "execution_count": 17,
   "id": "f1ad3ede-a65a-4437-a4e7-c2ea63e47350",
   "metadata": {},
   "outputs": [],
   "source": [
    "def edit_entity(session, qid, data):\n",
    "    token = get_csrf_token(session)\n",
    "    \n",
    "    params = {\n",
    "        'id': qid,\n",
    "        'action': 'wbeditentity',\n",
    "        'format': 'json',\n",
    "        'data': json.dumps(data),\n",
    "        'token': token\n",
    "    }\n",
    "    r1 = session.post(WIKIBASE_API, data=params)\n",
    "    r1.json = r1.json()\n",
    "    \n",
    "    # raise when edit failed\n",
    "    if 'error' in r1.json.keys():\n",
    "        raise WBAPIException(r1.json['error'])\n",
    "\n",
    "    return r1.json['entity']['id']\n"
   ]
  },
  {
   "cell_type": "markdown",
   "id": "f3fa0304-7e64-4e50-8ef9-cfe367cfe412",
   "metadata": {},
   "source": [
    "### Read entity by title"
   ]
  },
  {
   "cell_type": "code",
   "execution_count": 2,
   "id": "3a5ff493-3a05-4a26-8a81-64bde6ad3199",
   "metadata": {},
   "outputs": [],
   "source": [
    "def read_entity_by_title(session, title):\n",
    "    \"\"\"Reads the Qid of an entity.\"\"\"\n",
    "    params = {\n",
    "        'action': 'wbsearchentities',\n",
    "        'format': 'json',\n",
    "        'search': title,\n",
    "        'language': 'en',\n",
    "        'type': 'item',\n",
    "        'limit': 1\n",
    "    }\n",
    "    r1 = session.post(WIKIBASE_API, data=params)\n",
    "    r1.json = r1.json()\n",
    "    qid = None\n",
    "    if 'search' in r1.json.keys():\n",
    "        if len(r1.json['search']) > 0:\n",
    "            qid = r1.json['search'][0]['id']\n",
    "    return qid"
   ]
  },
  {
   "cell_type": "code",
   "execution_count": null,
   "id": "4749201f-3379-4f56-85bb-d32049746fc7",
   "metadata": {},
   "outputs": [],
   "source": []
  }
 ],
 "metadata": {
  "kernelspec": {
   "display_name": "Python 3 (ipykernel)",
   "language": "python",
   "name": "python3"
  },
  "language_info": {
   "codemirror_mode": {
    "name": "ipython",
    "version": 3
   },
   "file_extension": ".py",
   "mimetype": "text/x-python",
   "name": "python",
   "nbconvert_exporter": "python",
   "pygments_lexer": "ipython3",
   "version": "3.9.7"
  }
 },
 "nbformat": 4,
 "nbformat_minor": 5
}
