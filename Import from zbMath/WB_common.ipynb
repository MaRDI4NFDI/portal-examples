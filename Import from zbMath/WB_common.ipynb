{
 "cells": [
  {
   "cell_type": "markdown",
   "id": "92158fc3-c2da-42b9-bd66-11ee282ff5e5",
   "metadata": {},
   "source": [
    "# This notebook has definitions and functions used in common by notebooks using the wikibase API\n",
    "\n",
    "The API documentation is [here](https://www.wikidata.org/w/api.php?action=help&modules=wbeditentity)\n",
    "\n",
    "To load these functions into another notebook, do `%run WB_common.ipynb` inside a code cell, e.g. once at the top of the page."
   ]
  },
  {
   "cell_type": "markdown",
   "id": "b6260aa8-625a-4510-9f41-7429901f895e",
   "metadata": {},
   "source": [
    "## Subclass Exception to define custom exception for wikibase API errors"
   ]
  },
  {
   "cell_type": "code",
   "execution_count": 1,
   "id": "36a96e4e-053f-4c29-9d6a-762b6e8f02cf",
   "metadata": {},
   "outputs": [],
   "source": [
    "class WBAPIException(BaseException):\n",
    "    \"\"\"Raised when the wikibase Open API throws an error\"\"\"\n",
    "    pass"
   ]
  },
  {
   "cell_type": "code",
   "execution_count": null,
   "id": "935adcb0-bd8a-437c-9f07-35e66bf374c5",
   "metadata": {},
   "outputs": [],
   "source": []
  }
 ],
 "metadata": {
  "kernelspec": {
   "display_name": "Python 3 (ipykernel)",
   "language": "python",
   "name": "python3"
  },
  "language_info": {
   "codemirror_mode": {
    "name": "ipython",
    "version": 3
   },
   "file_extension": ".py",
   "mimetype": "text/x-python",
   "name": "python",
   "nbconvert_exporter": "python",
   "pygments_lexer": "ipython3",
   "version": "3.9.7"
  }
 },
 "nbformat": 4,
 "nbformat_minor": 5
}
