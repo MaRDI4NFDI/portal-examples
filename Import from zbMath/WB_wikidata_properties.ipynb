{
 "cells": [
  {
   "cell_type": "markdown",
   "id": "e33a2c5a-b2c9-4d19-85fe-1de1d61896e4",
   "metadata": {},
   "source": [
    "# Export properties from Wikidata\n",
    "\n",
    "Used [Protege online](https://webprotege.stanford.edu/) to model the required classes and properties.\n",
    "\n",
    "The resulting model was saved in OWL/XMLformat (`data/knowledge-graph.owl`).\n",
    "\n",
    "Used [WebVOWL](http://vowl.visualdataweb.org/webvowl.html) to visualize the model."
   ]
  },
  {
   "cell_type": "markdown",
   "id": "e1bf4693-b5eb-4685-8365-476a1d3fc954",
   "metadata": {},
   "source": [
    "![title](data/knowledge-graph.owl.svg)"
   ]
  },
  {
   "cell_type": "markdown",
   "id": "0e91f106-2abd-47f3-909f-28f4a30a98ce",
   "metadata": {},
   "source": [
    "1. Start a local wikibase, e.g. using [MaRDI4NFDI/portal-compose](https://github.com/MaRDI4NFDI/portal-compose)\n",
    "2. Increase memory limit by setting `ini_set( 'memory_limit', '2G' );` in LocalSettings.d/LocalSettings.override.php\n",
    "\n",
    "Possible ways to import items and properties from Wikidata (see https://www.mediawiki.org/wiki/Wikibase/Importing):\n",
    "* ~Enable federated properties from Wikidata by setting `$wgWBRepoSettings['federatedPropertiesEnabled'] = true;` in Localsettings.d/LocalSettings.override.php~  (potentially creates entity namimg conflicts)\n",
    "* ~Use native MediaWiki export/import to load the required pages fom Wikidata by importing the XML files into the local wikibase. These files contains item and property pages that have been exported from Wikidata.~ (potentially creates entity naming conflicts)\n",
    "* Use WikibaseImport to import pages from Wikidata. ([older version](https://github.com/Wikidata/WikibaseImport/tree/c1233da6b7122c55c95d9d925b8f4162de8807e7) works)\n",
    "* Use a custom script to import the XML dumps from Wikidata into the local wiki without overwritting existing items and properties\n",
    "\n",
    "Export these using the XML export functionality of Wikidata\n",
    "\n",
    "## Property pages that need to be exported:\n",
    "Export to `data/Wikidata-properties.xml`\n",
    "* instance of (Property:P31)\n",
    "* zbMATH author ID (Property:P1556)\n",
    "* zbMATH work ID (Property:P894) \n",
    "* swMATH work ID (Property:P6830) \n",
    "* formatter URL (Property:P1630)\n",
    "* DOI (Property:P356)\n",
    "* describes a project that uses (Property:P4510)\n",
    "* author (Property:P50)\n",
    "* publication date (Property:P577)\n",
    "* published in (Property:P1433) \n",
    "* publisher (Property:P123)\n",
    "* title (Property:P1476)\n",
    "* main subject (Property:P921) \n",
    "* language of work or name (Property:P407)\n",
    "* volume (Property:P478)\n",
    "* page(s) (Property:P304)\n",
    "* issue (Property:P433)\n",
    "* exact match (Property:P2888)\n",
    "\n",
    "## Item pages that need to be exported:\n",
    "Export to `data/Wikidata-items.xml`\n",
    "* human (Q5)\n",
    "* software (Q7397)\n",
    "* scholarly article (Q13442814) \n",
    "* scientific publication (Q591041)\n",
    "* publisher (Q2085381)\n",
    "* index term (Q1128340) \n",
    "* language (Q34770)"
   ]
  },
  {
   "cell_type": "markdown",
   "id": "10c83d89-d9a4-4151-975f-bf68ff80a8c3",
   "metadata": {},
   "source": [
    "# Example queries\n",
    "Some example SPARQL queries that *should* be possible with the model and can be used to test it:\n",
    "* List all papers that use a certain software\n",
    "* List all papers by a given author, sort by date\n",
    "* List all papers published by a certain journal, sort by date\n",
    "* List all papers on a certain keyword\n",
    "* List all software filtered by a given paper keyword\n"
   ]
  },
  {
   "cell_type": "code",
   "execution_count": null,
   "id": "eb44fcd8-e1aa-4ca1-8aa7-2dc3c5313f3b",
   "metadata": {},
   "outputs": [],
   "source": []
  }
 ],
 "metadata": {
  "kernelspec": {
   "display_name": "Python 3 (ipykernel)",
   "language": "python",
   "name": "python3"
  },
  "language_info": {
   "codemirror_mode": {
    "name": "ipython",
    "version": 3
   },
   "file_extension": ".py",
   "mimetype": "text/x-python",
   "name": "python",
   "nbconvert_exporter": "python",
   "pygments_lexer": "ipython3",
   "version": "3.9.7"
  }
 },
 "nbformat": 4,
 "nbformat_minor": 5
}
