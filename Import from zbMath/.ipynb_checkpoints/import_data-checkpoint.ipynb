{
 "cells": [
  {
   "cell_type": "markdown",
   "id": "fcf862c8-5d08-4539-be78-54a78479f7d5",
   "metadata": {},
   "source": [
    "# Import data from zbMath\n",
    "Data in [zbMath Open](https://www.zbmath.org/) can be accessed through the [zbMath Open OAI-PMH](https://oai.zbmath.org/) service, that implements the Open Archives Initiative Protocol for Metadata Harvesting (OAI-PMH) [Schubotz and Teschke, 2021]. The service is open and subject to certain [terms and conditions](https://oai.zbmath.org/static/terms-and-conditions.html).\n",
    "\n",
    "**Contrary to the documentation, the API always returns XML, not JSON.**"
   ]
  },
  {
   "cell_type": "markdown",
   "id": "385a2100-c419-43fe-9e9b-7aa250019be1",
   "metadata": {},
   "source": [
    "## Get a list of publication Id's\n",
    "The API returns XML as text, no matter what."
   ]
  },
  {
   "cell_type": "code",
   "execution_count": 53,
   "id": "0714ffd5-a8bd-4612-9e33-960303740f90",
   "metadata": {},
   "outputs": [],
   "source": [
    "import requests\n",
    "\n",
    "API_URL='https://oai.zbmath.org/v1/' # the API endpoint\n",
    "REQUEST_URL=\"{}?{}\".format(API_URL, 'verb=ListIdentifiers&from=2022-01-01T00%3A00%3A00Z&metadataPrefix=oai_zb_preview')\n",
    "\n",
    "headers = {'accept': 'text/xml'} # this has NO effect\n",
    "\n",
    "response = requests.get(REQUEST_URL, headers)\n",
    "with open('data/response.xml', 'w') as f:\n",
    "    f.write(resp_text)"
   ]
  },
  {
   "cell_type": "markdown",
   "id": "504d03ed-c287-433e-8d31-6d82c1e3181a",
   "metadata": {},
   "source": [
    "Parse the response into an XML tree, and put the result into a pandas dataframe."
   ]
  },
  {
   "cell_type": "code",
   "execution_count": 54,
   "id": "8630f15d-18e5-4b20-80a0-82051c513269",
   "metadata": {},
   "outputs": [
    {
     "data": {
      "text/html": [
       "<div>\n",
       "<style scoped>\n",
       "    .dataframe tbody tr th:only-of-type {\n",
       "        vertical-align: middle;\n",
       "    }\n",
       "\n",
       "    .dataframe tbody tr th {\n",
       "        vertical-align: top;\n",
       "    }\n",
       "\n",
       "    .dataframe thead th {\n",
       "        text-align: right;\n",
       "    }\n",
       "</style>\n",
       "<table border=\"1\" class=\"dataframe\">\n",
       "  <thead>\n",
       "    <tr style=\"text-align: right;\">\n",
       "      <th></th>\n",
       "      <th>id</th>\n",
       "    </tr>\n",
       "  </thead>\n",
       "  <tbody>\n",
       "    <tr>\n",
       "      <th>0</th>\n",
       "      <td>oai:zbmath.org:7454786</td>\n",
       "    </tr>\n",
       "    <tr>\n",
       "      <th>1</th>\n",
       "      <td>oai:zbmath.org:7457565</td>\n",
       "    </tr>\n",
       "    <tr>\n",
       "      <th>2</th>\n",
       "      <td>oai:zbmath.org:7457569</td>\n",
       "    </tr>\n",
       "    <tr>\n",
       "      <th>3</th>\n",
       "      <td>oai:zbmath.org:7451233</td>\n",
       "    </tr>\n",
       "    <tr>\n",
       "      <th>4</th>\n",
       "      <td>oai:zbmath.org:7451234</td>\n",
       "    </tr>\n",
       "  </tbody>\n",
       "</table>\n",
       "</div>"
      ],
      "text/plain": [
       "                       id\n",
       "0  oai:zbmath.org:7454786\n",
       "1  oai:zbmath.org:7457565\n",
       "2  oai:zbmath.org:7457569\n",
       "3  oai:zbmath.org:7451233\n",
       "4  oai:zbmath.org:7451234"
      ]
     },
     "execution_count": 54,
     "metadata": {},
     "output_type": "execute_result"
    }
   ],
   "source": [
    "import xml.etree.ElementTree as ET\n",
    "import pandas as pd\n",
    "\n",
    "def ns(tag_name):\n",
    "    \"\"\"Returns a fully qualified tag name\"\"\"\n",
    "    oai_ns = 'http://www.openarchives.org/OAI/2.0/' # the OAI namespace\n",
    "    return '{{{}}}{}'.format(oai_ns, tag_name)\n",
    "\n",
    "#parse the tree, get a list of identifiers\n",
    "tree = ET.parse('data/response.xml')\n",
    "list_ids = tree.getroot().find(ns('ListIdentifiers'))\n",
    "entries = list_ids.findall(ns('header'))\n",
    "\n",
    "# put identifiers in a pandas dataframe\n",
    "entries_df = pd.DataFrame(columns=['id'])\n",
    "for entry in entries:\n",
    "    entry_id = entry.find(ns('identifier')).text\n",
    "    entries_df = entries_df.append({'id': entry_id}, ignore_index=True)\n",
    "entries_df.head()"
   ]
  },
  {
   "cell_type": "markdown",
   "id": "80875cd7-7b0f-4169-b401-47603df3c1e8",
   "metadata": {},
   "source": [
    "## References\n",
    "M. Schubotz and O. Teschke, zbMATH Open: Towards standardized machine interfaces to expose bibliographic metadata. EMS Magazine 119, 50–53 (2021). https://euromathsoc.org/magazine/articles/mag-12\n",
    "\n"
   ]
  },
  {
   "cell_type": "code",
   "execution_count": null,
   "id": "e1493e9b-38a5-45a3-8580-a2050cb06826",
   "metadata": {},
   "outputs": [],
   "source": []
  }
 ],
 "metadata": {
  "kernelspec": {
   "display_name": "Python 3 (ipykernel)",
   "language": "python",
   "name": "python3"
  },
  "language_info": {
   "codemirror_mode": {
    "name": "ipython",
    "version": 3
   },
   "file_extension": ".py",
   "mimetype": "text/x-python",
   "name": "python",
   "nbconvert_exporter": "python",
   "pygments_lexer": "ipython3",
   "version": "3.9.7"
  }
 },
 "nbformat": 4,
 "nbformat_minor": 5
}
