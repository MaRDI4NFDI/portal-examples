{
 "cells": [
  {
   "cell_type": "markdown",
   "id": "fcf862c8-5d08-4539-be78-54a78479f7d5",
   "metadata": {},
   "source": [
    "# Import data from zbMath\n",
    "Data in [zbMath Open](https://www.zbmath.org/) can be accessed through the [zbMath Open OAI-PMH](https://oai.zbmath.org/) service, that implements the Open Archives Initiative Protocol for Metadata Harvesting (OAI-PMH) [Schubotz and Teschke, 2021]. The service is open and subject to certain [terms and conditions](https://oai.zbmath.org/static/terms-and-conditions.html).\n",
    "\n",
    "**Contrary to the documentation, the API always returns XML, not JSON.**"
   ]
  },
  {
   "cell_type": "markdown",
   "id": "385a2100-c419-43fe-9e9b-7aa250019be1",
   "metadata": {},
   "source": [
    "## Get a list of publication Id's\n",
    "The API returns XML as text, no matter what."
   ]
  },
  {
   "cell_type": "code",
   "execution_count": 77,
   "id": "0714ffd5-a8bd-4612-9e33-960303740f90",
   "metadata": {},
   "outputs": [],
   "source": [
    "import requests\n",
    "import xml.etree.ElementTree as ET\n",
    "import pandas\n",
    "\n",
    "API_URL='https://oai.zbmath.org/v1/'\n",
    "REQUEST_URL=\"{}?{}\".format(API_URL, 'verb=ListIdentifiers&from=2022-01-01T00%3A00%3A00Z&metadataPrefix=oai_zb_preview')\n",
    "headers = {'accept': 'text/xml'} # this has NO effect\n",
    "response = requests.get(REQUEST_URL, headers)\n",
    "resp_text = response.text.replace('\\t', '')\n",
    "with open('data/response.xml', 'w') as f:\n",
    "    f.write(resp_text)"
   ]
  },
  {
   "cell_type": "code",
   "execution_count": 82,
   "id": "8630f15d-18e5-4b20-80a0-82051c513269",
   "metadata": {},
   "outputs": [
    {
     "data": {
      "text/plain": [
       "[<Element '{http://www.openarchives.org/OAI/2.0/}ListIdentifiers' at 0x7efeb92db270>]"
      ]
     },
     "execution_count": 82,
     "metadata": {},
     "output_type": "execute_result"
    }
   ],
   "source": [
    "tree = ET.parse('data/response.xml')\n",
    "tree.findall('{http://www.openarchives.org/OAI/2.0/}ListIdentifiers')"
   ]
  },
  {
   "cell_type": "markdown",
   "id": "80875cd7-7b0f-4169-b401-47603df3c1e8",
   "metadata": {},
   "source": [
    "## References\n",
    "M. Schubotz and O. Teschke, zbMATH Open: Towards standardized machine interfaces to expose bibliographic metadata. EMS Magazine 119, 50–53 (2021). https://euromathsoc.org/magazine/articles/mag-12\n",
    "\n"
   ]
  },
  {
   "cell_type": "code",
   "execution_count": null,
   "id": "e1493e9b-38a5-45a3-8580-a2050cb06826",
   "metadata": {},
   "outputs": [],
   "source": []
  }
 ],
 "metadata": {
  "kernelspec": {
   "display_name": "Python 3 (ipykernel)",
   "language": "python",
   "name": "python3"
  },
  "language_info": {
   "codemirror_mode": {
    "name": "ipython",
    "version": 3
   },
   "file_extension": ".py",
   "mimetype": "text/x-python",
   "name": "python",
   "nbconvert_exporter": "python",
   "pygments_lexer": "ipython3",
   "version": "3.9.7"
  }
 },
 "nbformat": 4,
 "nbformat_minor": 5
}
