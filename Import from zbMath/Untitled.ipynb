{
 "cells": [
  {
   "cell_type": "markdown",
   "id": "5d4a6090-a047-4d96-aff6-45eb181b0b43",
   "metadata": {},
   "source": [
    "## Functionality for getting a data dump, processing and saving it"
   ]
  },
  {
   "cell_type": "code",
   "execution_count": 12,
   "id": "3a203f77-886d-464a-9641-6038e5e95e1f",
   "metadata": {},
   "outputs": [],
   "source": [
    "from sickle import Sickle\n",
    "import xml.etree.ElementTree as ET"
   ]
  },
  {
   "cell_type": "code",
   "execution_count": 80,
   "id": "021c5cd6-24df-4d1a-b3fc-6aa31fd81038",
   "metadata": {},
   "outputs": [],
   "source": [
    "OAI_ZB_PREVIEW_NS = 'https://zbmath.org/OAI/2.0/oai_zb_preview/'\n",
    "OAI_NS = 'http://www.openarchives.org/OAI/2.0/' # the OAI namespace\n",
    "TAGS = ['author', 'author_ids', 'document_title', 'source', 'classifications', 'language', 'links', 'keywords', 'doi', 'publication_year', 'serial']\n",
    "ZBMATH_NS = 'https://zbmath.org/zbmath/elements/1.0/'\n",
    "CONFLICT_TXT = 'zbMATH Open Web Interface contents unavailable due to conflicting licenses.'"
   ]
  },
  {
   "cell_type": "code",
   "execution_count": null,
   "id": "0619aaec-4325-44f5-b9f4-cf420aa6e8c2",
   "metadata": {},
   "outputs": [],
   "source": [
    "def dump_records(out_dir, from_date=None, until_date=None):\n",
    "    # date has to have format like 2012-12-12\n",
    "    sickle = Sickle('https://oai.zbmath.org/v1')\n",
    "    if from_date and until_date:\n",
    "        records = sickle.ListRecords(**{'metadataPrefix': 'oai_dc','from': from_date, 'until': until_date})\n",
    "    elif from_date:\n",
    "        records = sickle.ListRecords(**{'metadataPrefix': 'oai_dc','from': from_date})\n",
    "    elif until_date:\n",
    "        records = sickle.ListRecords(**{'metadataPrefix': 'oai_dc','until': until_date})\n",
    "    else:\n",
    "        records = sickle.ListRecords(metadataPrefix='oai_dc')\n",
    "    with open(out_dir + 'data_dump.txt', 'w+') as f:\n",
    "    for rec in records:\n",
    "        f.write(rec.raw + '\\n')"
   ]
  },
  {
   "cell_type": "code",
   "execution_count": 84,
   "id": "c3135228-4ca3-4195-94c8-a7292f40d4a9",
   "metadata": {},
   "outputs": [],
   "source": [
    "def read_xml(xml_file):\n",
    "    with open(xml_file) as f:\n",
    "        xml_object = ET.fromstringlist([\"<root>\", f.read(), \"</root>\"])\n",
    "    records = tree.getroot().findall(get_tag('record'))\n",
    "    return(records)"
   ]
  },
  {
   "cell_type": "code",
   "execution_count": 68,
   "id": "fbaf11eb-99f7-4b2b-88bf-bdf38b76b10f",
   "metadata": {},
   "outputs": [],
   "source": [
    "def get_tag(tag_name, namespace=OAI_NS):\n",
    "    \"\"\"\n",
    "    Returns a fully qualified tag name.\n",
    "    @param namespace URL of a namespace|None (OAI_NS is default)\n",
    "    \"\"\"\n",
    "    return '{{{}}}{}'.format(namespace, tag_name)"
   ]
  },
  {
   "cell_type": "code",
   "execution_count": 74,
   "id": "9fe29932-8457-4c6b-86d0-dea392e9aba5",
   "metadata": {},
   "outputs": [],
   "source": [
    "def parse_record(xml_record, verbose=False):\n",
    "    \"\"\"\n",
    "    Parse bibliographic record details from XML Element.\n",
    "    @returns dict\n",
    "    \"\"\"\n",
    "    new_entry = {}\n",
    "    # zbMath identifier\n",
    "    zb_id = xml_record.find(get_tag('header')).find(get_tag('identifier')).text \n",
    "    new_entry['id'] = zb_id\n",
    "    # read tags\n",
    "    zb_preview = xml_record.find(get_tag('metadata')).find(get_tag('zbmath', OAI_ZB_PREVIEW_NS))\n",
    "    if zb_preview:\n",
    "        for tag in TAGS:\n",
    "            value = zb_preview.find(get_tag(tag, ZBMATH_NS))\n",
    "            if value is not None:\n",
    "                if len(value):\n",
    "                    # element has children\n",
    "                    texts = []\n",
    "                    for child in value:\n",
    "                        texts.append(child.text)\n",
    "                    text = ';'.join(texts) # multiple values are rendered as a semicolon-separated string\n",
    "                else:\n",
    "                    # element content is a simple text\n",
    "                    text = zb_preview.find(get_tag(tag, ZBMATH_NS)).text\n",
    "                \n",
    "                if text == CONFLICT_TXT:\n",
    "                    # License conflict\n",
    "                    if verbose:\n",
    "                        print('Licensing conflict for id \"{}\" tag \"{}\"'.format(zb_id, tag))\n",
    "                 #       print(text)\n",
    "                    return None\n",
    "            \n",
    "                new_entry[tag] = text\n",
    "        return new_entry"
   ]
  },
  {
   "cell_type": "code",
   "execution_count": 90,
   "id": "eed5333c-197e-4194-bccd-21f37e54e48f",
   "metadata": {},
   "outputs": [],
   "source": [
    "def do_all(xml_file):\n",
    "    with open(xml_file) as infile:\n",
    "        record_string = \"\"\n",
    "        for line in infile:\n",
    "            record_string = record_string + line\n",
    "            print(line)\n",
    "            print(record_file)\n",
    "            if line.endswith('</record>'):\n",
    "                print(record_string)\n",
    "                print(a)\n",
    "                \n",
    "    # read records from file one by one\n",
    "    # for each record:\n",
    "        # parse and extract information\n",
    "        # if something is missing, query by doi\n",
    "        # write to file one by one in csv format"
   ]
  },
  {
   "cell_type": "code",
   "execution_count": null,
   "id": "7ddd3be9-cc93-438f-bc32-46e36a6063f2",
   "metadata": {},
   "outputs": [
    {
     "name": "stderr",
     "output_type": "stream",
     "text": [
      "IOPub data rate exceeded.\n",
      "The Jupyter server will temporarily stop sending output\n",
      "to the client in order to avoid crashing it.\n",
      "To change this limit, set the config variable\n",
      "`--ServerApp.iopub_data_rate_limit`.\n",
      "\n",
      "Current values:\n",
      "ServerApp.iopub_data_rate_limit=1000000.0 (bytes/sec)\n",
      "ServerApp.rate_limit_window=3.0 (secs)\n",
      "\n"
     ]
    }
   ],
   "source": [
    "do_all('test.txt')"
   ]
  },
  {
   "cell_type": "code",
   "execution_count": 85,
   "id": "3cdb8b7a-c07e-4d5f-9192-46b976dd5bce",
   "metadata": {},
   "outputs": [
    {
     "ename": "MemoryError",
     "evalue": "",
     "output_type": "error",
     "traceback": [
      "\u001b[0;31m---------------------------------------------------------------------------\u001b[0m",
      "\u001b[0;31mMemoryError\u001b[0m                               Traceback (most recent call last)",
      "\u001b[0;32m<ipython-input-85-ae55f48ac65b>\u001b[0m in \u001b[0;36m<module>\u001b[0;34m\u001b[0m\n\u001b[0;32m----> 1\u001b[0;31m \u001b[0mrecords\u001b[0m \u001b[0;34m=\u001b[0m\u001b[0mread_xml\u001b[0m\u001b[0;34m(\u001b[0m\u001b[0;34m'test.xml'\u001b[0m\u001b[0;34m)\u001b[0m\u001b[0;34m\u001b[0m\u001b[0;34m\u001b[0m\u001b[0m\n\u001b[0m",
      "\u001b[0;32m<ipython-input-84-9d14770e788f>\u001b[0m in \u001b[0;36mread_xml\u001b[0;34m(xml_file)\u001b[0m\n\u001b[1;32m      1\u001b[0m \u001b[0;32mdef\u001b[0m \u001b[0mread_xml\u001b[0m\u001b[0;34m(\u001b[0m\u001b[0mxml_file\u001b[0m\u001b[0;34m)\u001b[0m\u001b[0;34m:\u001b[0m\u001b[0;34m\u001b[0m\u001b[0;34m\u001b[0m\u001b[0m\n\u001b[1;32m      2\u001b[0m     \u001b[0;32mwith\u001b[0m \u001b[0mopen\u001b[0m\u001b[0;34m(\u001b[0m\u001b[0mxml_file\u001b[0m\u001b[0;34m)\u001b[0m \u001b[0;32mas\u001b[0m \u001b[0mf\u001b[0m\u001b[0;34m:\u001b[0m\u001b[0;34m\u001b[0m\u001b[0;34m\u001b[0m\u001b[0m\n\u001b[0;32m----> 3\u001b[0;31m         \u001b[0mxml_object\u001b[0m \u001b[0;34m=\u001b[0m \u001b[0mET\u001b[0m\u001b[0;34m.\u001b[0m\u001b[0mfromstringlist\u001b[0m\u001b[0;34m(\u001b[0m\u001b[0;34m[\u001b[0m\u001b[0;34m\"<root>\"\u001b[0m\u001b[0;34m,\u001b[0m \u001b[0mf\u001b[0m\u001b[0;34m.\u001b[0m\u001b[0mread\u001b[0m\u001b[0;34m(\u001b[0m\u001b[0;34m)\u001b[0m\u001b[0;34m,\u001b[0m \u001b[0;34m\"</root>\"\u001b[0m\u001b[0;34m]\u001b[0m\u001b[0;34m)\u001b[0m\u001b[0;34m\u001b[0m\u001b[0;34m\u001b[0m\u001b[0m\n\u001b[0m\u001b[1;32m      4\u001b[0m     \u001b[0mrecords\u001b[0m \u001b[0;34m=\u001b[0m \u001b[0mtree\u001b[0m\u001b[0;34m.\u001b[0m\u001b[0mgetroot\u001b[0m\u001b[0;34m(\u001b[0m\u001b[0;34m)\u001b[0m\u001b[0;34m.\u001b[0m\u001b[0mfindall\u001b[0m\u001b[0;34m(\u001b[0m\u001b[0mget_tag\u001b[0m\u001b[0;34m(\u001b[0m\u001b[0;34m'record'\u001b[0m\u001b[0;34m)\u001b[0m\u001b[0;34m)\u001b[0m\u001b[0;34m\u001b[0m\u001b[0;34m\u001b[0m\u001b[0m\n\u001b[1;32m      5\u001b[0m     \u001b[0;32mreturn\u001b[0m\u001b[0;34m(\u001b[0m\u001b[0mrecords\u001b[0m\u001b[0;34m)\u001b[0m\u001b[0;34m\u001b[0m\u001b[0;34m\u001b[0m\u001b[0m\n",
      "\u001b[0;32m/usr/lib/python3.6/codecs.py\u001b[0m in \u001b[0;36mdecode\u001b[0;34m(self, input, final)\u001b[0m\n\u001b[1;32m    319\u001b[0m         \u001b[0;31m# decode input (taking the buffer into account)\u001b[0m\u001b[0;34m\u001b[0m\u001b[0;34m\u001b[0m\u001b[0;34m\u001b[0m\u001b[0m\n\u001b[1;32m    320\u001b[0m         \u001b[0mdata\u001b[0m \u001b[0;34m=\u001b[0m \u001b[0mself\u001b[0m\u001b[0;34m.\u001b[0m\u001b[0mbuffer\u001b[0m \u001b[0;34m+\u001b[0m \u001b[0minput\u001b[0m\u001b[0;34m\u001b[0m\u001b[0;34m\u001b[0m\u001b[0m\n\u001b[0;32m--> 321\u001b[0;31m         \u001b[0;34m(\u001b[0m\u001b[0mresult\u001b[0m\u001b[0;34m,\u001b[0m \u001b[0mconsumed\u001b[0m\u001b[0;34m)\u001b[0m \u001b[0;34m=\u001b[0m \u001b[0mself\u001b[0m\u001b[0;34m.\u001b[0m\u001b[0m_buffer_decode\u001b[0m\u001b[0;34m(\u001b[0m\u001b[0mdata\u001b[0m\u001b[0;34m,\u001b[0m \u001b[0mself\u001b[0m\u001b[0;34m.\u001b[0m\u001b[0merrors\u001b[0m\u001b[0;34m,\u001b[0m \u001b[0mfinal\u001b[0m\u001b[0;34m)\u001b[0m\u001b[0;34m\u001b[0m\u001b[0;34m\u001b[0m\u001b[0m\n\u001b[0m\u001b[1;32m    322\u001b[0m         \u001b[0;31m# keep undecoded input until the next call\u001b[0m\u001b[0;34m\u001b[0m\u001b[0;34m\u001b[0m\u001b[0;34m\u001b[0m\u001b[0m\n\u001b[1;32m    323\u001b[0m         \u001b[0mself\u001b[0m\u001b[0;34m.\u001b[0m\u001b[0mbuffer\u001b[0m \u001b[0;34m=\u001b[0m \u001b[0mdata\u001b[0m\u001b[0;34m[\u001b[0m\u001b[0mconsumed\u001b[0m\u001b[0;34m:\u001b[0m\u001b[0;34m]\u001b[0m\u001b[0;34m\u001b[0m\u001b[0;34m\u001b[0m\u001b[0m\n",
      "\u001b[0;31mMemoryError\u001b[0m: "
     ]
    }
   ],
   "source": [
    "records =read_xml('test.xml')"
   ]
  },
  {
   "cell_type": "markdown",
   "id": "34d910ee-4b48-4dc9-b8fa-5841568ecbf6",
   "metadata": {},
   "source": [
    "---------------------------------------------------------------------------------------------------------------------------------------------------"
   ]
  },
  {
   "cell_type": "code",
   "execution_count": 48,
   "id": "75f75637-2567-476f-b380-2f106c711f91",
   "metadata": {},
   "outputs": [],
   "source": [
    "tree = read_xml('reduced.xml')"
   ]
  },
  {
   "cell_type": "code",
   "execution_count": 49,
   "id": "166fe796-9afb-43df-b783-91c4b519f875",
   "metadata": {},
   "outputs": [],
   "source": [
    "root = tree.getroot()"
   ]
  },
  {
   "cell_type": "code",
   "execution_count": 50,
   "id": "51eeaad4-24ed-478d-8c19-514435d4d340",
   "metadata": {},
   "outputs": [
    {
     "name": "stdout",
     "output_type": "stream",
     "text": [
      "{http://www.openarchives.org/OAI/2.0/}record\n",
      "{}\n"
     ]
    }
   ],
   "source": [
    "print(root.tag)\n",
    "print(root.attrib)"
   ]
  },
  {
   "cell_type": "code",
   "execution_count": 51,
   "id": "6fba0be2-209f-490b-8307-7fc363cd6d68",
   "metadata": {},
   "outputs": [
    {
     "name": "stdout",
     "output_type": "stream",
     "text": [
      "{http://www.openarchives.org/OAI/2.0/}header {}\n",
      "{http://www.openarchives.org/OAI/2.0/}metadata {}\n"
     ]
    }
   ],
   "source": [
    "for child in root:\n",
    "    print(child.tag, child.attrib)"
   ]
  },
  {
   "cell_type": "code",
   "execution_count": 81,
   "id": "77eded19-ca4f-46c0-8268-cfbd660c8d5b",
   "metadata": {},
   "outputs": [
    {
     "data": {
      "text/plain": [
       "{'id': 'oai:zbmath.org:5346175',\n",
       " 'author': 'Moskalenko, V. A.; Entel, P.; Digor, D. F.; Dohotaru, L. A.; Citro, R.',\n",
       " 'document_title': 'A diagram approach to the strong coupling in the single-impurity Anderson model',\n",
       " 'source': 'Theor. Math. Phys. 155, No. 3, 914-935 (2008); translation from Teor. Mat. Fiz. 155, No. 3, 474-497 (2008).',\n",
       " 'classifications': '82B44',\n",
       " 'language': 'English',\n",
       " 'keywords': \"strong correlation;spectral function;Dyson equation;Green's function;Anderson impurity model\",\n",
       " 'doi': '10.1007/s11232-008-0077-9',\n",
       " 'publication_year': '2008',\n",
       " 'serial': \"Theoretical and Mathematical Physics;Springer US, New York, NY; Pleiades Publishing, New York, NY; MAIK ``Nauka/Interperiodica'', Moscow\"}"
      ]
     },
     "execution_count": 81,
     "metadata": {},
     "output_type": "execute_result"
    }
   ],
   "source": [
    "parse_record(root, verbose=True)"
   ]
  },
  {
   "cell_type": "code",
   "execution_count": 69,
   "id": "6e59962f-8efc-476a-9435-ff4d6d946ac9",
   "metadata": {},
   "outputs": [
    {
     "data": {
      "text/plain": [
       "'{http://www.openarchives.org/OAI/2.0/}header'"
      ]
     },
     "execution_count": 69,
     "metadata": {},
     "output_type": "execute_result"
    }
   ],
   "source": [
    "get_tag('header')"
   ]
  },
  {
   "cell_type": "code",
   "execution_count": 70,
   "id": "437ee4a2-192d-4f86-ab34-5fe76bf5b615",
   "metadata": {},
   "outputs": [],
   "source": [
    "a = root.find('header')\n",
    "b = root.find(get_tag('header'))\n",
    "c= root.find('{http://www.openarchives.org/OAI/2.0/}header')"
   ]
  },
  {
   "cell_type": "code",
   "execution_count": 71,
   "id": "9f347282-d2b3-43d6-ab27-be0b94fd11b7",
   "metadata": {},
   "outputs": [
    {
     "name": "stdout",
     "output_type": "stream",
     "text": [
      "None\n"
     ]
    }
   ],
   "source": [
    "print(a)"
   ]
  },
  {
   "cell_type": "code",
   "execution_count": 72,
   "id": "8425477a-e21a-4341-93cf-250b4d9217ca",
   "metadata": {},
   "outputs": [
    {
     "name": "stdout",
     "output_type": "stream",
     "text": [
      "<Element '{http://www.openarchives.org/OAI/2.0/}header' at 0x7f9c8b50d6d8>\n"
     ]
    }
   ],
   "source": [
    "print(b)"
   ]
  },
  {
   "cell_type": "code",
   "execution_count": 73,
   "id": "6c219626-9fc0-4e70-813b-cc885de13213",
   "metadata": {},
   "outputs": [
    {
     "name": "stdout",
     "output_type": "stream",
     "text": [
      "<Element '{http://www.openarchives.org/OAI/2.0/}header' at 0x7f9c8b50d6d8>\n"
     ]
    }
   ],
   "source": [
    "print(c)"
   ]
  },
  {
   "cell_type": "code",
   "execution_count": 57,
   "id": "3455de16-5419-4e63-a03e-6ca6ade715ed",
   "metadata": {},
   "outputs": [
    {
     "name": "stdout",
     "output_type": "stream",
     "text": [
      "b'<ns0:record xmlns:ns0=\"http://www.openarchives.org/OAI/2.0/\" xmlns:ns1=\"https://zbmath.org/OAI/2.0/oai_zb_preview/\" xmlns:ns2=\"https://zbmath.org/zbmath/elements/1.0/\"><ns0:header><ns0:identifier>oai:zbmath.org:5346175</ns0:identifier><ns0:datestamp>2008-09-23T14:10:58Z</ns0:datestamp><ns0:setSpec>82</ns0:setSpec></ns0:header><ns0:metadata><ns1:zbmath><ns2:document_id>5346175</ns2:document_id><ns2:time>2008-09-23T14:10:58Z</ns2:time><ns2:document_type>j</ns2:document_type><ns2:publication_year>2008</ns2:publication_year><ns2:author>Moskalenko, V. A.; Entel, P.; Digor, D. F.; Dohotaru, L. A.; Citro, R.</ns2:author><ns2:document_title>A diagram approach to the strong coupling in the single-impurity Anderson model</ns2:document_title><ns2:source>Theor. Math. Phys. 155, No. 3, 914-935 (2008); translation from Teor. Mat. Fiz. 155, No. 3, 474-497 (2008).</ns2:source><ns2:classifications><ns2:classification>82B44</ns2:classification></ns2:classifications><ns2:keywords><ns2:keyword>strong correlation</ns2:keyword><ns2:keyword>spectral function</ns2:keyword><ns2:keyword>Dyson equation</ns2:keyword><ns2:keyword>Green\\'s function</ns2:keyword><ns2:keyword>Anderson impurity model</ns2:keyword></ns2:keywords><ns2:language>English</ns2:language><ns2:pagination>914-935</ns2:pagination><ns2:doi>10.1007/s11232-008-0077-9</ns2:doi><ns2:review><ns2:review_text>zbMATH Open Web Interface contents unavailable due to conflicting licenses.</ns2:review_text><ns2:review_language>English</ns2:review_language><ns2:review_type>summary</ns2:review_type></ns2:review><ns2:serial><ns2:serial_title>Theoretical and Mathematical Physics</ns2:serial_title><ns2:serial_publisher>Springer US, New York, NY; Pleiades Publishing, New York, NY; MAIK ``Nauka/Interperiodica\\'\\', Moscow</ns2:serial_publisher></ns2:serial><ns2:references><ns2:reference><ns2:text>P. W. Anderson, Phys. Rev., 124, 41--53 (1961).</ns2:text></ns2:reference><ns2:reference><ns2:text>P. A. Wolff, Phys. Rev., 124, 1030--1035 (1961).</ns2:text></ns2:reference><ns2:reference><ns2:text>A. M. Clogston, Phys. Rev., 125, 439--443 (1962).</ns2:text></ns2:reference><ns2:reference><ns2:text>A. M. Clogston et al., Phys. Rev., 125, 541--552 (1962).</ns2:text></ns2:reference><ns2:reference><ns2:text>A. M. Clogston, Phys. Rev., 136, A1417--A1427 (1964).</ns2:text></ns2:reference><ns2:reference><ns2:text>A. P. Klein and A. J. Heeger, Phys. Rev., 144, 458--468 (1966).</ns2:text></ns2:reference><ns2:reference><ns2:text>Duk-Joo Kim, Phys. Rev., 146, 455--463 (1966).</ns2:text></ns2:reference><ns2:reference><ns2:text>D. R. Hamann, Phys. Rev., 158, 570--580 (1967).</ns2:text></ns2:reference><ns2:reference><ns2:text>P. E. Bloomfield and D. R. Hamann, Phys. Rev., 164, 856--865 (1967).</ns2:text></ns2:reference><ns2:reference><ns2:text>A. Theumann, Phys. Rev., 178, 978--984 (1969).</ns2:text></ns2:reference><ns2:reference><ns2:text>K. Ueda, J. Phys. Soc. Japan, 47, 811--816 (1979).</ns2:text></ns2:reference><ns2:reference><ns2:text>C. Lacroix, J. Phys. F: Metal. Phys., 11, 2389--2397 (1981); J. Appl. Phys., 53, 2131--2133 (1982).</ns2:text></ns2:reference><ns2:reference><ns2:text>J. W. Wilkins, \\'\\'Densities of states in valence fluctuators,\\'\\' in: Valence Instabilities (Proc. Intl. Conf., Zurich, Switzerland, April 13--16, 1982, P. Wachter and H. Boppart, eds.), North-Holland, Amsterdam (1982), p. 1.</ns2:text></ns2:reference><ns2:reference><ns2:text>C. Lacroix, in: Valence Instabilities (Proc. Intl. Conf., Zurich, Switzerland, April 13--16, 1982, P. Wachter and H. Boppart, eds.), North-Holland, Amsterdam (1982), pp. 61.</ns2:text></ns2:reference><ns2:reference><ns2:text>R. M. Fye and J. E. Hirsch, Phys. Rev. B, 38, 433--441 (1988).</ns2:text></ns2:reference><ns2:reference><ns2:text>G. D. Mahan, Many-Particle Physics (3rd ed.), Kluwer Academic, New York (2000).</ns2:text></ns2:reference><ns2:reference><ns2:text>J. R. Schrieffer and P. A. Wolff, Phys. Rev., 149, 491--492 (1966).</ns2:text></ns2:reference><ns2:reference><ns2:text>Y. Nagaoka, Phys. Rev., 138, A1112--A1120 (1965).</ns2:text></ns2:reference><ns2:reference><ns2:text>C. Hewson, The Kondo Problem to Heavy Fermions, Cambridge Univ. Press, Cambridge (1993).</ns2:text></ns2:reference><ns2:reference><ns2:text>N. E. Bickers, Rev. Modern Phys., 59, 845--939 (1987).</ns2:text></ns2:reference><ns2:reference><ns2:text>D. S. Falk and M. Fowler, Phys. Rev., 158, 567--570 (1967).</ns2:text></ns2:reference><ns2:reference><ns2:text>M. Fowler, Phys. Rev., 160, 463--467 (1967).</ns2:text></ns2:reference><ns2:reference><ns2:text>N. N. Bogolyubov and S. V. Tjablikov, Sov. Phys. Dokl., 4, 589--593 (1959).</ns2:text></ns2:reference><ns2:reference><ns2:text>D. N. Zubarev, Sov. Phys. Uspekhi, 3, 320--345 (1960).</ns2:text></ns2:reference><ns2:reference><ns2:text>V. L. Bonch-Bruevich and S. V. Tyablikov, The Green Function Method in Statistical Mechanics [in Russian], Fizmatlit, Moscow (1961); English transl., North-Holland, Amsterdam (1962).</ns2:text><ns2:ref_id>3167044</ns2:ref_id></ns2:reference><ns2:reference><ns2:text>D. N. Zubarev and Yu. A. Tserkovnikov, Proc. Steklov Inst. Math., 139--185 (1988).</ns2:text></ns2:reference><ns2:reference><ns2:text>J. A. Appelbaum and D. R. Penn, Phys. Rev., 188, 874--887 (1969); Phys. Rev. B, 3, 942--953 (1971).</ns2:text></ns2:reference><ns2:reference><ns2:text>Y. Meir, N. S. Wingreen, and P. A. Lee, Phys. Rev. Lett., 66, 3048--3051 (1991).</ns2:text></ns2:reference><ns2:reference><ns2:text>V. Kashcheyevs, A. Aharony, and O. Entin-Wohlman, Phys. Rev. B, 73, 125338 (2006).</ns2:text></ns2:reference><ns2:reference><ns2:text>H. Mamada and F. Takano, Progr. Theoret. Phys., 43, 1458--1479 (1970).</ns2:text></ns2:reference><ns2:reference><ns2:text>G. S. Poo, Phys. Rev. B, 11, 4606--4613, 4614--4622 (1975).</ns2:text></ns2:reference><ns2:reference><ns2:text>A. F. Barabanov, K. A. Kikoin, and L. A. Maksimov, Theor. Math. Phys., 20, 881--892 (1974).</ns2:text></ns2:reference><ns2:reference><ns2:text>H. Schoeller and G. Sch&#246;n, Phys. Rev. B, 50, 18436--18452 (1994).</ns2:text></ns2:reference><ns2:reference><ns2:text>J. K&#246;nig, J. Schmid, and H. Schoeller, Phys. Rev. B, 54, 16820--16837 (1996).</ns2:text></ns2:reference><ns2:reference><ns2:text>N. Sivan and N. G. Wingreen, Phys. Rev. B, 54, 11622--11629 (1996).</ns2:text></ns2:reference><ns2:reference><ns2:text>J. E. Hirsch and R. M. Fye, Phys. Rev. Lett., 56, 2521--2524 (1986); R. N. Silver, J. E. Gubernatis, D. S. Sivia, and M. Jarrell, Phys. Rev. Lett., 65, 496--499 (1990).</ns2:text></ns2:reference><ns2:reference><ns2:text>K. G. Wilson, Rev. Modern Phys., 47, 773--840 (1975); T. A. Costi, A. C. Hewson, and V. Zlatic, J. Phys.: Condens. Matter, 6, 2519--2558 (1994); W. Hofstetter, Phys. Rev. Lett., 85, 1508--1511 (2000).</ns2:text></ns2:reference><ns2:reference><ns2:text>A. Georges, G. Kotliar, W. Krauth, and M. J. Rozenberg, Rev. Modern Phys., 68, 13--125 (1996).</ns2:text></ns2:reference><ns2:reference><ns2:text>G. Kotliar and D. Vollhardt, Phys. Today, 57, 53--59 (2004).</ns2:text></ns2:reference><ns2:reference><ns2:text>J. Hubbard, Proc. Roy. Soc. Ser. A, 276, 238--257 (1963).</ns2:text></ns2:reference><ns2:reference><ns2:text>J. Hubbard, Proc. Roy. Soc. Ser. A, 281, 401--419 (1964).</ns2:text></ns2:reference><ns2:reference><ns2:text>J. Hubbard, Proc. Roy. Soc. Ser. A, 285, 542--560 (1965).</ns2:text></ns2:reference><ns2:reference><ns2:text>M. I. Vladimir and V. A. Moskalenko, Theor. Math. Phys., 82, 301--308 (1990).</ns2:text></ns2:reference><ns2:reference><ns2:text>S. I. Vakaru, M. I. Vladimir, and V. A. Moskalenko, Theor. Math. Phys., 85, 1185--1192 (1990).</ns2:text></ns2:reference><ns2:reference><ns2:text>N. N. Bogolyubov and V. A. Moskalenko, Theor. Math. Phys., 86, 10--19 (1991).</ns2:text><ns2:ref_id>1769891</ns2:ref_id><ns2:ref_classifications><ns2:ref_classification>82B27</ns2:ref_classification><ns2:ref_classification>81V70</ns2:ref_classification><ns2:ref_classification>82D55</ns2:ref_classification></ns2:ref_classifications></ns2:reference><ns2:reference><ns2:text>N. N. Bogolyubov and V. A. Moskalenko, Theor. Math. Phys., 92, 820--825 (1992).</ns2:text></ns2:reference><ns2:reference><ns2:text>V. A. Moskalenko, P. Entel, and D. F. Digor, Phys. Rev. B, 59, 619--635 (1999).</ns2:text></ns2:reference></ns2:references><ns2:rights>Content generated by zbMATH Open, such as reviews,\\n    classifications, software, or author disambiguation data,\\n    are distributed under CC-BY-SA 4.0. This defines the license for the\\n    whole dataset, which also contains non-copyrighted bibliographic\\n    metadata and reference data derived from I4OC (CC0). Note that the API\\n    only provides a subset of the data in the zbMATH Open Web interface. In\\n    several cases, third-party information, such as abstracts, cannot be\\n    made available under a suitable license through the API. In those cases,\\n    we replaced the data with the string \\'zbMATH Open Web Interface contents\\n    unavailable due to conflicting licenses.\\' </ns2:rights></ns1:zbmath></ns0:metadata></ns0:record>'\n"
     ]
    }
   ],
   "source": [
    "print(ET.tostring(root))"
   ]
  },
  {
   "cell_type": "code",
   "execution_count": null,
   "id": "205b2aa7-c9a5-4f60-bff9-19f35834d427",
   "metadata": {},
   "outputs": [],
   "source": []
  }
 ],
 "metadata": {
  "kernelspec": {
   "display_name": "Python 3",
   "language": "python",
   "name": "python3"
  },
  "language_info": {
   "codemirror_mode": {
    "name": "ipython",
    "version": 3
   },
   "file_extension": ".py",
   "mimetype": "text/x-python",
   "name": "python",
   "nbconvert_exporter": "python",
   "pygments_lexer": "ipython3",
   "version": "3.6.9"
  }
 },
 "nbformat": 4,
 "nbformat_minor": 5
}
