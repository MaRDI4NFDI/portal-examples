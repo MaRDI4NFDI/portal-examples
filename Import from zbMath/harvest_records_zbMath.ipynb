{
 "cells": [
  {
   "cell_type": "markdown",
   "id": "03a5fefa-742f-4baf-9661-3e9f0e5a48e2",
   "metadata": {},
   "source": [
    "# Harvest records from zbMath\n",
    "This notebook does basically the same as the [Access data from zbMath](access_data_zbMath.ipynb), but uses the ListRecords endpoint to harvest data *en masse*. This is both more efficient as less http requests are sent, and easier to programm.\n",
    "\n",
    "Data in [zbMath Open](https://www.zbmath.org/) can be accessed through the [zbMath Open OAI-PMH](https://oai.zbmath.org/) service, that implements the Open Archives Initiative Protocol for Metadata Harvesting (OAI-PMH) [Schubotz and Teschke, 2021]. The service is open and subject to certain [terms and conditions](https://oai.zbmath.org/static/terms-and-conditions.html).\n",
    "\n",
    "**Contrary to the documentation, the API always returns XML, not JSON.**"
   ]
  },
  {
   "cell_type": "code",
   "execution_count": 7,
   "id": "8de33f79-2688-497a-9ed5-9d4607b96109",
   "metadata": {},
   "outputs": [],
   "source": [
    "# API URLs\n",
    "API_URL='https://oai.zbmath.org/v1/' # base URL of the API\n",
    "LIST_IDENTIFIERS=\"{}?verb=ListIdentifiers&metadataPrefix=oai_zb_preview\".format(API_URL) # ListIdentifiers endpoint\n",
    "LIST_RECORDS=\"{}?verb=ListRecords&metadataPrefix=oai_zb_preview\".format(API_URL) # ListRecords endpoint\n",
    "GET_RECORD=\"{}?verb=GetRecord&metadataPrefix=oai_zb_preview\".format(API_URL) # GetRecord endpoint\n",
    "\n",
    "# API namespaces\n",
    "OAI_NS = 'http://www.openarchives.org/OAI/2.0/' # the OAI namespace\n",
    "OAI_ZB_PREVIEW_NS = 'https://zbmath.org/OAI/2.0/oai_zb_preview/'\n",
    "ZBMATH_NS = 'https://zbmath.org/zbmath/elements/1.0/'\n",
    "\n",
    "# text shown in zbMath Open when there's a license conflict\n",
    "CONFLICT_TXT = 'zbMATH Open Web Interface contents unavailable due to conflicting licenses.'\n",
    "# which tags to keep\n",
    "TAGS = ['author', 'author_ids', 'document_title', 'source', 'classifications', 'keywords', 'doi', 'publication_year']"
   ]
  },
  {
   "cell_type": "markdown",
   "id": "4d917cf0-3078-4d53-b376-4a8e535f9522",
   "metadata": {},
   "source": [
    "## Get a list of records"
   ]
  },
  {
   "cell_type": "code",
   "execution_count": 8,
   "id": "94c2e179-f4b2-4aae-9636-ef4157e37d5e",
   "metadata": {},
   "outputs": [],
   "source": [
    "import requests\n",
    "\n",
    "date_from = '2021-01-01T00%3A00%3A00Z'\n",
    "date_until = '2022-01-01T00%3A00%3A00Z'\n",
    "REQUEST_URL=\"{}&from={}&until={}\".format(LIST_RECORDS, date_from, date_until)\n",
    "\n",
    "# get data from API\n",
    "headers = {'accept': 'text/xml'} # this has NO effect\n",
    "all_records_xml = requests.get(REQUEST_URL, headers)\n",
    "\n",
    "# save raw data in local file\n",
    "with open('data/all_records.xml', 'w') as f:\n",
    "    f.write(all_records_xml.text)"
   ]
  },
  {
   "cell_type": "markdown",
   "id": "09391da0-e2d5-4c14-a057-ae819e19ecdd",
   "metadata": {},
   "source": [
    "Parse the response into an XML tree, and put the result into a pandas data frame."
   ]
  },
  {
   "cell_type": "code",
   "execution_count": 11,
   "id": "7789917a-d17e-401a-ad80-45bae8fa5d70",
   "metadata": {},
   "outputs": [],
   "source": [
    "import xml.etree.ElementTree as ET\n",
    "import pandas as pd\n",
    "\n",
    "def ns(tag_name, namespace=OAI_NS):\n",
    "    \"\"\"\n",
    "    Returns a fully qualified tag name.\n",
    "    @param namespace URL of a namespace|None (OAI_NS is default)\n",
    "    \"\"\"\n",
    "    return '{{{}}}{}'.format(namespace, tag_name)\n",
    "\n",
    "#parse the tree, get a list of records\n",
    "tree = ET.parse('data/all_records.xml')\n",
    "list_ids = tree.getroot().find(ns('ListRecords'))\n",
    "records = list_ids.findall(ns('record'))"
   ]
  },
  {
   "cell_type": "markdown",
   "id": "cdaeef06-d329-45f9-8cb9-407748fd45ff",
   "metadata": {},
   "source": [
    "Define a function to parse records XML into a python dict"
   ]
  },
  {
   "cell_type": "code",
   "execution_count": 18,
   "id": "f479048b-b4c7-406c-a07e-138c2efbecd8",
   "metadata": {},
   "outputs": [],
   "source": [
    "def parse_record(xml_record, verbose=False):\n",
    "    \"\"\"\n",
    "    Parse bibliographic record details from XML Element.\n",
    "    \"\"\"\n",
    "    new_entry = {}\n",
    "    # zbMath identifier\n",
    "    zb_id = xml_record.find(ns('header')).find(ns('identifier')).text \n",
    "    new_entry['id'] = zb_id\n",
    "    # read tags\n",
    "    zb_preview = xml_record.find(ns('metadata')).find(ns('zbmath', OAI_ZB_PREVIEW_NS))\n",
    "    for tag in TAGS:\n",
    "        value = zb_preview.find(ns(tag, ZBMATH_NS))\n",
    "        if value is not None:\n",
    "            if len(value):\n",
    "                # element has children\n",
    "                texts = []\n",
    "                for child in value:\n",
    "                    texts.append(child.text)\n",
    "                text = ';'.join(texts) # multiple values are rendered as a semicolon-separated string\n",
    "            else:\n",
    "                # element content is a simple text\n",
    "                text = zb_preview.find(ns(tag, ZBMATH_NS)).text\n",
    "                \n",
    "            if text == CONFLICT_TXT:\n",
    "                # License conflict\n",
    "                if verbose:\n",
    "                    print('Licensing conflict for id \"{}\" tag \"{}\"'.format(zb_id, tag))\n",
    "                return None\n",
    "            \n",
    "            new_entry[tag] = text\n",
    "    return new_entry"
   ]
  },
  {
   "cell_type": "markdown",
   "id": "c3ee3a2b-0d53-4c5a-8e25-a29d83388500",
   "metadata": {},
   "source": [
    "Parse all records in the data set, put them into a pandas data frame"
   ]
  },
  {
   "cell_type": "code",
   "execution_count": 23,
   "id": "97b22d60-91d5-4d41-823f-2a3c1af1fe34",
   "metadata": {},
   "outputs": [
    {
     "name": "stdout",
     "output_type": "stream",
     "text": [
      "Imported 70 entries (discarded 30 for licensing conflicts)\n"
     ]
    }
   ],
   "source": [
    "# loop through all entries\n",
    "all_details = []\n",
    "for record in records:\n",
    "    details = parse_record(record)\n",
    "    if details:\n",
    "        all_details.append(details)\n",
    "\n",
    "# convert to data frame\n",
    "records_df = pd.DataFrame(all_details)\n",
    "if 'id' not in records_df.columns:\n",
    "    print(\"Problem reading zbMath id's. No data?\")\n",
    "else:\n",
    "    records_df.set_index('id', inplace=True)\n",
    "\n",
    "print('Imported {} entries (discarded {} for licensing conflicts)'.format(len(records_df), len(records) - len(records_df) ))"
   ]
  },
  {
   "cell_type": "markdown",
   "id": "14213a8e-a32b-4fd4-993d-088dff7a9834",
   "metadata": {},
   "source": [
    "Save the data for later usage"
   ]
  },
  {
   "cell_type": "code",
   "execution_count": 24,
   "id": "4987db36-2116-470c-9d3f-a23cd214a4ac",
   "metadata": {},
   "outputs": [],
   "source": [
    "records_df.to_csv('data/records.csv')"
   ]
  },
  {
   "cell_type": "code",
   "execution_count": null,
   "id": "6c1eeb46-60bf-4673-b28d-3bd560e35f04",
   "metadata": {},
   "outputs": [],
   "source": []
  }
 ],
 "metadata": {
  "kernelspec": {
   "display_name": "Python 3 (ipykernel)",
   "language": "python",
   "name": "python3"
  },
  "language_info": {
   "codemirror_mode": {
    "name": "ipython",
    "version": 3
   },
   "file_extension": ".py",
   "mimetype": "text/x-python",
   "name": "python",
   "nbconvert_exporter": "python",
   "pygments_lexer": "ipython3",
   "version": "3.9.7"
  }
 },
 "nbformat": 4,
 "nbformat_minor": 5
}
