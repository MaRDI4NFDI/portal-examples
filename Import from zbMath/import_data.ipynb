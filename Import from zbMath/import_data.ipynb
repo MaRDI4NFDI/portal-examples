{
 "cells": [
  {
   "cell_type": "markdown",
   "id": "fcf862c8-5d08-4539-be78-54a78479f7d5",
   "metadata": {},
   "source": [
    "# Import data from zbMath\n",
    "Data in [zbMath Open](https://www.zbmath.org/) can be accessed through the [zbMath Open OAI-PMH](https://oai.zbmath.org/) service, that implements the Open Archives Initiative Protocol for Metadata Harvesting (OAI-PMH) [Schubotz and Teschke, 2021]. The service is open and subject to certain [terms and conditions](https://oai.zbmath.org/static/terms-and-conditions.html).\n",
    "\n",
    "**Contrary to the documentation, the API always returns XML, not JSON.**"
   ]
  },
  {
   "cell_type": "markdown",
   "id": "385a2100-c419-43fe-9e9b-7aa250019be1",
   "metadata": {},
   "source": [
    "## Get a list of publication Id's\n",
    "The API returns XML as text, no matter what."
   ]
  },
  {
   "cell_type": "code",
   "execution_count": 1,
   "id": "0714ffd5-a8bd-4612-9e33-960303740f90",
   "metadata": {},
   "outputs": [
    {
     "ename": "NameError",
     "evalue": "name 'resp_text' is not defined",
     "output_type": "error",
     "traceback": [
      "\u001b[0;31m---------------------------------------------------------------------------\u001b[0m",
      "\u001b[0;31mNameError\u001b[0m                                 Traceback (most recent call last)",
      "\u001b[0;32m/tmp/ipykernel_86/3038160694.py\u001b[0m in \u001b[0;36m<module>\u001b[0;34m\u001b[0m\n\u001b[1;32m      8\u001b[0m \u001b[0mresponse\u001b[0m \u001b[0;34m=\u001b[0m \u001b[0mrequests\u001b[0m\u001b[0;34m.\u001b[0m\u001b[0mget\u001b[0m\u001b[0;34m(\u001b[0m\u001b[0mREQUEST_URL\u001b[0m\u001b[0;34m,\u001b[0m \u001b[0mheaders\u001b[0m\u001b[0;34m)\u001b[0m\u001b[0;34m\u001b[0m\u001b[0;34m\u001b[0m\u001b[0m\n\u001b[1;32m      9\u001b[0m \u001b[0;32mwith\u001b[0m \u001b[0mopen\u001b[0m\u001b[0;34m(\u001b[0m\u001b[0;34m'data/response.xml'\u001b[0m\u001b[0;34m,\u001b[0m \u001b[0;34m'w'\u001b[0m\u001b[0;34m)\u001b[0m \u001b[0;32mas\u001b[0m \u001b[0mf\u001b[0m\u001b[0;34m:\u001b[0m\u001b[0;34m\u001b[0m\u001b[0;34m\u001b[0m\u001b[0m\n\u001b[0;32m---> 10\u001b[0;31m     \u001b[0mf\u001b[0m\u001b[0;34m.\u001b[0m\u001b[0mwrite\u001b[0m\u001b[0;34m(\u001b[0m\u001b[0mresp_text\u001b[0m\u001b[0;34m)\u001b[0m\u001b[0;34m\u001b[0m\u001b[0;34m\u001b[0m\u001b[0m\n\u001b[0m",
      "\u001b[0;31mNameError\u001b[0m: name 'resp_text' is not defined"
     ]
    }
   ],
   "source": [
    "import requests\n",
    "\n",
    "API_URL='https://oai.zbmath.org/v1/' # the API endpoint\n",
    "REQUEST_URL=\"{}?{}\".format(API_URL, 'verb=ListIdentifiers&from=2022-01-01T00%3A00%3A00Z&metadataPrefix=oai_zb_preview')\n",
    "\n",
    "headers = {'accept': 'text/xml'} # this has NO effect\n",
    "\n",
    "response = requests.get(REQUEST_URL, headers)\n",
    "with open('data/response.xml', 'w') as f:\n",
    "    f.write(response.text)"
   ]
  },
  {
   "cell_type": "markdown",
   "id": "504d03ed-c287-433e-8d31-6d82c1e3181a",
   "metadata": {},
   "source": [
    "Parse the response into an XML tree, and put the result into a pandas dataframe."
   ]
  },
  {
   "cell_type": "code",
   "execution_count": null,
   "id": "8630f15d-18e5-4b20-80a0-82051c513269",
   "metadata": {},
   "outputs": [],
   "source": [
    "import xml.etree.ElementTree as ET\n",
    "import pandas as pd\n",
    "\n",
    "def ns(tag_name):\n",
    "    \"\"\"Returns a fully qualified tag name\"\"\"\n",
    "    oai_ns = 'http://www.openarchives.org/OAI/2.0/' # the OAI namespace\n",
    "    return '{{{}}}{}'.format(oai_ns, tag_name)\n",
    "\n",
    "#parse the tree, get a list of identifiers\n",
    "tree = ET.parse('data/response.xml')\n",
    "list_ids = tree.getroot().find(ns('ListIdentifiers'))\n",
    "entries = list_ids.findall(ns('header'))\n",
    "\n",
    "# put identifiers in a pandas dataframe\n",
    "entries_df = pd.DataFrame(columns=['id'])\n",
    "for entry in entries:\n",
    "    entry_id = entry.find(ns('identifier')).text\n",
    "    entries_df = entries_df.append({'id': entry_id}, ignore_index=True)\n",
    "entries_df.head()"
   ]
  },
  {
   "cell_type": "markdown",
   "id": "80875cd7-7b0f-4169-b401-47603df3c1e8",
   "metadata": {},
   "source": [
    "## References\n",
    "M. Schubotz and O. Teschke, zbMATH Open: Towards standardized machine interfaces to expose bibliographic metadata. EMS Magazine 119, 50–53 (2021). https://euromathsoc.org/magazine/articles/mag-12\n",
    "\n"
   ]
  },
  {
   "cell_type": "code",
   "execution_count": null,
   "id": "e1493e9b-38a5-45a3-8580-a2050cb06826",
   "metadata": {},
   "outputs": [],
   "source": []
  }
 ],
 "metadata": {
  "kernelspec": {
   "display_name": "Python 3 (ipykernel)",
   "language": "python",
   "name": "python3"
  },
  "language_info": {
   "codemirror_mode": {
    "name": "ipython",
    "version": 3
   },
   "file_extension": ".py",
   "mimetype": "text/x-python",
   "name": "python",
   "nbconvert_exporter": "python",
   "pygments_lexer": "ipython3",
   "version": "3.9.7"
  }
 },
 "nbformat": 4,
 "nbformat_minor": 5
}
