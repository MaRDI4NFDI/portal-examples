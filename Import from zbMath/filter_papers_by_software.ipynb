{
 "cells": [
  {
   "cell_type": "markdown",
   "id": "d37a4976-197a-4cc2-93cb-27d8c1083b60",
   "metadata": {},
   "source": [
    "# Filter papers by software"
   ]
  },
  {
   "cell_type": "code",
   "execution_count": 1,
   "id": "69e2769d-be70-4285-8965-5a06b6fd1599",
   "metadata": {},
   "outputs": [],
   "source": [
    "# load utilities shared between notebooks\n",
    "%run definitions_and_functions.ipynb"
   ]
  },
  {
   "cell_type": "markdown",
   "id": "1ef34d8c-61d9-440a-a8de-c0b5fd59573b",
   "metadata": {},
   "source": [
    "There are millions of references to papers in the zbMath database. We just need (for now) those related to the list of mathematical software (data/swMATH-software-list.csv) that has been imported into the MaRDI-Portal."
   ]
  },
  {
   "cell_type": "code",
   "execution_count": 2,
   "id": "7822c109-1516-4591-9126-4cead1fa6951",
   "metadata": {
    "tags": []
   },
   "outputs": [],
   "source": [
    "import pandas as pd\n",
    "\n",
    "# load the list of swMath software\n",
    "software_df = pd.read_csv('data/swMATH-software-list.csv')\n",
    "softwares = software_df['Len'].tolist()"
   ]
  },
  {
   "cell_type": "markdown",
   "id": "03766153-a8ce-4549-9ec1-c7323553b2ec",
   "metadata": {},
   "source": [
    "**I'm downloading all attributes of record, since it's unclear as of now which attributes will be imported in wikibase.**"
   ]
  },
  {
   "cell_type": "code",
   "execution_count": 3,
   "id": "a30ff785-907f-4414-885c-4594ef9e0d6d",
   "metadata": {},
   "outputs": [
    {
     "name": "stdout",
     "output_type": "stream",
     "text": [
      "zbMath paper id and ['author', 'author_ids', 'document_title', 'source', 'classifications', 'language', 'links', 'keywords', 'doi', 'publication_year']\n"
     ]
    }
   ],
   "source": [
    "print('zbMath paper id and', TAGS)"
   ]
  },
  {
   "cell_type": "markdown",
   "id": "f617c252-4b9a-41ce-a84f-817459470d47",
   "metadata": {},
   "source": [
    "## Get records for the first 1000 software entries\n",
    "Go through the list of software, get the records from the zbMath Open API, put them in a data frame."
   ]
  },
  {
   "cell_type": "markdown",
   "id": "45426894-49d1-477a-ad50-dd521d89af8d",
   "metadata": {},
   "source": [
    "Define a function to parse all records in the data set, put them into a pandas data frame\n",
    "\n",
    "**Throws a server side error for some software (e.g. FORTRAN) mailed OAI suport about this. Error is caused by empty response, so can be catched and ignored.**"
   ]
  },
  {
   "cell_type": "code",
   "execution_count": 4,
   "id": "1212f48f-e985-4f3f-af5d-eace0b0afe3f",
   "metadata": {},
   "outputs": [],
   "source": [
    "import xml.etree.ElementTree as ET\n",
    "import pandas as pd\n",
    "\n",
    "def parse_record_list(records, verbose=False):\n",
    "    \"\"\"\n",
    "    Parses a list of 'record' XML elements.\n",
    "    @return pandas DataFrame or None (if no suitably licensed data was found)\n",
    "    \"\"\"\n",
    "    # loop through all entries\n",
    "    all_details = []\n",
    "    for record in records:\n",
    "        details = parse_record(record)\n",
    "        if details:\n",
    "            all_details.append(details)\n",
    "\n",
    "    # convert to data frame\n",
    "    records_df = pd.DataFrame(all_details)\n",
    "    if 'id' not in records_df.columns:\n",
    "        if verbose: print(\"Problem reading zbMath id's. No suitably licensed data?\")\n",
    "        return None\n",
    "    else:\n",
    "        records_df.set_index('id', inplace=True)\n",
    "        if verbose:\n",
    "            print('Imported {} entries (discarded {} for licensing conflicts)'.format(len(records_df), len(records) - len(records_df) ))\n",
    "        \n",
    "    return records_df"
   ]
  },
  {
   "cell_type": "markdown",
   "id": "c8cfb724-26f2-4eca-8d25-0e6320c99eee",
   "metadata": {},
   "source": [
    "\n",
    "\n",
    "Only process the first 1000 entries, as there are +- 40000 software entries in the list (processing the first 1000 entries took 5:34, so total would be +- 3h 40 min).\n",
    "\n",
    "If there's an API error, log and continue.\n",
    "\n",
    "**Resumption tokens are not working, mailed API support about this.**"
   ]
  },
  {
   "cell_type": "code",
   "execution_count": 5,
   "id": "20f72871-5981-4dbe-a5ce-c0fe9bc9a949",
   "metadata": {},
   "outputs": [
    {
     "name": "stdout",
     "output_type": "stream",
     "text": [
      "processed 100/1000 software entries\n",
      "processed 200/1000 software entries\n",
      "processed 300/1000 software entries\n",
      "processed 400/1000 software entries\n",
      "processed 500/1000 software entries\n",
      "processed 600/1000 software entries\n",
      "processed 700/1000 software entries\n",
      "processed 800/1000 software entries\n",
      "processed 900/1000 software entries\n",
      "Done. Check data/api.log for errors\n"
     ]
    }
   ],
   "source": [
    "import requests\n",
    "from xml.etree.ElementTree import ParseError\n",
    "\n",
    "def parse_pages(REQUEST_URL, headers):\n",
    "    \"\"\"\n",
    "    Send request to API, parse the result, paginate.\n",
    "    @return a list of 'record' XML elements\n",
    "    \"\"\"\n",
    "    records = []\n",
    "    pager_token = None\n",
    "    while True:\n",
    "        # get data from API\n",
    "        endpoint = REQUEST_URL\n",
    "        if pager_token is not None: endpoint += '&resumptionToken='+resumptionToken\n",
    "        all_records_xml = requests.get(endpoint, headers)\n",
    "        if all_records_xml.status_code == 500: raise ZbMathOpenAPIException(all_records_xml.reason)\n",
    "\n",
    "        # parse the tree, get a list of records\n",
    "        tree = ET.fromstring(all_records_xml.text)\n",
    "        list_ids = tree.find(ns('ListRecords')) # when parsing XML from string, don't call getroot()\n",
    "        records += list_ids.findall(ns('record'))\n",
    "\n",
    "        # paginate\n",
    "        pager = tree.find(ns('ListRecords')).find(ns('resumptionToken'))\n",
    "        if pager:\n",
    "            pager_token = pager.text # token for next page\n",
    "        else: \n",
    "            break # no more pages\n",
    "    return records\n",
    "\n",
    "MAX_ENTRIES = 1000 # number of software entries to process\n",
    "all_details = pd.DataFrame() # the final data frame\n",
    "counter = 0\n",
    "for software in softwares[:MAX_ENTRIES]:\n",
    "    headers = {'accept': 'text/xml'} # this has no effect\n",
    "    REQUEST_URL=\"{}&filter=software:{}\".format(FILTER, software)\n",
    "    \n",
    "    try:\n",
    "        # call API, get list of 'record' XML elements\n",
    "        records = parse_pages(REQUEST_URL, headers)\n",
    "            \n",
    "        # parse record details into a data frame\n",
    "        records_df = parse_record_list(records)\n",
    "        \n",
    "        # add name of software and append new records to final data frame        \n",
    "        if records_df is not None:\n",
    "            records_df['software'] = software\n",
    "            all_details = all_details.append(records_df)\n",
    "            # log success\n",
    "            log('Processing {}: Imported {} entries (discarded {} for licensing conflicts)'.format(software, len(records_df), len(records) - len(records_df) ))\n",
    "        else:\n",
    "            # no suitable records found\n",
    "            log(\"[WARNING] Processing {}: Problem reading zbMath id's. No data suitably licensed data?\".format(software))\n",
    "            \n",
    "        # print progress feedback\n",
    "        counter += 1\n",
    "        if counter % 100 == 0: print(\"processed {}/{} software entries\".format(counter, MAX_ENTRIES))\n",
    "            \n",
    "    except ZbMathOpenAPIException as e:\n",
    "        # if the API throws a server-side error, log and continue\n",
    "        log(\"[ERROR] While reading filter=software:{} from zbMath Open API help/filter endpoint: {}\".format(software, e))\n",
    "    except ParseError as e:\n",
    "        # if the API returns wrong XML, log and continue\n",
    "        log(\"[ERROR] While reading filter=software:{} from zbMath Open API help/filter endpoint: {}\".format(software, e))\n",
    "\n",
    "print(\"Done. Check {} for errors\".format(IMPORT_LOG))"
   ]
  },
  {
   "cell_type": "markdown",
   "id": "3b18c199-8f21-492f-b4a8-c75315ea0fd8",
   "metadata": {},
   "source": [
    "Save data in compressed file for later use"
   ]
  },
  {
   "cell_type": "code",
   "execution_count": 6,
   "id": "8d0614f8-a9bd-4f78-b674-83042edc72db",
   "metadata": {},
   "outputs": [],
   "source": [
    "all_details.to_csv('data/all_records.csv.zip', compression=dict(method='zip', archive_name='all_records.csv'))"
   ]
  },
  {
   "cell_type": "markdown",
   "id": "f3154c29-d2cd-4c1b-a4b1-48889b5ca3a3",
   "metadata": {},
   "source": [
    "### Cleanup\n",
    "Drop incomplete entries: no author or no author ids or no title"
   ]
  },
  {
   "cell_type": "code",
   "execution_count": 7,
   "id": "87352e81-4ac8-4641-8a80-d20a58b19742",
   "metadata": {},
   "outputs": [
    {
     "name": "stdout",
     "output_type": "stream",
     "text": [
      "Read data frame from file: rows 11828, columns 12\n",
      "950 incomplete entries were removed\n"
     ]
    }
   ],
   "source": [
    "import pandas as pd\n",
    "\n",
    "# re-read the data from file\n",
    "all_details = pd.read_csv('data/all_records.csv.zip')\n",
    "print(\"Read data frame from file: rows {}, columns {}\".format(all_details.shape[0], all_details.shape[1]))\n",
    "\n",
    "# drop entries without an author or a title\n",
    "idx = (all_details.author.isna()) | all_details.author_ids.isna() | (all_details.document_title.isna())\n",
    "all_details = all_details[~idx]\n",
    "print('{} incomplete entries were removed'.format(idx.sum()))"
   ]
  },
  {
   "cell_type": "markdown",
   "id": "94e49bdb-b8db-49f9-be4d-67d1f8878a00",
   "metadata": {},
   "source": [
    "## Consolidate data\n",
    "Prepare data for import into wikibase."
   ]
  },
  {
   "cell_type": "markdown",
   "id": "ebdf8887-6892-485c-a8ed-15b2de491311",
   "metadata": {},
   "source": [
    "### A data frame with all the papers\n",
    "Drop duplicates: same combination of authors-title-year"
   ]
  },
  {
   "cell_type": "code",
   "execution_count": 8,
   "id": "66a5322b-e5a0-4621-944f-b9a564bf3f7e",
   "metadata": {},
   "outputs": [
    {
     "name": "stdout",
     "output_type": "stream",
     "text": [
      "Found 9577 papers. 1301 duplicated entries were removed\n"
     ]
    }
   ],
   "source": [
    "all_papers = all_details\n",
    "idx = all_papers.duplicated(subset=['author', 'document_title', 'publication_year'])\n",
    "all_papers = all_papers[~idx]\n",
    "print('Found {} papers. {} duplicated entries were removed'.format(len(all_papers), idx.sum()))\n",
    "# index by zbMath paper id\n",
    "all_papers.set_index('id', inplace=True) \n",
    "all_papers.to_csv('data/all_papers.csv.zip', compression=dict(method='zip', archive_name='all_papers.csv'))"
   ]
  },
  {
   "cell_type": "markdown",
   "id": "3df6ef16-e57d-40c6-8b87-bef1bb5f6ce3",
   "metadata": {},
   "source": [
    "### A data frame with all the authors and author_ids\n",
    "All authors should be listed in a separate data frame to facilitate import into wikibase."
   ]
  },
  {
   "cell_type": "code",
   "execution_count": 9,
   "id": "7565a683-bde6-400c-a6a4-657405a635b9",
   "metadata": {},
   "outputs": [
    {
     "name": "stdout",
     "output_type": "stream",
     "text": [
      "Found 18870 authors\n"
     ]
    }
   ],
   "source": [
    "authors_df = pd.DataFrame(columns=['author_id', 'author_name'])\n",
    "for _,row in all_papers.iterrows():\n",
    "    author_ids = row.author_ids.split(';')\n",
    "    author_names = row.author.split(';')\n",
    "    for i in range(min(len(author_ids), len(author_names))):\n",
    "        authors_df = authors_df.append({'author_id': author_ids[i], 'author_name': author_names[i]}, ignore_index=True)\n",
    "\n",
    "# remove duplicates\n",
    "idx = authors_df.duplicated()\n",
    "authors_df = authors_df[~idx]\n",
    "authors_df = authors_df.set_index('author_id').sort_index()\n",
    "print('Found {} authors'.format(len(authors_df)))"
   ]
  },
  {
   "cell_type": "code",
   "execution_count": 10,
   "id": "17d1a509-633d-402c-9090-7e0f3194efdb",
   "metadata": {},
   "outputs": [],
   "source": [
    "authors_df.to_csv('data/all_authors.csv.zip', compression=dict(method='zip', archive_name='all_authors.csv'))"
   ]
  },
  {
   "cell_type": "markdown",
   "id": "771649c8-55b3-4383-b9d2-035503e56760",
   "metadata": {},
   "source": [
    "### A data frame with all the paper-to-software relations"
   ]
  },
  {
   "cell_type": "code",
   "execution_count": 11,
   "id": "a1d06219-893c-4ca7-8dc3-f5567ab8cf3e",
   "metadata": {
    "tags": []
   },
   "outputs": [
    {
     "name": "stdout",
     "output_type": "stream",
     "text": [
      "Found 9577 paper-to-software relations\n"
     ]
    }
   ],
   "source": [
    "diff = all_papers.columns.difference(['id', 'software'])\n",
    "all_papers_software = all_papers.drop(columns=diff)\n",
    "print(\"Found {} paper-to-software relations\".format(len(all_papers_software)))"
   ]
  },
  {
   "cell_type": "code",
   "execution_count": 12,
   "id": "1fc1985f-e3d2-41c4-862d-5f43613b96fc",
   "metadata": {},
   "outputs": [],
   "source": [
    "all_papers_software.to_csv('data/all_papers_software.csv.zip', compression=dict(method='zip', archive_name='all_papers_software.csv'))"
   ]
  },
  {
   "cell_type": "markdown",
   "id": "6c144702-f67d-47b3-972a-9d25065fa96c",
   "metadata": {},
   "source": [
    "# Hey why not take a closer look at this cool data set :-)\n",
    "The data set is incomplete, since I've so far processed 1000 software tags, and many give errors."
   ]
  },
  {
   "cell_type": "markdown",
   "id": "6bcd9de8-212c-42ab-b8bc-448d235eb9ef",
   "metadata": {},
   "source": [
    "## What are the most popular math softwares?"
   ]
  },
  {
   "cell_type": "code",
   "execution_count": 13,
   "id": "07497fb4-8863-4b15-bbc4-a7c933a2e7f8",
   "metadata": {},
   "outputs": [
    {
     "data": {
      "text/html": [
       "<div>\n",
       "<style scoped>\n",
       "    .dataframe tbody tr th:only-of-type {\n",
       "        vertical-align: middle;\n",
       "    }\n",
       "\n",
       "    .dataframe tbody tr th {\n",
       "        vertical-align: top;\n",
       "    }\n",
       "\n",
       "    .dataframe thead th {\n",
       "        text-align: right;\n",
       "    }\n",
       "</style>\n",
       "<table border=\"1\" class=\"dataframe\">\n",
       "  <thead>\n",
       "    <tr style=\"text-align: right;\">\n",
       "      <th></th>\n",
       "      <th>software</th>\n",
       "      <th>paper count</th>\n",
       "    </tr>\n",
       "  </thead>\n",
       "  <tbody>\n",
       "    <tr>\n",
       "      <th>271</th>\n",
       "      <td>Hyperheuristics</td>\n",
       "      <td>85</td>\n",
       "    </tr>\n",
       "    <tr>\n",
       "      <th>66</th>\n",
       "      <td>CASA</td>\n",
       "      <td>83</td>\n",
       "    </tr>\n",
       "    <tr>\n",
       "      <th>287</th>\n",
       "      <td>ISOGAT</td>\n",
       "      <td>80</td>\n",
       "    </tr>\n",
       "    <tr>\n",
       "      <th>472</th>\n",
       "      <td>PSPLIB</td>\n",
       "      <td>74</td>\n",
       "    </tr>\n",
       "    <tr>\n",
       "      <th>157</th>\n",
       "      <td>Expokit</td>\n",
       "      <td>74</td>\n",
       "    </tr>\n",
       "    <tr>\n",
       "      <th>36</th>\n",
       "      <td>BARON</td>\n",
       "      <td>71</td>\n",
       "    </tr>\n",
       "    <tr>\n",
       "      <th>675</th>\n",
       "      <td>cdd</td>\n",
       "      <td>69</td>\n",
       "    </tr>\n",
       "    <tr>\n",
       "      <th>243</th>\n",
       "      <td>Gmsh</td>\n",
       "      <td>69</td>\n",
       "    </tr>\n",
       "    <tr>\n",
       "      <th>233</th>\n",
       "      <td>GeM</td>\n",
       "      <td>65</td>\n",
       "    </tr>\n",
       "    <tr>\n",
       "      <th>97</th>\n",
       "      <td>Cadabra</td>\n",
       "      <td>65</td>\n",
       "    </tr>\n",
       "  </tbody>\n",
       "</table>\n",
       "</div>"
      ],
      "text/plain": [
       "            software  paper count\n",
       "271  Hyperheuristics           85\n",
       "66              CASA           83\n",
       "287           ISOGAT           80\n",
       "472           PSPLIB           74\n",
       "157          Expokit           74\n",
       "36             BARON           71\n",
       "675              cdd           69\n",
       "243             Gmsh           69\n",
       "233              GeM           65\n",
       "97           Cadabra           65"
      ]
     },
     "execution_count": 13,
     "metadata": {},
     "output_type": "execute_result"
    }
   ],
   "source": [
    "paper_counts_by_software = all_papers_software.groupby('software').size().reset_index(name='paper count').sort_values(by='paper count', ascending=False)\n",
    "paper_counts_by_software.head(10) # top 10"
   ]
  },
  {
   "cell_type": "markdown",
   "id": "d3a31ee4-4562-4c63-8dcc-4ade494c9224",
   "metadata": {},
   "source": [
    "## Has software usage changed over time?"
   ]
  },
  {
   "cell_type": "code",
   "execution_count": 14,
   "id": "491df849-1bb1-48f4-848c-544433f3fa01",
   "metadata": {},
   "outputs": [],
   "source": [
    "from collections import Counter\n",
    "\n",
    "# just looking at the top 5 software\n",
    "top_software = paper_counts_by_software[:5]\n",
    "# dict software name -> count publication by year\n",
    "top_software_years = {} \n",
    "for _, row in top_software.iterrows():\n",
    "    software_name = row['software']\n",
    "    # all papers that use this software\n",
    "    idx = all_papers_software['software'] == software_name\n",
    "    papers_software = all_papers_software[idx]\n",
    "    # publication years (including duplicated values)\n",
    "    years = all_papers.loc[papers_software.index, 'publication_year'].values\n",
    "    top_software_years[software_name]= dict(Counter(years))"
   ]
  },
  {
   "cell_type": "code",
   "execution_count": 15,
   "id": "9b803062-4b57-412a-ac29-bcb5f05dc2d8",
   "metadata": {},
   "outputs": [
    {
     "data": {
      "image/png": "[encoded data removed]",
      "text/plain": [
       "<Figure size 1440x432 with 1 Axes>"
      ]
     },
     "metadata": {
      "needs_background": "light"
     },
     "output_type": "display_data"
    }
   ],
   "source": [
    "import matplotlib.pyplot as plt\n",
    "from matplotlib.pyplot import figure\n",
    "\n",
    "figure(figsize=(20, 6))\n",
    "for label, years in top_software_years.items():\n",
    "    keys = sorted(years)\n",
    "    vals = [years[key] for key in keys]\n",
    "    plt.plot(keys, vals, label=label)\n",
    "plt.legend(loc='upper left')\n",
    "plt.title('Top 5 software by paper count (n={})'.format(top_software['paper count'].sum()))\n",
    "plt.xlabel('Year')\n",
    "plt.ylabel('Paper count')\n",
    "plt.show()"
   ]
  },
  {
   "cell_type": "code",
   "execution_count": null,
   "id": "1056b593-c265-4faf-83b9-bbaded2e67a6",
   "metadata": {},
   "outputs": [],
   "source": []
  }
 ],
 "metadata": {
  "kernelspec": {
   "display_name": "Python 3 (ipykernel)",
   "language": "python",
   "name": "python3"
  },
  "language_info": {
   "codemirror_mode": {
    "name": "ipython",
    "version": 3
   },
   "file_extension": ".py",
   "mimetype": "text/x-python",
   "name": "python",
   "nbconvert_exporter": "python",
   "pygments_lexer": "ipython3",
   "version": "3.9.7"
  }
 },
 "nbformat": 4,
 "nbformat_minor": 5
}
