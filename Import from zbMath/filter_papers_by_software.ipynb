{
 "cells": [
  {
   "cell_type": "markdown",
   "id": "d37a4976-197a-4cc2-93cb-27d8c1083b60",
   "metadata": {},
   "source": [
    "# Filter papers by software\n",
    "There are millions of references to papers in the zbMath database. We just need (for now) those related to the list of mathematical software (data/smMATH-initial.csv) that has been imported into the MaRDI-Portal."
   ]
  },
  {
   "cell_type": "code",
   "execution_count": 1,
   "id": "7822c109-1516-4591-9126-4cead1fa6951",
   "metadata": {
    "tags": []
   },
   "outputs": [],
   "source": [
    "import pandas as pd\n",
    "\n",
    "# load the list of swMath software\n",
    "software_df = pd.read_csv('data/swMATH-initial.csv')\n",
    "softwares = software_df['Len'].tolist()"
   ]
  },
  {
   "cell_type": "code",
   "execution_count": 2,
   "id": "8de33f79-2688-497a-9ed5-9d4607b96109",
   "metadata": {},
   "outputs": [],
   "source": [
    "# API URLs\n",
    "API_URL='https://oai.zbmath.org/v1/' # base URL of the API\n",
    "FILTER = '{}helper/filter?metadataPrefix=oai_zb_preview'.format(API_URL)\n",
    "\n",
    "# API namespaces\n",
    "OAI_NS = 'http://www.openarchives.org/OAI/2.0/' # the OAI namespace\n",
    "OAI_ZB_PREVIEW_NS = 'https://zbmath.org/OAI/2.0/oai_zb_preview/'\n",
    "ZBMATH_NS = 'https://zbmath.org/zbmath/elements/1.0/'\n",
    "\n",
    "# text shown in zbMath Open when there's a license conflict\n",
    "CONFLICT_TXT = 'zbMATH Open Web Interface contents unavailable due to conflicting licenses.'\n",
    "# which tags to keep\n",
    "TAGS = ['author', 'author_ids', 'document_title', 'source', 'classifications', 'keywords', 'doi', 'publication_year']"
   ]
  },
  {
   "cell_type": "markdown",
   "id": "f617c252-4b9a-41ce-a84f-817459470d47",
   "metadata": {},
   "source": [
    "## Get a list of records related to a single software\n",
    "Use the helper/filter endpoint to get a list of papers related to a particular software. \n",
    "\n",
    "**Doesn't work if the result set is very large (?) mailed OAI suport about this**"
   ]
  },
  {
   "cell_type": "code",
   "execution_count": 3,
   "id": "2910e2ac-dbf6-4d6b-be42-9f2e2bfa59a4",
   "metadata": {},
   "outputs": [],
   "source": [
    "import requests\n",
    "\n",
    "software = 'Gfan'\n",
    "REQUEST_URL=\"{}&filter=software:{}\".format(FILTER, software)\n",
    "\n",
    "# get data from API\n",
    "headers = {'accept': 'text/xml'} # this has no effect\n",
    "all_records_xml = requests.get(REQUEST_URL, headers)\n",
    "if all_records_xml.status_code == 200:\n",
    "    # save raw data in local file\n",
    "    with open('data/software_records_{}.xml'.format(software), 'w') as f:\n",
    "        f.write(all_records_xml.text)    \n",
    "else: \n",
    "    print(all_records_xml.reason)"
   ]
  },
  {
   "cell_type": "markdown",
   "id": "b490471b-88f7-4669-b00d-cf4b7da41781",
   "metadata": {},
   "source": [
    "Define a function to handle namespaces and tag names"
   ]
  },
  {
   "cell_type": "code",
   "execution_count": 4,
   "id": "6cdaf1cd-d3db-465c-bd73-1f278055a277",
   "metadata": {},
   "outputs": [],
   "source": [
    "def ns(tag_name, namespace=OAI_NS):\n",
    "    \"\"\"\n",
    "    Returns a fully qualified tag name.\n",
    "    @param namespace URL of a namespace|None (OAI_NS is default)\n",
    "    \"\"\"\n",
    "    return '{{{}}}{}'.format(namespace, tag_name)"
   ]
  },
  {
   "cell_type": "markdown",
   "id": "8685c7f9-7ca2-4105-8559-aadfffa5a308",
   "metadata": {},
   "source": [
    "Define a function to parse records XML into a python dict"
   ]
  },
  {
   "cell_type": "code",
   "execution_count": 5,
   "id": "e909f1d8-1806-4457-b837-85864a2af6fe",
   "metadata": {},
   "outputs": [],
   "source": [
    "import xml.etree.ElementTree as ET\n",
    "\n",
    "def parse_record(xml_record, verbose=False):\n",
    "    \"\"\"\n",
    "    Parse bibliographic record details from XML Element.\n",
    "    @returns dict\n",
    "    \"\"\"\n",
    "    new_entry = {}\n",
    "    # zbMath identifier\n",
    "    zb_id = xml_record.find(ns('header')).find(ns('identifier')).text \n",
    "    new_entry['id'] = zb_id\n",
    "    # read tags\n",
    "    zb_preview = xml_record.find(ns('metadata')).find(ns('zbmath', OAI_ZB_PREVIEW_NS))\n",
    "    for tag in TAGS:\n",
    "        value = zb_preview.find(ns(tag, ZBMATH_NS))\n",
    "        if value is not None:\n",
    "            if len(value):\n",
    "                # element has children\n",
    "                texts = []\n",
    "                for child in value:\n",
    "                    texts.append(child.text)\n",
    "                text = ';'.join(texts) # multiple values are rendered as a semicolon-separated string\n",
    "            else:\n",
    "                # element content is a simple text\n",
    "                text = zb_preview.find(ns(tag, ZBMATH_NS)).text\n",
    "                \n",
    "            if text == CONFLICT_TXT:\n",
    "                # License conflict\n",
    "                if verbose:\n",
    "                    print('Licensing conflict for id \"{}\" tag \"{}\"'.format(zb_id, tag))\n",
    "                return None\n",
    "            \n",
    "            new_entry[tag] = text\n",
    "    return new_entry"
   ]
  },
  {
   "cell_type": "markdown",
   "id": "45426894-49d1-477a-ad50-dd521d89af8d",
   "metadata": {},
   "source": [
    "Parse all records in the data set, put them into a pandas data frame"
   ]
  },
  {
   "cell_type": "code",
   "execution_count": 8,
   "id": "1212f48f-e985-4f3f-af5d-eace0b0afe3f",
   "metadata": {},
   "outputs": [
    {
     "name": "stdout",
     "output_type": "stream",
     "text": [
      "Imported 61 entries (discarded 39 for licensing conflicts)\n"
     ]
    }
   ],
   "source": [
    "import pandas as pd\n",
    "\n",
    "#parse the tree, get a list of records\n",
    "tree = ET.parse('data/software_records_Gfan.xml')\n",
    "list_ids = tree.getroot().find(ns('ListRecords'))\n",
    "records = list_ids.findall(ns('record'))\n",
    "\n",
    "# loop through all entries\n",
    "all_details = []\n",
    "for record in records:\n",
    "    details = parse_record(record)\n",
    "    if details:\n",
    "        all_details.append(details)\n",
    "\n",
    "# convert to data frame\n",
    "records_df = pd.DataFrame(all_details)\n",
    "if 'id' not in records_df.columns:\n",
    "    print(\"Problem reading zbMath id's. No data?\")\n",
    "else:\n",
    "    records_df.set_index('id', inplace=True)\n",
    "\n",
    "print('Imported {} entries (discarded {} for licensing conflicts)'.format(len(records_df), len(records) - len(records_df) ))"
   ]
  },
  {
   "cell_type": "markdown",
   "id": "2c924884-4b66-4eef-8e8a-5a61f9737dd3",
   "metadata": {},
   "source": [
    "Save the data for later usage"
   ]
  },
  {
   "cell_type": "code",
   "execution_count": 7,
   "id": "ed65fc91-221d-430a-898d-6ad7cedee167",
   "metadata": {},
   "outputs": [],
   "source": [
    "records_df.to_csv('data/software_records_Gfan.csv')"
   ]
  },
  {
   "cell_type": "code",
   "execution_count": null,
   "id": "c4ef09ce-d0a0-4ad9-8256-9e0ffc67c588",
   "metadata": {},
   "outputs": [],
   "source": []
  }
 ],
 "metadata": {
  "kernelspec": {
   "display_name": "Python 3 (ipykernel)",
   "language": "python",
   "name": "python3"
  },
  "language_info": {
   "codemirror_mode": {
    "name": "ipython",
    "version": 3
   },
   "file_extension": ".py",
   "mimetype": "text/x-python",
   "name": "python",
   "nbconvert_exporter": "python",
   "pygments_lexer": "ipython3",
   "version": "3.9.7"
  }
 },
 "nbformat": 4,
 "nbformat_minor": 5
}
