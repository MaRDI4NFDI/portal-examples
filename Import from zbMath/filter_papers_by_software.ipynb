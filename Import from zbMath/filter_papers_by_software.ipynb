{
 "cells": [
  {
   "cell_type": "markdown",
   "id": "d37a4976-197a-4cc2-93cb-27d8c1083b60",
   "metadata": {},
   "source": [
    "# Filter papers by software"
   ]
  },
  {
   "cell_type": "code",
   "execution_count": 39,
   "id": "69e2769d-be70-4285-8965-5a06b6fd1599",
   "metadata": {},
   "outputs": [],
   "source": [
    "# load utilities shared between notebooks\n",
    "%run definitions_and_functions.ipynb"
   ]
  },
  {
   "cell_type": "markdown",
   "id": "1ef34d8c-61d9-440a-a8de-c0b5fd59573b",
   "metadata": {},
   "source": [
    "There are millions of references to papers in the zbMath database. We just need (for now) those related to the list of mathematical software (data/smMATH-initial.csv) that has been imported into the MaRDI-Portal."
   ]
  },
  {
   "cell_type": "code",
   "execution_count": 2,
   "id": "7822c109-1516-4591-9126-4cead1fa6951",
   "metadata": {
    "tags": []
   },
   "outputs": [],
   "source": [
    "import pandas as pd\n",
    "\n",
    "# load the list of swMath software\n",
    "software_df = pd.read_csv('data/swMATH-initial.csv')\n",
    "softwares = software_df['Len'].tolist()"
   ]
  },
  {
   "cell_type": "markdown",
   "id": "f617c252-4b9a-41ce-a84f-817459470d47",
   "metadata": {},
   "source": [
    "## Get a list of records related to a single software\n",
    "Use the helper/filter endpoint to get a list of papers related to a particular software. In this case 'Gfan'.\n",
    "\n",
    "**Doesn't work for some software(e.g. FORTRAN) mailed OAI suport about this**"
   ]
  },
  {
   "cell_type": "code",
   "execution_count": 3,
   "id": "2910e2ac-dbf6-4d6b-be42-9f2e2bfa59a4",
   "metadata": {},
   "outputs": [],
   "source": [
    "import requests\n",
    "\n",
    "software = 'Gfan'\n",
    "REQUEST_URL=\"{}&filter=software:{}\".format(FILTER, software)\n",
    "\n",
    "# get data from API\n",
    "headers = {'accept': 'text/xml'} # this has no effect\n",
    "all_records_xml = requests.get(REQUEST_URL, headers)\n",
    "if all_records_xml.status_code == 200:\n",
    "    # save raw data in local file\n",
    "    with open('data/software_records_{}.xml'.format(software), 'w') as f:\n",
    "        f.write(all_records_xml.text)    \n",
    "else: \n",
    "    print(all_records_xml.reason)"
   ]
  },
  {
   "cell_type": "markdown",
   "id": "45426894-49d1-477a-ad50-dd521d89af8d",
   "metadata": {},
   "source": [
    "Define a function to parse all records in the data set, put them into a pandas data frame"
   ]
  },
  {
   "cell_type": "code",
   "execution_count": 50,
   "id": "1212f48f-e985-4f3f-af5d-eace0b0afe3f",
   "metadata": {},
   "outputs": [],
   "source": [
    "import xml.etree.ElementTree as ET\n",
    "import pandas as pd\n",
    "\n",
    "def parse_record_list(records, verbose=False):\n",
    "    \"\"\"\n",
    "    Parses a list of 'record' XML elements.\n",
    "    @return pandas DataFrame or None (if no suitably licensed data was found)\n",
    "    \"\"\"\n",
    "    # loop through all entries\n",
    "    all_details = []\n",
    "    for record in records:\n",
    "        details = parse_record(record)\n",
    "        if details:\n",
    "            all_details.append(details)\n",
    "\n",
    "    # convert to data frame\n",
    "    records_df = pd.DataFrame(all_details)\n",
    "    if 'id' not in records_df.columns:\n",
    "        if verbose: print(\"Problem reading zbMath id's. No data?\")\n",
    "        return None\n",
    "    else:\n",
    "        records_df.set_index('id', inplace=True)\n",
    "\n",
    "    if verbose:\n",
    "        print('Imported {} entries (discarded {} for licensing conflicts)'.format(len(records_df), len(records) - len(records_df) ))\n",
    "\n",
    "    return records_df"
   ]
  },
  {
   "cell_type": "markdown",
   "id": "37e4f91d-46f4-4bfd-84fb-4e2b983eb543",
   "metadata": {},
   "source": [
    "Load the data from previously saved XML dump. Parse the tree, get a list of records"
   ]
  },
  {
   "cell_type": "code",
   "execution_count": 47,
   "id": "286f3b75-705c-4eba-ba75-764047188e4e",
   "metadata": {},
   "outputs": [
    {
     "name": "stdout",
     "output_type": "stream",
     "text": [
      "Imported 56 entries (discarded 44 for licensing conflicts)\n"
     ]
    }
   ],
   "source": [
    "tree = ET.parse('data/software_records_Gfan.xml')\n",
    "list_ids = tree.getroot().find(ns('ListRecords')) # when parsing XML from file, call getroot()\n",
    "records = list_ids.findall(ns('record'))\n",
    "records_df = parse_record_list(records, True).head()"
   ]
  },
  {
   "cell_type": "markdown",
   "id": "2c924884-4b66-4eef-8e8a-5a61f9737dd3",
   "metadata": {},
   "source": [
    "Save the data for later usage"
   ]
  },
  {
   "cell_type": "code",
   "execution_count": 8,
   "id": "ed65fc91-221d-430a-898d-6ad7cedee167",
   "metadata": {},
   "outputs": [],
   "source": [
    "records_df.to_csv('data/software_records_Gfan.csv')"
   ]
  },
  {
   "cell_type": "markdown",
   "id": "c8cfb724-26f2-4eca-8d25-0e6320c99eee",
   "metadata": {},
   "source": [
    "## Get records for all software\n",
    "Go through the list of all software, get the records from API, put them in a data frame.\n",
    "\n",
    "If there's an API error, log and continue."
   ]
  },
  {
   "cell_type": "code",
   "execution_count": 54,
   "id": "20f72871-5981-4dbe-a5ce-c0fe9bc9a949",
   "metadata": {},
   "outputs": [
    {
     "name": "stdout",
     "output_type": "stream",
     "text": [
      "processed 2/39597 entries\n",
      "processed 4/39597 entries\n",
      "processed 6/39597 entries\n",
      "processed 8/39597 entries\n",
      "Done. Check data/api.log for errors\n"
     ]
    }
   ],
   "source": [
    "import requests\n",
    "from datetime import datetime\n",
    "\n",
    "IMPORT_LOG = \"data/api.log\"\n",
    "all_details = pd.DataFrame() # the final data frame\n",
    "counter = 0\n",
    "for software in softwares:\n",
    "    headers = {'accept': 'text/xml'} # this has no effect\n",
    "    REQUEST_URL=\"{}&filter=software:{}\".format(FILTER, software)\n",
    "    \n",
    "    try:\n",
    "        # get data from API\n",
    "        all_records_xml = requests.get(REQUEST_URL, headers)\n",
    "        if all_records_xml.status_code == 500: raise ZbMathOpenAPIException(all_records_xml.reason)\n",
    "        \n",
    "        #parse the tree, get a list of records\n",
    "        tree = ET.fromstring(all_records_xml.text)\n",
    "        list_ids = tree.find(ns('ListRecords')) # when parsing XML from string, don't call getroot()\n",
    "        records = list_ids.findall(ns('record'))\n",
    "        # parse record details into a data frame\n",
    "        records_df = parse_record_list(records)\n",
    "        \n",
    "        # add name of software and append new records to final data frame\n",
    "        if records_df is not None:\n",
    "            records_df['software'] = software\n",
    "            all_details = all_details.append(records_df)\n",
    "        \n",
    "        # print feedback\n",
    "        counter += 1\n",
    "        if counter % 2 == 0:\n",
    "            print(\"processed {}/{} entries\".format(counter, len(softwares)))\n",
    "        \n",
    "    except ZbMathOpenAPIException as e:\n",
    "        # if the API throws a server-side error, log and continue\n",
    "        with open(IMPORT_LOG, \"a\") as logfile:\n",
    "            logfile.write(\"{} [ERROR] While reading {} from zbMath Open API help/filter endpoint: {}\\n\".format(datetime.now(), software, e))\n",
    "\n",
    "print(\"Done. Check {} for errors\".format(IMPORT_LOG))"
   ]
  },
  {
   "cell_type": "code",
   "execution_count": 27,
   "id": "33d495a3-5a48-4ece-889b-be5db57cf3db",
   "metadata": {},
   "outputs": [],
   "source": [
    "all_details = all_details.append(records_df)"
   ]
  },
  {
   "cell_type": "code",
   "execution_count": null,
   "id": "c529729f-069f-4a45-a0e8-a285fa4db46e",
   "metadata": {},
   "outputs": [],
   "source": []
  }
 ],
 "metadata": {
  "kernelspec": {
   "display_name": "Python 3 (ipykernel)",
   "language": "python",
   "name": "python3"
  },
  "language_info": {
   "codemirror_mode": {
    "name": "ipython",
    "version": 3
   },
   "file_extension": ".py",
   "mimetype": "text/x-python",
   "name": "python",
   "nbconvert_exporter": "python",
   "pygments_lexer": "ipython3",
   "version": "3.9.7"
  }
 },
 "nbformat": 4,
 "nbformat_minor": 5
}
