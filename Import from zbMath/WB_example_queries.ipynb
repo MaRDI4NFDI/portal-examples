{
 "cells": [
  {
   "cell_type": "markdown",
   "id": "aeba0d6e-3e0a-488f-a5a6-77c99af4d692",
   "metadata": {},
   "source": [
    "# Example queries\n",
    "Some example SPARQL queries that *should* be possible with the model and can be used to test it:\n",
    "* List all papers that use a certain software\n",
    "* List all papers by a given author, sort by date\n",
    "* List all papers published by a certain journal, sort by date\n",
    "* List all papers on a certain keyword\n",
    "* List all software filtered by a given paper keyword\n"
   ]
  }
 ],
 "metadata": {
  "kernelspec": {
   "display_name": "Python 3 (ipykernel)",
   "language": "python",
   "name": "python3"
  },
  "language_info": {
   "codemirror_mode": {
    "name": "ipython",
    "version": 3
   },
   "file_extension": ".py",
   "mimetype": "text/x-python",
   "name": "python",
   "nbconvert_exporter": "python",
   "pygments_lexer": "ipython3",
   "version": "3.9.7"
  }
 },
 "nbformat": 4,
 "nbformat_minor": 5
}
