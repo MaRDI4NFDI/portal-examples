{
 "cells": [
  {
   "cell_type": "markdown",
   "id": "597bc76e-13c4-4bc6-806d-0dc3d03807fa",
   "metadata": {},
   "source": [
    "# Populate the portal using the Wikibase API\n",
    "Goal of this notebook: Import the data prepared in `filter_papers_by_software.ipynb` into the data structure setup in `import_wikidata_properties.ipynb`.\n",
    "\n",
    "The API documentation is [here](https://www.wikidata.org/w/api.php?action=help&modules=wbeditentity)"
   ]
  },
  {
   "cell_type": "code",
   "execution_count": 71,
   "id": "e9a5e9aa-6b06-4eed-90dc-8a4bc8e7f5d4",
   "metadata": {},
   "outputs": [],
   "source": [
    "# import common definitions and functions\n",
    "%run WB_common.ipynb"
   ]
  },
  {
   "cell_type": "markdown",
   "id": "6e23e5e2-8b91-44ec-9d84-a255b2d5a89e",
   "metadata": {},
   "source": [
    "## Login to the Wikibase\n",
    "\n",
    "### Network settings\n",
    "* Make sure the wikibase is running, e.g. using [MaRDI4NFDI/portal-compose](https://github.com/MaRDI4NFDI/portal-compose)\n",
    "* Make sure this jupyter notebook is in the same network as the wiki. This is done in docker-compose\n",
    "\n",
    "```\n",
    "networks:\n",
    "  default:\n",
    "    external: true\n",
    "    name: portal-compose_default\n",
    "```\n",
    "\n",
    "Networks can be listed using `docker network ls`. Here, \"portal-compose_default\" is the name of the network started by portal-compose.\n",
    "* Verify that this notebook is in the correct network `docker network inspect portal-compose_default`\n",
    "\n",
    "The wiki is then accessible from the notebook container at `http://mardi-wikibase`."
   ]
  },
  {
   "cell_type": "code",
   "execution_count": 181,
   "id": "ffb7ca80-d9b8-416b-bb05-def585b75bae",
   "metadata": {},
   "outputs": [],
   "source": [
    "import requests\n",
    "import json \n",
    "import configparser\n",
    "\n",
    "# url of the API endpoint\n",
    "WIKIBASE_API = 'http://mardi-wikibase/w/api.php?format=json'\n",
    "\n",
    "def login(username, botpwd):\n",
    "    \"\"\"\n",
    "    Starts a new session and logins using a bot account.\n",
    "    @username, @botpwd string: credentials of an existing bot user\n",
    "    @returns requests.sessions.Session object\n",
    "    \"\"\"\n",
    "    # create a new session\n",
    "    session = requests.Session()\n",
    "\n",
    "    # get login token\n",
    "    r1 = session.get(WIKIBASE_API, params={\n",
    "        'format': 'json',\n",
    "        'action': 'query',\n",
    "        'meta': 'tokens',\n",
    "        'type': 'login'\n",
    "    })\n",
    "    # login with bot account\n",
    "    r2 = session.post(WIKIBASE_API, data={\n",
    "        'format': 'json',\n",
    "        'action': 'login',\n",
    "        'lgname': username,\n",
    "        'lgpassword': botpwd,\n",
    "        'lgtoken': r1.json()['query']['tokens']['logintoken'],\n",
    "    })\n",
    "    # raise when login failed\n",
    "    if r2.json()['login']['result'] != 'Success':\n",
    "        raise WBAPIException(r2.json()['login'])\n",
    "        \n",
    "    return session"
   ]
  },
  {
   "cell_type": "markdown",
   "id": "1d19afb5-b8a3-4b96-9cc0-7f382687b3a3",
   "metadata": {},
   "source": [
    "### Credentials\n",
    "* Login to the wiki as admin\n",
    "* Go to Special:BotPasswords, create a bot user, call it \"import\", grant it \"High-volume editing\", \"Edit existing pages\", \"Create, edit, and move pages\"\n",
    "* Copy `data/credentials.tpl` to `data/credentials.ini`. Replace the username and password by those of the newly created bot user (make sure not to commit this file)"
   ]
  },
  {
   "cell_type": "code",
   "execution_count": 183,
   "id": "671a031c-9afc-47d3-9727-255d9c854388",
   "metadata": {},
   "outputs": [],
   "source": [
    "# read bot username and password from data/credentials.ini\n",
    "config = configparser.ConfigParser()\n",
    "config.sections()\n",
    "config.read('data/credentials.ini')\n",
    "username = config['default']['username']\n",
    "botpwd = config['default']['password']\n",
    "\n",
    "session = login(username, botpwd)"
   ]
  },
  {
   "cell_type": "markdown",
   "id": "91b16a8c-6d07-4f56-a11f-57c5c6a6db37",
   "metadata": {},
   "source": [
    "## Create a wikibase property\n",
    "A function that creates a new wikidatabase property and returns the new id.\n",
    "\n",
    "If the property label already exists in the wiki, will not overwrite it, but raise an error."
   ]
  },
  {
   "cell_type": "code",
   "execution_count": 173,
   "id": "cb14ca30-31b4-4b88-8840-c7432e8784f2",
   "metadata": {},
   "outputs": [],
   "source": [
    "def get_csrf_token(session):\n",
    "    \"\"\"Gets a security (CSRF) token.\"\"\"\n",
    "    params1 = {\n",
    "        \"action\": \"query\",\n",
    "        \"meta\": \"tokens\",\n",
    "        \"type\": \"csrf\"\n",
    "    }\n",
    "    r1 = session.get(WIKIBASE_API, params=params1)\n",
    "    token = r1.json()['query']['tokens']['csrftoken']\n",
    "\n",
    "    return token\n",
    "    \n",
    "\n",
    "def create_property(session, data):\n",
    "    \"\"\"\n",
    "    Creates a wikibase property.\n",
    "    @session requests.sessions.Session: session obtained from login \n",
    "    @data python dict: creation parameters of the property\n",
    "    @returns string: id of the new property\n",
    "    \"\"\"\n",
    "    token = get_csrf_token(session)\n",
    "    \n",
    "    params = {\n",
    "        \"action\": \"wbeditentity\",\n",
    "        \"format\": \"json\",\n",
    "        'new': 'property',\n",
    "        'data': json.dumps(data),\n",
    "        'token': token\n",
    "    }\n",
    "    r1 = session.post(WIKIBASE_API, data=params)\n",
    "    r1.json = r1.json()\n",
    "    \n",
    "    # raise when edit failed\n",
    "    if 'error' in r1.json.keys():\n",
    "        raise WBAPIException(r1.json['error'])\n",
    "\n",
    "    return r1.json['entity']['id']"
   ]
  },
  {
   "cell_type": "markdown",
   "id": "6a9f8597-2da5-4a35-8e87-22caf53f768e",
   "metadata": {},
   "source": [
    "For example create a property with these parameters will return an id-string in the form 'Px' (where x is a number).\n",
    "\n",
    "The property can be seen in the wiki under `http:localhost:8080/wiki/Property:Px`"
   ]
  },
  {
   "cell_type": "code",
   "execution_count": 174,
   "id": "336d0f97-6a41-4f87-8b27-9b0a855d9a99",
   "metadata": {},
   "outputs": [
    {
     "data": {
      "text/plain": [
       "'P15'"
      ]
     },
     "execution_count": 174,
     "metadata": {},
     "output_type": "execute_result"
    }
   ],
   "source": [
    "data = {\"labels\":{\"en\":{\"language\":\"en\",\"value\":\"Propertylabel9\"}},\"descriptions\":{\"en\":{\"language\":\"en\",\"value\":\"Propertydescription\"}},\"datatype\":\"string\"}\n",
    "create_property(session, data)"
   ]
  },
  {
   "cell_type": "markdown",
   "id": "c4945ef9-51ef-4860-9815-36295dad10d9",
   "metadata": {},
   "source": [
    "## Create a wikibase entity\n",
    "A function that creates a new wikidatabase entity (item) and returns the new id.\n",
    "\n",
    "If the entity label already exists in the wiki, will not overwrite it, but create a new entity."
   ]
  },
  {
   "cell_type": "code",
   "execution_count": 175,
   "id": "2dbe8ebc-c0f6-41ba-8ef1-9742b8cf1afb",
   "metadata": {},
   "outputs": [],
   "source": [
    "def create_entity(session, data):\n",
    "    \"\"\"\n",
    "    Creates a wikibase entity.\n",
    "    @session requests.sessions.Session: session obtained from login \n",
    "    @data python dict: creation parameters of the entity\n",
    "    @returns string: id of the new entity\n",
    "    \"\"\"\n",
    "    token = get_csrf_token(session)\n",
    "    \n",
    "    params = {\n",
    "        \"action\": \"wbeditentity\",\n",
    "        \"format\": \"json\",\n",
    "        'new': 'item',\n",
    "        'data': json.dumps(data),\n",
    "        'token': token\n",
    "    }\n",
    "    r1 = session.post(WIKIBASE_API, data=params)\n",
    "    r1.json = r1.json()\n",
    "    \n",
    "    # raise when edit failed\n",
    "    if 'error' in r1.json.keys():\n",
    "        raise WBAPIException(r1.json['error'])\n",
    "\n",
    "    return r1.json['entity']['id']"
   ]
  },
  {
   "cell_type": "markdown",
   "id": "cc7577c7-6b8c-4142-b359-e048c11ac6ba",
   "metadata": {},
   "source": [
    "For example create an item with these parameters will return an id-string in the form 'Qx' (where x is a number).\n",
    "\n",
    "The item can be seen in the wiki under `http:localhost:8080/wiki/Item:Qx`"
   ]
  },
  {
   "cell_type": "code",
   "execution_count": 176,
   "id": "e4eee9a9-5954-4ac9-a70c-735f7c8464d2",
   "metadata": {},
   "outputs": [
    {
     "data": {
      "text/plain": [
       "'Q1'"
      ]
     },
     "execution_count": 176,
     "metadata": {},
     "output_type": "execute_result"
    }
   ],
   "source": [
    "data={\"labels\":{\"de\":{\"language\":\"de\",\"value\":\"de-value\"},\"en\":{\"language\":\"en\",\"value\":\"en-value\"}}}\n",
    "create_entity(session, data)"
   ]
  },
  {
   "cell_type": "markdown",
   "id": "7cb19004-9d5e-434a-875e-7027d69a3724",
   "metadata": {},
   "source": [
    "## Import the authors list\n",
    "Before importing anything, make sure the corresponding items and properties have been imported from wikidata. See notebook `WB_wikidata_properties.ipynb`.\n",
    "\n",
    "A subsample of the authors list was created in notebook `filter_papers_by_software.ipyb`. This list contains the authors of a papers related to the first 1000 software entries in the list of softwares (`data/swMath-software-list.csv`). The list of authors is in file `data/all_authors.csv.zip`. "
   ]
  },
  {
   "cell_type": "code",
   "execution_count": 165,
   "id": "5d100aed-4b5c-4b63-81fe-192653b39a4f",
   "metadata": {},
   "outputs": [
    {
     "data": {
      "text/html": [
       "<div>\n",
       "<style scoped>\n",
       "    .dataframe tbody tr th:only-of-type {\n",
       "        vertical-align: middle;\n",
       "    }\n",
       "\n",
       "    .dataframe tbody tr th {\n",
       "        vertical-align: top;\n",
       "    }\n",
       "\n",
       "    .dataframe thead th {\n",
       "        text-align: right;\n",
       "    }\n",
       "</style>\n",
       "<table border=\"1\" class=\"dataframe\">\n",
       "  <thead>\n",
       "    <tr style=\"text-align: right;\">\n",
       "      <th></th>\n",
       "      <th>author_id</th>\n",
       "      <th>author_name</th>\n",
       "    </tr>\n",
       "  </thead>\n",
       "  <tbody>\n",
       "    <tr>\n",
       "      <th>0</th>\n",
       "      <td>aardal.karen-i</td>\n",
       "      <td>Aardal, Karen</td>\n",
       "    </tr>\n",
       "    <tr>\n",
       "      <th>1</th>\n",
       "      <td>aarts.gert</td>\n",
       "      <td>Aarts, Gert</td>\n",
       "    </tr>\n",
       "    <tr>\n",
       "      <th>2</th>\n",
       "      <td>abad.alberto-j</td>\n",
       "      <td>Abad, Alberto</td>\n",
       "    </tr>\n",
       "    <tr>\n",
       "      <th>3</th>\n",
       "      <td>abada.asmaa</td>\n",
       "      <td>Abada, Asmaa</td>\n",
       "    </tr>\n",
       "    <tr>\n",
       "      <th>4</th>\n",
       "      <td>abanades.miguel-angel</td>\n",
       "      <td>Abánades, Miguel A.</td>\n",
       "    </tr>\n",
       "  </tbody>\n",
       "</table>\n",
       "</div>"
      ],
      "text/plain": [
       "               author_id           author_name\n",
       "0         aardal.karen-i         Aardal, Karen\n",
       "1             aarts.gert           Aarts, Gert\n",
       "2         abad.alberto-j         Abad, Alberto\n",
       "3            abada.asmaa          Abada, Asmaa\n",
       "4  abanades.miguel-angel   Abánades, Miguel A."
      ]
     },
     "execution_count": 165,
     "metadata": {},
     "output_type": "execute_result"
    }
   ],
   "source": [
    "# load the list of authors\n",
    "import pandas as pd\n",
    "\n",
    "# load the list of zbMath authors\n",
    "authors_df = pd.read_csv('data/all_authors.csv.zip') \n",
    "authors_df.head()"
   ]
  },
  {
   "cell_type": "markdown",
   "id": "af59af91-e8e2-4438-84f4-feb45d94efa9",
   "metadata": {},
   "source": [
    "Use the create_entity function to import the authors into the wiki.\n",
    "The Q-id returned by the wikibase is appended to the pandas dataframe of authors."
   ]
  },
  {
   "cell_type": "code",
   "execution_count": 210,
   "id": "a27fc77a-5a6e-47db-a0bf-856693cbd6d2",
   "metadata": {},
   "outputs": [],
   "source": [
    "for i,current in authors_df[:100].iterrows():\n",
    "\n",
    "    data = {\n",
    "        'labels':{'en':{'language':'en','value':current['author_name']}},\n",
    "        'claims': [\n",
    "            # instance of 'human'\n",
    "            {'mainsnak':{\n",
    "                'snaktype':'value', 'property':'P31', 'datavalue':{'type':'wikibase-entityid', 'value': {'entity-type':'item','id':'Q5'}}},\n",
    "            'type': 'statement', 'rank': 'normal'},\n",
    "            # zbMath author id\n",
    "            {'mainsnak':{\n",
    "                'snaktype':'value', 'property':'P1556', 'datavalue': {'type':'string', 'value': current['author_id']}},\n",
    "            'type': 'statement', 'rank': 'normal'}\n",
    "            ]\n",
    "    }\n",
    "    # import into wikibase, save Qid\n",
    "    authors_df.loc[i, 'qid'] = create_entity(session, data)"
   ]
  },
  {
   "cell_type": "markdown",
   "id": "b7f85fe4-1883-4c31-ba7b-043e9489c7a1",
   "metadata": {},
   "source": [
    "## Import the software list\n",
    "All software entries have already been imported into the MaRDI portal.\n",
    "Here I will import the first 1000 (out of 40000) software entries into the local wiki for testing."
   ]
  },
  {
   "cell_type": "code",
   "execution_count": 213,
   "id": "569fc828-2f0e-4607-976e-d449790e3ac5",
   "metadata": {},
   "outputs": [
    {
     "data": {
      "text/html": [
       "<div>\n",
       "<style scoped>\n",
       "    .dataframe tbody tr th:only-of-type {\n",
       "        vertical-align: middle;\n",
       "    }\n",
       "\n",
       "    .dataframe tbody tr th {\n",
       "        vertical-align: top;\n",
       "    }\n",
       "\n",
       "    .dataframe thead th {\n",
       "        text-align: right;\n",
       "    }\n",
       "</style>\n",
       "<table border=\"1\" class=\"dataframe\">\n",
       "  <thead>\n",
       "    <tr style=\"text-align: right;\">\n",
       "      <th></th>\n",
       "      <th>qid</th>\n",
       "      <th>P13</th>\n",
       "      <th>Len</th>\n",
       "      <th>#</th>\n",
       "    </tr>\n",
       "  </thead>\n",
       "  <tbody>\n",
       "    <tr>\n",
       "      <th>0</th>\n",
       "      <td>NaN</td>\n",
       "      <td>'0'</td>\n",
       "      <td>swMATH</td>\n",
       "      <td>initial csv import 2021-12-17</td>\n",
       "    </tr>\n",
       "    <tr>\n",
       "      <th>1</th>\n",
       "      <td>NaN</td>\n",
       "      <td>'1'</td>\n",
       "      <td>FORTRAN</td>\n",
       "      <td>initial csv import 2021-12-17</td>\n",
       "    </tr>\n",
       "    <tr>\n",
       "      <th>2</th>\n",
       "      <td>NaN</td>\n",
       "      <td>'2'</td>\n",
       "      <td>SuperLU-DIST</td>\n",
       "      <td>initial csv import 2021-12-17</td>\n",
       "    </tr>\n",
       "    <tr>\n",
       "      <th>3</th>\n",
       "      <td>NaN</td>\n",
       "      <td>'3'</td>\n",
       "      <td>WHISPAR</td>\n",
       "      <td>initial csv import 2021-12-17</td>\n",
       "    </tr>\n",
       "    <tr>\n",
       "      <th>4</th>\n",
       "      <td>NaN</td>\n",
       "      <td>'4'</td>\n",
       "      <td>MULTI2D</td>\n",
       "      <td>initial csv import 2021-12-17</td>\n",
       "    </tr>\n",
       "  </tbody>\n",
       "</table>\n",
       "</div>"
      ],
      "text/plain": [
       "   qid  P13           Len                              #\n",
       "0  NaN  '0'        swMATH  initial csv import 2021-12-17\n",
       "1  NaN  '1'       FORTRAN  initial csv import 2021-12-17\n",
       "2  NaN  '2'  SuperLU-DIST  initial csv import 2021-12-17\n",
       "3  NaN  '3'       WHISPAR  initial csv import 2021-12-17\n",
       "4  NaN  '4'       MULTI2D  initial csv import 2021-12-17"
      ]
     },
     "execution_count": 213,
     "metadata": {},
     "output_type": "execute_result"
    }
   ],
   "source": [
    "# load the list of swMath software\n",
    "software_df = pd.read_csv('data/swMATH-software-list.csv')\n",
    "software_df = software_df[:100]\n",
    "software_df.head()"
   ]
  },
  {
   "cell_type": "markdown",
   "id": "981f05a6-dabd-484f-8d8d-88bd14f411af",
   "metadata": {},
   "source": [
    "Use the create_entity function to import the software into the wiki.\n",
    "The Q-id returned by the wikibase is appended to the pandas dataframe of software."
   ]
  },
  {
   "cell_type": "code",
   "execution_count": 214,
   "id": "01d6cee7-053d-4e78-b695-0b13b294fb96",
   "metadata": {},
   "outputs": [],
   "source": [
    "for i,current in software_df[:100].iterrows():\n",
    "\n",
    "    data = {\n",
    "        'labels':{'en':{'language':'en','value':current['Len']}},\n",
    "        'claims': [\n",
    "            # instance of 'software'\n",
    "            {'mainsnak':{\n",
    "                'snaktype':'value', 'property':'P31', 'datavalue':{'type':'wikibase-entityid', 'value': {'entity-type':'item','id':'Q7397'}}},\n",
    "            'type': 'statement', 'rank': 'normal'},\n",
    "            # swMath work id\n",
    "            {'mainsnak':{\n",
    "                'snaktype':'value', 'property':'P6830', 'datavalue': {'type':'string', 'value': current['P13']}},\n",
    "            'type': 'statement', 'rank': 'normal'}\n",
    "            ]\n",
    "    }\n",
    "    # import into wikibase, save Qid\n",
    "    software_df.loc[i, 'qid'] = create_entity(session, data)"
   ]
  },
  {
   "cell_type": "code",
   "execution_count": 215,
   "id": "dfacc356-7bbe-4d8c-a5b2-681b086238e6",
   "metadata": {},
   "outputs": [
    {
     "data": {
      "text/html": [
       "<div>\n",
       "<style scoped>\n",
       "    .dataframe tbody tr th:only-of-type {\n",
       "        vertical-align: middle;\n",
       "    }\n",
       "\n",
       "    .dataframe tbody tr th {\n",
       "        vertical-align: top;\n",
       "    }\n",
       "\n",
       "    .dataframe thead th {\n",
       "        text-align: right;\n",
       "    }\n",
       "</style>\n",
       "<table border=\"1\" class=\"dataframe\">\n",
       "  <thead>\n",
       "    <tr style=\"text-align: right;\">\n",
       "      <th></th>\n",
       "      <th>qid</th>\n",
       "      <th>P13</th>\n",
       "      <th>Len</th>\n",
       "      <th>#</th>\n",
       "    </tr>\n",
       "  </thead>\n",
       "  <tbody>\n",
       "    <tr>\n",
       "      <th>0</th>\n",
       "      <td>Q120</td>\n",
       "      <td>'0'</td>\n",
       "      <td>swMATH</td>\n",
       "      <td>initial csv import 2021-12-17</td>\n",
       "    </tr>\n",
       "    <tr>\n",
       "      <th>1</th>\n",
       "      <td>Q121</td>\n",
       "      <td>'1'</td>\n",
       "      <td>FORTRAN</td>\n",
       "      <td>initial csv import 2021-12-17</td>\n",
       "    </tr>\n",
       "    <tr>\n",
       "      <th>2</th>\n",
       "      <td>Q122</td>\n",
       "      <td>'2'</td>\n",
       "      <td>SuperLU-DIST</td>\n",
       "      <td>initial csv import 2021-12-17</td>\n",
       "    </tr>\n",
       "    <tr>\n",
       "      <th>3</th>\n",
       "      <td>Q123</td>\n",
       "      <td>'3'</td>\n",
       "      <td>WHISPAR</td>\n",
       "      <td>initial csv import 2021-12-17</td>\n",
       "    </tr>\n",
       "    <tr>\n",
       "      <th>4</th>\n",
       "      <td>Q124</td>\n",
       "      <td>'4'</td>\n",
       "      <td>MULTI2D</td>\n",
       "      <td>initial csv import 2021-12-17</td>\n",
       "    </tr>\n",
       "  </tbody>\n",
       "</table>\n",
       "</div>"
      ],
      "text/plain": [
       "    qid  P13           Len                              #\n",
       "0  Q120  '0'        swMATH  initial csv import 2021-12-17\n",
       "1  Q121  '1'       FORTRAN  initial csv import 2021-12-17\n",
       "2  Q122  '2'  SuperLU-DIST  initial csv import 2021-12-17\n",
       "3  Q123  '3'       WHISPAR  initial csv import 2021-12-17\n",
       "4  Q124  '4'       MULTI2D  initial csv import 2021-12-17"
      ]
     },
     "execution_count": 215,
     "metadata": {},
     "output_type": "execute_result"
    }
   ],
   "source": [
    "software_df.head()"
   ]
  },
  {
   "cell_type": "code",
   "execution_count": null,
   "id": "f5e2b734-2b39-4a17-a7eb-06b6a00a475e",
   "metadata": {},
   "outputs": [],
   "source": []
  }
 ],
 "metadata": {
  "kernelspec": {
   "display_name": "Python 3 (ipykernel)",
   "language": "python",
   "name": "python3"
  },
  "language_info": {
   "codemirror_mode": {
    "name": "ipython",
    "version": 3
   },
   "file_extension": ".py",
   "mimetype": "text/x-python",
   "name": "python",
   "nbconvert_exporter": "python",
   "pygments_lexer": "ipython3",
   "version": "3.9.7"
  }
 },
 "nbformat": 4,
 "nbformat_minor": 5
}
