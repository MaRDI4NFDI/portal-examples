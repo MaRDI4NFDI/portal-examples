{
 "cells": [
  {
   "cell_type": "markdown",
   "id": "597bc76e-13c4-4bc6-806d-0dc3d03807fa",
   "metadata": {},
   "source": [
    "# Populate the portal using the Wikibase API\n",
    "Goal of this notebook: Import the data prepared in `filter_papers_by_software.ipynb` into the data structure setup in `import_wikidata_properties.ipynb`.\n",
    "\n",
    "The API documentation is [here](https://www.wikidata.org/w/api.php?action=help&modules=wbeditentity)"
   ]
  },
  {
   "cell_type": "code",
   "execution_count": 2,
   "id": "e9a5e9aa-6b06-4eed-90dc-8a4bc8e7f5d4",
   "metadata": {},
   "outputs": [],
   "source": [
    "# import common definitions and functions\n",
    "%run WB_common.ipynb"
   ]
  },
  {
   "cell_type": "markdown",
   "id": "6e23e5e2-8b91-44ec-9d84-a255b2d5a89e",
   "metadata": {},
   "source": [
    "## Login to the Wikibase\n",
    "\n",
    "### Network settings\n",
    "* Make sure the wikibase is running, e.g. using [MaRDI4NFDI/portal-compose](https://github.com/MaRDI4NFDI/portal-compose)\n",
    "* Make sure this jupyter notebook is in the same network as the wiki. This is done in docker-compose\n",
    "\n",
    "```\n",
    "networks:\n",
    "  default:\n",
    "    external: true\n",
    "    name: portal-compose_default\n",
    "```\n",
    "\n",
    "Networks can be listed using `docker network ls`. Here, \"portal-compose_default\" is the name of the network started by portal-compose.\n",
    "* Verify that this notebook is in the correct network `docker network inspect portal-compose_default`\n",
    "\n",
    "The wiki is then accessible from the notebook container at `http://mardi-wikibase`."
   ]
  },
  {
   "cell_type": "code",
   "execution_count": 3,
   "id": "ffb7ca80-d9b8-416b-bb05-def585b75bae",
   "metadata": {},
   "outputs": [],
   "source": [
    "import requests\n",
    "import json \n",
    "import configparser\n",
    "\n",
    "# url of the API endpoint\n",
    "WIKIBASE_API = 'http://mardi-wikibase/w/api.php?format=json'\n",
    "\n",
    "def login(username, botpwd):\n",
    "    \"\"\"\n",
    "    Starts a new session and logins using a bot account.\n",
    "    @username, @botpwd string: credentials of an existing bot user\n",
    "    @returns requests.sessions.Session object\n",
    "    \"\"\"\n",
    "    # create a new session\n",
    "    session = requests.Session()\n",
    "\n",
    "    # get login token\n",
    "    r1 = session.get(WIKIBASE_API, params={\n",
    "        'format': 'json',\n",
    "        'action': 'query',\n",
    "        'meta': 'tokens',\n",
    "        'type': 'login'\n",
    "    })\n",
    "    # login with bot account\n",
    "    r2 = session.post(WIKIBASE_API, data={\n",
    "        'format': 'json',\n",
    "        'action': 'login',\n",
    "        'lgname': username,\n",
    "        'lgpassword': botpwd,\n",
    "        'lgtoken': r1.json()['query']['tokens']['logintoken'],\n",
    "    })\n",
    "    # raise when login failed\n",
    "    if r2.json()['login']['result'] != 'Success':\n",
    "        raise WBAPIException(r2.json()['login'])\n",
    "        \n",
    "    return session"
   ]
  },
  {
   "cell_type": "markdown",
   "id": "1d19afb5-b8a3-4b96-9cc0-7f382687b3a3",
   "metadata": {},
   "source": [
    "### Bot user\n",
    "* Login to the wiki as admin\n",
    "* Go to Special:BotPasswords, create a bot user, call it \"import\", grant it \"High-volume editing\", \"Edit existing pages\", \"Create, edit, and move pages\"\n",
    "* Copy `data/credentials.tpl` to `data/credentials.ini`. Replace the username and password by those of the newly created bot user (make sure not to commit this file)"
   ]
  },
  {
   "cell_type": "code",
   "execution_count": 104,
   "id": "671a031c-9afc-47d3-9727-255d9c854388",
   "metadata": {},
   "outputs": [],
   "source": [
    "# read bot username and password from data/credentials.ini\n",
    "config = configparser.ConfigParser()\n",
    "config.sections()\n",
    "config.read('data/credentials.ini')\n",
    "username = config['default']['username']\n",
    "botpwd = config['default']['password']\n",
    "\n",
    "session = login(username, botpwd)"
   ]
  },
  {
   "cell_type": "markdown",
   "id": "91b16a8c-6d07-4f56-a11f-57c5c6a6db37",
   "metadata": {},
   "source": [
    "## Create a wikibase property\n",
    "A function that creates a new wikidatabase property and returns the new id.\n",
    "\n",
    "If the property label already exists in the wiki, will not overwrite it, but raise an error."
   ]
  },
  {
   "cell_type": "code",
   "execution_count": 6,
   "id": "cb14ca30-31b4-4b88-8840-c7432e8784f2",
   "metadata": {},
   "outputs": [],
   "source": [
    "def get_csrf_token(session):\n",
    "    \"\"\"Gets a security (CSRF) token.\"\"\"\n",
    "    params1 = {\n",
    "        \"action\": \"query\",\n",
    "        \"meta\": \"tokens\",\n",
    "        \"type\": \"csrf\"\n",
    "    }\n",
    "    r1 = session.get(WIKIBASE_API, params=params1)\n",
    "    token = r1.json()['query']['tokens']['csrftoken']\n",
    "\n",
    "    return token\n",
    "    \n",
    "\n",
    "def create_property(session, data):\n",
    "    \"\"\"\n",
    "    Creates a wikibase property.\n",
    "    @session requests.sessions.Session: session obtained from login \n",
    "    @data python dict: creation parameters of the property\n",
    "    @returns string: id of the new property\n",
    "    \"\"\"\n",
    "    token = get_csrf_token(session)\n",
    "    \n",
    "    params = {\n",
    "        \"action\": \"wbeditentity\",\n",
    "        \"format\": \"json\",\n",
    "        'new': 'property',\n",
    "        'data': json.dumps(data),\n",
    "        'token': token\n",
    "    }\n",
    "    r1 = session.post(WIKIBASE_API, data=params)\n",
    "    r1.json = r1.json()\n",
    "    \n",
    "    # raise when edit failed\n",
    "    if 'error' in r1.json.keys():\n",
    "        raise WBAPIException(r1.json['error'])\n",
    "\n",
    "    return r1.json['entity']['id']"
   ]
  },
  {
   "cell_type": "markdown",
   "id": "6a9f8597-2da5-4a35-8e87-22caf53f768e",
   "metadata": {},
   "source": [
    "For example create a property with these parameters will return an id-string in the form 'Px' (where x is a number).\n",
    "\n",
    "The property can be seen in the wiki under `http:localhost:8080/wiki/Property:Px`"
   ]
  },
  {
   "cell_type": "code",
   "execution_count": 5,
   "id": "336d0f97-6a41-4f87-8b27-9b0a855d9a99",
   "metadata": {},
   "outputs": [
    {
     "data": {
      "text/plain": [
       "'P1'"
      ]
     },
     "execution_count": 5,
     "metadata": {},
     "output_type": "execute_result"
    }
   ],
   "source": [
    "data = {\"labels\":{\"en\":{\"language\":\"en\",\"value\":\"Propertylabel9\"}},\"descriptions\":{\"en\":{\"language\":\"en\",\"value\":\"Propertydescription\"}},\"datatype\":\"string\"}\n",
    "create_property(session, data)"
   ]
  },
  {
   "cell_type": "markdown",
   "id": "c4945ef9-51ef-4860-9815-36295dad10d9",
   "metadata": {},
   "source": [
    "## Create a wikibase entity\n",
    "A function that creates a new wikidatabase entity (item) and returns the new id.\n",
    "\n",
    "If the entity label already exists in the wiki, will not overwrite it, but create a new entity."
   ]
  },
  {
   "cell_type": "code",
   "execution_count": 7,
   "id": "2dbe8ebc-c0f6-41ba-8ef1-9742b8cf1afb",
   "metadata": {},
   "outputs": [],
   "source": [
    "def create_entity(session, data):\n",
    "    \"\"\"\n",
    "    Creates a wikibase entity.\n",
    "    @session requests.sessions.Session: session obtained from login \n",
    "    @data python dict: creation parameters of the entity\n",
    "    @returns string: id of the new entity\n",
    "    \"\"\"\n",
    "    token = get_csrf_token(session)\n",
    "    \n",
    "    params = {\n",
    "        'action': 'wbeditentity',\n",
    "        'format': 'json',\n",
    "        'new': 'item',\n",
    "        'data': json.dumps(data),\n",
    "        'token': token\n",
    "    }\n",
    "    r1 = session.post(WIKIBASE_API, data=params)\n",
    "    r1.json = r1.json()\n",
    "    \n",
    "    # raise when edit failed\n",
    "    if 'error' in r1.json.keys():\n",
    "        raise WBAPIException(r1.json['error'])\n",
    "\n",
    "    return r1.json['entity']['id']"
   ]
  },
  {
   "cell_type": "markdown",
   "id": "cc7577c7-6b8c-4142-b359-e048c11ac6ba",
   "metadata": {},
   "source": [
    "For example create an item with these parameters will return an id-string in the form 'Qx' (where x is a number).\n",
    "\n",
    "The item can be seen in the wiki under `http:localhost:8080/wiki/Item:Qx`"
   ]
  },
  {
   "cell_type": "code",
   "execution_count": 7,
   "id": "e4eee9a9-5954-4ac9-a70c-735f7c8464d2",
   "metadata": {},
   "outputs": [
    {
     "data": {
      "text/plain": [
       "'Q320'"
      ]
     },
     "execution_count": 7,
     "metadata": {},
     "output_type": "execute_result"
    }
   ],
   "source": [
    "data={\"labels\":{\"de\":{\"language\":\"de\",\"value\":\"de-value\"},\"en\":{\"language\":\"en\",\"value\":\"en-value\"}}}\n",
    "create_entity(session, data)"
   ]
  },
  {
   "cell_type": "markdown",
   "id": "7cb19004-9d5e-434a-875e-7027d69a3724",
   "metadata": {},
   "source": [
    "## Import the authors list\n",
    "Before importing anything, make sure the corresponding items and properties have been imported from wikidata. See notebook `WB_wikidata_properties.ipynb`.\n",
    "\n",
    "A subsample of the authors list was created in notebook `filter_papers_by_software.ipyb`. This list contains the authors of a papers related to the first 1000 software entries in the list of softwares (`data/swMath-software-list.csv`). The list of authors is in file `data/all_authors.csv.zip`. "
   ]
  },
  {
   "cell_type": "code",
   "execution_count": 87,
   "id": "5d100aed-4b5c-4b63-81fe-192653b39a4f",
   "metadata": {},
   "outputs": [
    {
     "data": {
      "text/html": [
       "<div>\n",
       "<style scoped>\n",
       "    .dataframe tbody tr th:only-of-type {\n",
       "        vertical-align: middle;\n",
       "    }\n",
       "\n",
       "    .dataframe tbody tr th {\n",
       "        vertical-align: top;\n",
       "    }\n",
       "\n",
       "    .dataframe thead th {\n",
       "        text-align: right;\n",
       "    }\n",
       "</style>\n",
       "<table border=\"1\" class=\"dataframe\">\n",
       "  <thead>\n",
       "    <tr style=\"text-align: right;\">\n",
       "      <th></th>\n",
       "      <th>author_id</th>\n",
       "      <th>author_name</th>\n",
       "    </tr>\n",
       "  </thead>\n",
       "  <tbody>\n",
       "    <tr>\n",
       "      <th>0</th>\n",
       "      <td>aidun.cyrus-k</td>\n",
       "      <td>Aidun, Cyrus K.</td>\n",
       "    </tr>\n",
       "    <tr>\n",
       "      <th>1</th>\n",
       "      <td>babuska.ivo-m</td>\n",
       "      <td>Babuška, I.</td>\n",
       "    </tr>\n",
       "    <tr>\n",
       "      <th>2</th>\n",
       "      <td>banerjee.uday</td>\n",
       "      <td>Banerjee, U.</td>\n",
       "    </tr>\n",
       "    <tr>\n",
       "      <th>3</th>\n",
       "      <td>bartels.alexander</td>\n",
       "      <td>Bartels, Alexander</td>\n",
       "    </tr>\n",
       "    <tr>\n",
       "      <th>4</th>\n",
       "      <td>basko.mikhail-m</td>\n",
       "      <td>Basko, M. M.</td>\n",
       "    </tr>\n",
       "  </tbody>\n",
       "</table>\n",
       "</div>"
      ],
      "text/plain": [
       "           author_id          author_name\n",
       "0      aidun.cyrus-k      Aidun, Cyrus K.\n",
       "1      babuska.ivo-m          Babuška, I.\n",
       "2      banerjee.uday         Banerjee, U.\n",
       "3  bartels.alexander   Bartels, Alexander\n",
       "4    basko.mikhail-m         Basko, M. M."
      ]
     },
     "execution_count": 87,
     "metadata": {},
     "output_type": "execute_result"
    }
   ],
   "source": [
    "# load the list of authors\n",
    "import pandas as pd\n",
    "\n",
    "# load the list of zbMath authors\n",
    "authors_df = pd.read_csv('data/all_authors.csv.zip') \n",
    "authors_df.head()"
   ]
  },
  {
   "cell_type": "markdown",
   "id": "af59af91-e8e2-4438-84f4-feb45d94efa9",
   "metadata": {},
   "source": [
    "Use the create_entity function to import the authors into the wiki.\n",
    "The Q-id returned by the wikibase is appended to the pandas dataframe of authors."
   ]
  },
  {
   "cell_type": "code",
   "execution_count": 91,
   "id": "a27fc77a-5a6e-47db-a0bf-856693cbd6d2",
   "metadata": {},
   "outputs": [],
   "source": [
    "for i,current in authors_df.iterrows():\n",
    "    author_name = current['author_name'].strip()\n",
    "    author_id = current['author_id'].strip()\n",
    "    data = {\n",
    "        'labels':{'en':{'language':'en','value':author_name}},\n",
    "        'claims': [\n",
    "            # instance of 'human'\n",
    "            {'mainsnak':{\n",
    "                'snaktype':'value', 'property':'P31', 'datavalue':{'type':'wikibase-entityid', 'value': {'entity-type':'item','id':'Q5'}}},\n",
    "            'type': 'statement', 'rank': 'normal'},\n",
    "            # zbMath author id\n",
    "            {'mainsnak':{\n",
    "                'snaktype':'value', 'property':'P1556', 'datavalue': {'type':'string', 'value': author_id}},\n",
    "            'type': 'statement', 'rank': 'normal'}\n",
    "            ]\n",
    "    }\n",
    "    # import into wikibase, save Qid\n",
    "    authors_df.loc[i, 'qid'] = create_entity(session, data)"
   ]
  },
  {
   "cell_type": "code",
   "execution_count": 92,
   "id": "fcd38d98-dcd2-492a-a19e-3b6bd317a872",
   "metadata": {},
   "outputs": [
    {
     "data": {
      "text/html": [
       "<div>\n",
       "<style scoped>\n",
       "    .dataframe tbody tr th:only-of-type {\n",
       "        vertical-align: middle;\n",
       "    }\n",
       "\n",
       "    .dataframe tbody tr th {\n",
       "        vertical-align: top;\n",
       "    }\n",
       "\n",
       "    .dataframe thead th {\n",
       "        text-align: right;\n",
       "    }\n",
       "</style>\n",
       "<table border=\"1\" class=\"dataframe\">\n",
       "  <thead>\n",
       "    <tr style=\"text-align: right;\">\n",
       "      <th></th>\n",
       "      <th>author_id</th>\n",
       "      <th>author_name</th>\n",
       "      <th>qid</th>\n",
       "    </tr>\n",
       "  </thead>\n",
       "  <tbody>\n",
       "    <tr>\n",
       "      <th>0</th>\n",
       "      <td>aidun.cyrus-k</td>\n",
       "      <td>Aidun, Cyrus K.</td>\n",
       "      <td>Q1104</td>\n",
       "    </tr>\n",
       "    <tr>\n",
       "      <th>1</th>\n",
       "      <td>babuska.ivo-m</td>\n",
       "      <td>Babuška, I.</td>\n",
       "      <td>Q1105</td>\n",
       "    </tr>\n",
       "    <tr>\n",
       "      <th>2</th>\n",
       "      <td>banerjee.uday</td>\n",
       "      <td>Banerjee, U.</td>\n",
       "      <td>Q1106</td>\n",
       "    </tr>\n",
       "    <tr>\n",
       "      <th>3</th>\n",
       "      <td>bartels.alexander</td>\n",
       "      <td>Bartels, Alexander</td>\n",
       "      <td>Q1107</td>\n",
       "    </tr>\n",
       "    <tr>\n",
       "      <th>4</th>\n",
       "      <td>basko.mikhail-m</td>\n",
       "      <td>Basko, M. M.</td>\n",
       "      <td>Q1108</td>\n",
       "    </tr>\n",
       "  </tbody>\n",
       "</table>\n",
       "</div>"
      ],
      "text/plain": [
       "           author_id          author_name    qid\n",
       "0      aidun.cyrus-k      Aidun, Cyrus K.  Q1104\n",
       "1      babuska.ivo-m          Babuška, I.  Q1105\n",
       "2      banerjee.uday         Banerjee, U.  Q1106\n",
       "3  bartels.alexander   Bartels, Alexander  Q1107\n",
       "4    basko.mikhail-m         Basko, M. M.  Q1108"
      ]
     },
     "execution_count": 92,
     "metadata": {},
     "output_type": "execute_result"
    }
   ],
   "source": [
    "authors_df.head()"
   ]
  },
  {
   "cell_type": "markdown",
   "id": "b7f85fe4-1883-4c31-ba7b-043e9489c7a1",
   "metadata": {},
   "source": [
    "## Import the software list\n",
    "All software entries have already been imported into the MaRDI portal.\n",
    "Here I will import the first 10 (out of 40000) software entries into the local wiki for testing."
   ]
  },
  {
   "cell_type": "code",
   "execution_count": 37,
   "id": "569fc828-2f0e-4607-976e-d449790e3ac5",
   "metadata": {},
   "outputs": [
    {
     "data": {
      "text/html": [
       "<div>\n",
       "<style scoped>\n",
       "    .dataframe tbody tr th:only-of-type {\n",
       "        vertical-align: middle;\n",
       "    }\n",
       "\n",
       "    .dataframe tbody tr th {\n",
       "        vertical-align: top;\n",
       "    }\n",
       "\n",
       "    .dataframe thead th {\n",
       "        text-align: right;\n",
       "    }\n",
       "</style>\n",
       "<table border=\"1\" class=\"dataframe\">\n",
       "  <thead>\n",
       "    <tr style=\"text-align: right;\">\n",
       "      <th></th>\n",
       "      <th>qid</th>\n",
       "      <th>P13</th>\n",
       "      <th>Len</th>\n",
       "      <th>#</th>\n",
       "    </tr>\n",
       "  </thead>\n",
       "  <tbody>\n",
       "    <tr>\n",
       "      <th>0</th>\n",
       "      <td>NaN</td>\n",
       "      <td>'0'</td>\n",
       "      <td>swMATH</td>\n",
       "      <td>initial csv import 2021-12-17</td>\n",
       "    </tr>\n",
       "    <tr>\n",
       "      <th>1</th>\n",
       "      <td>NaN</td>\n",
       "      <td>'1'</td>\n",
       "      <td>FORTRAN</td>\n",
       "      <td>initial csv import 2021-12-17</td>\n",
       "    </tr>\n",
       "    <tr>\n",
       "      <th>2</th>\n",
       "      <td>NaN</td>\n",
       "      <td>'2'</td>\n",
       "      <td>SuperLU-DIST</td>\n",
       "      <td>initial csv import 2021-12-17</td>\n",
       "    </tr>\n",
       "    <tr>\n",
       "      <th>3</th>\n",
       "      <td>NaN</td>\n",
       "      <td>'3'</td>\n",
       "      <td>WHISPAR</td>\n",
       "      <td>initial csv import 2021-12-17</td>\n",
       "    </tr>\n",
       "    <tr>\n",
       "      <th>4</th>\n",
       "      <td>NaN</td>\n",
       "      <td>'4'</td>\n",
       "      <td>MULTI2D</td>\n",
       "      <td>initial csv import 2021-12-17</td>\n",
       "    </tr>\n",
       "  </tbody>\n",
       "</table>\n",
       "</div>"
      ],
      "text/plain": [
       "   qid  P13           Len                              #\n",
       "0  NaN  '0'        swMATH  initial csv import 2021-12-17\n",
       "1  NaN  '1'       FORTRAN  initial csv import 2021-12-17\n",
       "2  NaN  '2'  SuperLU-DIST  initial csv import 2021-12-17\n",
       "3  NaN  '3'       WHISPAR  initial csv import 2021-12-17\n",
       "4  NaN  '4'       MULTI2D  initial csv import 2021-12-17"
      ]
     },
     "execution_count": 37,
     "metadata": {},
     "output_type": "execute_result"
    }
   ],
   "source": [
    "MAX_ENTRIES = 10 # number of software entries to process\n",
    "\n",
    "# load the list of swMath software\n",
    "software_df = pd.read_csv('data/swMATH-software-list.csv')\n",
    "software_df = software_df[:MAX_ENTRIES]\n",
    "software_df.head()"
   ]
  },
  {
   "cell_type": "markdown",
   "id": "981f05a6-dabd-484f-8d8d-88bd14f411af",
   "metadata": {},
   "source": [
    "Use the create_entity function to import the software into the wiki.\n",
    "The Q-id returned by the wikibase is appended to the pandas dataframe of software."
   ]
  },
  {
   "cell_type": "code",
   "execution_count": 41,
   "id": "01d6cee7-053d-4e78-b695-0b13b294fb96",
   "metadata": {},
   "outputs": [],
   "source": [
    "for i,current in software_df[:MAX_ENTRIES].iterrows():\n",
    "    software_name = current['Len'].strip()\n",
    "    software_id = current['P13'].strip().replace(\"'\", '')\n",
    "\n",
    "    data = {\n",
    "        'labels':{'en':{'language':'en','value':software_name}},\n",
    "        'claims': [\n",
    "            # instance of 'software'\n",
    "            {'mainsnak':{\n",
    "                'snaktype':'value', 'property':'P31', 'datavalue':{'type':'wikibase-entityid', 'value': {'entity-type':'item','id':'Q7397'}}},\n",
    "            'type': 'statement', 'rank': 'normal'},\n",
    "            # swMath work id\n",
    "            {'mainsnak':{\n",
    "                'snaktype':'value', 'property':'P6830', 'datavalue': {'type':'string', 'value': software_id}},\n",
    "            'type': 'statement', 'rank': 'normal'}\n",
    "            ]\n",
    "    }\n",
    "    # import into wikibase, save Qid\n",
    "    software_df.loc[i, 'qid'] = create_entity(session, data)"
   ]
  },
  {
   "cell_type": "code",
   "execution_count": 42,
   "id": "dfacc356-7bbe-4d8c-a5b2-681b086238e6",
   "metadata": {},
   "outputs": [
    {
     "data": {
      "text/html": [
       "<div>\n",
       "<style scoped>\n",
       "    .dataframe tbody tr th:only-of-type {\n",
       "        vertical-align: middle;\n",
       "    }\n",
       "\n",
       "    .dataframe tbody tr th {\n",
       "        vertical-align: top;\n",
       "    }\n",
       "\n",
       "    .dataframe thead th {\n",
       "        text-align: right;\n",
       "    }\n",
       "</style>\n",
       "<table border=\"1\" class=\"dataframe\">\n",
       "  <thead>\n",
       "    <tr style=\"text-align: right;\">\n",
       "      <th></th>\n",
       "      <th>qid</th>\n",
       "      <th>P13</th>\n",
       "      <th>Len</th>\n",
       "      <th>#</th>\n",
       "    </tr>\n",
       "  </thead>\n",
       "  <tbody>\n",
       "    <tr>\n",
       "      <th>0</th>\n",
       "      <td>Q1034</td>\n",
       "      <td>'0'</td>\n",
       "      <td>swMATH</td>\n",
       "      <td>initial csv import 2021-12-17</td>\n",
       "    </tr>\n",
       "    <tr>\n",
       "      <th>1</th>\n",
       "      <td>Q1035</td>\n",
       "      <td>'1'</td>\n",
       "      <td>FORTRAN</td>\n",
       "      <td>initial csv import 2021-12-17</td>\n",
       "    </tr>\n",
       "    <tr>\n",
       "      <th>2</th>\n",
       "      <td>Q1036</td>\n",
       "      <td>'2'</td>\n",
       "      <td>SuperLU-DIST</td>\n",
       "      <td>initial csv import 2021-12-17</td>\n",
       "    </tr>\n",
       "    <tr>\n",
       "      <th>3</th>\n",
       "      <td>Q1037</td>\n",
       "      <td>'3'</td>\n",
       "      <td>WHISPAR</td>\n",
       "      <td>initial csv import 2021-12-17</td>\n",
       "    </tr>\n",
       "    <tr>\n",
       "      <th>4</th>\n",
       "      <td>Q1038</td>\n",
       "      <td>'4'</td>\n",
       "      <td>MULTI2D</td>\n",
       "      <td>initial csv import 2021-12-17</td>\n",
       "    </tr>\n",
       "  </tbody>\n",
       "</table>\n",
       "</div>"
      ],
      "text/plain": [
       "     qid  P13           Len                              #\n",
       "0  Q1034  '0'        swMATH  initial csv import 2021-12-17\n",
       "1  Q1035  '1'       FORTRAN  initial csv import 2021-12-17\n",
       "2  Q1036  '2'  SuperLU-DIST  initial csv import 2021-12-17\n",
       "3  Q1037  '3'       WHISPAR  initial csv import 2021-12-17\n",
       "4  Q1038  '4'       MULTI2D  initial csv import 2021-12-17"
      ]
     },
     "execution_count": 42,
     "metadata": {},
     "output_type": "execute_result"
    }
   ],
   "source": [
    "software_df.head()"
   ]
  },
  {
   "cell_type": "markdown",
   "id": "b875618c-4bca-431d-98ec-627182d640ac",
   "metadata": {},
   "source": [
    "## Import the papers list\n",
    "A subsample of the papers list was created in notebook `filter_papers_by_software.ipyb`. This list contains the papers related to the first 10 software entries in the list of softwares (`data/swMath-software-list.csv`). The list of papers is in file `data/all_papers.csv.zip`. "
   ]
  },
  {
   "cell_type": "code",
   "execution_count": 43,
   "id": "e65759ea-c6eb-48ed-aadd-73860aad8dbc",
   "metadata": {},
   "outputs": [
    {
     "data": {
      "text/html": [
       "<div>\n",
       "<style scoped>\n",
       "    .dataframe tbody tr th:only-of-type {\n",
       "        vertical-align: middle;\n",
       "    }\n",
       "\n",
       "    .dataframe tbody tr th {\n",
       "        vertical-align: top;\n",
       "    }\n",
       "\n",
       "    .dataframe thead th {\n",
       "        text-align: right;\n",
       "    }\n",
       "</style>\n",
       "<table border=\"1\" class=\"dataframe\">\n",
       "  <thead>\n",
       "    <tr style=\"text-align: right;\">\n",
       "      <th></th>\n",
       "      <th>id</th>\n",
       "      <th>author</th>\n",
       "      <th>author_ids</th>\n",
       "      <th>document_title</th>\n",
       "      <th>source</th>\n",
       "      <th>classifications</th>\n",
       "      <th>language</th>\n",
       "      <th>links</th>\n",
       "      <th>keywords</th>\n",
       "      <th>publication_year</th>\n",
       "      <th>doi</th>\n",
       "    </tr>\n",
       "  </thead>\n",
       "  <tbody>\n",
       "    <tr>\n",
       "      <th>0</th>\n",
       "      <td>oai:zbmath.org:5181224</td>\n",
       "      <td>Zlatev, Zahari; Dimov, Ivan</td>\n",
       "      <td>zlatev.zahari;dimov.ivan-todor</td>\n",
       "      <td>Computational and numerical challenges in envi...</td>\n",
       "      <td>Studies in Computational Mathematics 13. Amste...</td>\n",
       "      <td>65M20;65-02;65Y05;35Kxx</td>\n",
       "      <td>English</td>\n",
       "      <td>http://www.sciencedirect.com/science/book/9780...</td>\n",
       "      <td>textbook;parallel computation;semidiscretizati...</td>\n",
       "      <td>2006</td>\n",
       "      <td>NaN</td>\n",
       "    </tr>\n",
       "    <tr>\n",
       "      <th>1</th>\n",
       "      <td>oai:zbmath.org:5187737</td>\n",
       "      <td>Buttari, Alfredo; D'Ambra, Pasqua; di Serafino...</td>\n",
       "      <td>buttari.alfredo;dambra.pasqua;di-serafino.dani...</td>\n",
       "      <td>2LEV-D2P4: a package of high-performance preco...</td>\n",
       "      <td>Appl. Algebra Eng. Commun. Comput. 18, No. 3, ...</td>\n",
       "      <td>65F35;65F10;65Y15;65Y05</td>\n",
       "      <td>English</td>\n",
       "      <td>NaN</td>\n",
       "      <td>parallel numerical software;algebraic two-leve...</td>\n",
       "      <td>2007</td>\n",
       "      <td>10.1007/s00200-007-0035-z</td>\n",
       "    </tr>\n",
       "    <tr>\n",
       "      <th>2</th>\n",
       "      <td>oai:zbmath.org:5187739</td>\n",
       "      <td>Gupta, Anshul</td>\n",
       "      <td>gupta.anshul</td>\n",
       "      <td>A shared- and distributed-memory parallel gene...</td>\n",
       "      <td>Appl. Algebra Eng. Commun. Comput. 18, No. 3, ...</td>\n",
       "      <td>65F05;65F50;68W30;65Y05</td>\n",
       "      <td>English</td>\n",
       "      <td>NaN</td>\n",
       "      <td>sparse matrix factorization;parallel sparse so...</td>\n",
       "      <td>2007</td>\n",
       "      <td>10.1007/s00200-007-0037-x</td>\n",
       "    </tr>\n",
       "  </tbody>\n",
       "</table>\n",
       "</div>"
      ],
      "text/plain": [
       "                       id                                             author  \\\n",
       "0  oai:zbmath.org:5181224                        Zlatev, Zahari; Dimov, Ivan   \n",
       "1  oai:zbmath.org:5187737  Buttari, Alfredo; D'Ambra, Pasqua; di Serafino...   \n",
       "2  oai:zbmath.org:5187739                                      Gupta, Anshul   \n",
       "\n",
       "                                          author_ids  \\\n",
       "0                     zlatev.zahari;dimov.ivan-todor   \n",
       "1  buttari.alfredo;dambra.pasqua;di-serafino.dani...   \n",
       "2                                       gupta.anshul   \n",
       "\n",
       "                                      document_title  \\\n",
       "0  Computational and numerical challenges in envi...   \n",
       "1  2LEV-D2P4: a package of high-performance preco...   \n",
       "2  A shared- and distributed-memory parallel gene...   \n",
       "\n",
       "                                              source          classifications  \\\n",
       "0  Studies in Computational Mathematics 13. Amste...  65M20;65-02;65Y05;35Kxx   \n",
       "1  Appl. Algebra Eng. Commun. Comput. 18, No. 3, ...  65F35;65F10;65Y15;65Y05   \n",
       "2  Appl. Algebra Eng. Commun. Comput. 18, No. 3, ...  65F05;65F50;68W30;65Y05   \n",
       "\n",
       "  language                                              links  \\\n",
       "0  English  http://www.sciencedirect.com/science/book/9780...   \n",
       "1  English                                                NaN   \n",
       "2  English                                                NaN   \n",
       "\n",
       "                                            keywords  publication_year  \\\n",
       "0  textbook;parallel computation;semidiscretizati...              2006   \n",
       "1  parallel numerical software;algebraic two-leve...              2007   \n",
       "2  sparse matrix factorization;parallel sparse so...              2007   \n",
       "\n",
       "                         doi  \n",
       "0                        NaN  \n",
       "1  10.1007/s00200-007-0035-z  \n",
       "2  10.1007/s00200-007-0037-x  "
      ]
     },
     "execution_count": 43,
     "metadata": {},
     "output_type": "execute_result"
    }
   ],
   "source": [
    "# load the list of zbMath papers\n",
    "papers_df = pd.read_csv('data/all_papers.csv.zip')\n",
    "papers_df.head(3)"
   ]
  },
  {
   "cell_type": "code",
   "execution_count": null,
   "id": "d81d10f7-e83f-4c0f-86e7-b198f3f7264a",
   "metadata": {
    "tags": []
   },
   "outputs": [],
   "source": [
    "for i,current in papers_df.iterrows():\n",
    "    document_title = current['document_title'].strip()\n",
    "    document_id = current['id'].strip()\n",
    "    publication_date = \"+{}-01-01T00:00:00Z\".format(current['publication_year'])\n",
    "    \n",
    "    data = {\n",
    "        'labels':{'en':{'language':'en','value':document_title}},\n",
    "        'claims': [\n",
    "            # instance of 'scholarly article'\n",
    "            {'mainsnak':{\n",
    "                'snaktype':'value', 'property':'P31', 'datavalue':{'type':'wikibase-entityid', 'value': {'entity-type':'item','id':'Q13442814'}}},\n",
    "            'type': 'statement', 'rank': 'normal'},\n",
    "            # zbMath work id\n",
    "            {'mainsnak':{\n",
    "                'snaktype':'value', 'property':'P894', 'datavalue': {'type':'string', 'value': document_id}},\n",
    "            'type': 'statement', 'rank': 'normal'},\n",
    "            # publication date\n",
    "            {'mainsnak':{\n",
    "                'snaktype':'value', 'property':'P577', 'datavalue': {'type':'time', 'value': { \n",
    "                    \"time\": publication_date, 'precision': 9, 'timezone':0, 'before':0, 'after':0, 'calendarmodel':'http://www.wikidata.org/entity/Q1985727'\n",
    "                }}},\n",
    "            'type': 'statement', 'rank': 'normal'}\n",
    "            ]\n",
    "    }\n",
    "    # import into wikibase, save qid\n",
    "    papers_df.loc[i, 'qid'] = create_entity(session, data)"
   ]
  },
  {
   "cell_type": "code",
   "execution_count": 102,
   "id": "59d83d2d-a37b-4421-be9e-caa4ff790fe1",
   "metadata": {
    "collapsed": true,
    "jupyter": {
     "outputs_hidden": true
    },
    "tags": []
   },
   "outputs": [
    {
     "ename": "TypeError",
     "evalue": "strftime() missing required argument 'format' (pos 1)",
     "output_type": "error",
     "traceback": [
      "\u001b[0;31m---------------------------------------------------------------------------\u001b[0m",
      "\u001b[0;31mTypeError\u001b[0m                                 Traceback (most recent call last)",
      "\u001b[0;32m/tmp/ipykernel_46/3789129946.py\u001b[0m in \u001b[0;36m<module>\u001b[0;34m\u001b[0m\n\u001b[1;32m      1\u001b[0m \u001b[0;32mfrom\u001b[0m \u001b[0mdatetime\u001b[0m \u001b[0;32mimport\u001b[0m \u001b[0mdatetime\u001b[0m\u001b[0;34m\u001b[0m\u001b[0;34m\u001b[0m\u001b[0m\n\u001b[1;32m      2\u001b[0m \u001b[0;34m\u001b[0m\u001b[0m\n\u001b[0;32m----> 3\u001b[0;31m \u001b[0mdatetime\u001b[0m\u001b[0;34m.\u001b[0m\u001b[0mstrftime\u001b[0m\u001b[0;34m(\u001b[0m\u001b[0mdatetime\u001b[0m\u001b[0;34m.\u001b[0m\u001b[0mstrptime\u001b[0m\u001b[0;34m(\u001b[0m\u001b[0;34m'2006'\u001b[0m\u001b[0;34m,\u001b[0m \u001b[0;34m'%Y'\u001b[0m\u001b[0;34m)\u001b[0m\u001b[0;34m)\u001b[0m\u001b[0;34m\u001b[0m\u001b[0;34m\u001b[0m\u001b[0m\n\u001b[0m",
      "\u001b[0;31mTypeError\u001b[0m: strftime() missing required argument 'format' (pos 1)"
     ]
    }
   ],
   "source": [
    "from datetime import datetime\n",
    "# \"+1838-01-01T00:00:00Z\"\n",
    "datetime.strftime(datetime.strptime('2006', '%Y'))"
   ]
  },
  {
   "cell_type": "markdown",
   "id": "3833894e-feea-45be-88d1-e2207963481f",
   "metadata": {},
   "source": [
    "### Append the paper-to-software relations\n",
    "**Papers may use multiple softwares**. The relation between papers and software is in an additional file `data/all_papers_software.csv.zip`."
   ]
  },
  {
   "cell_type": "code",
   "execution_count": 85,
   "id": "e548b64f-1c56-4776-8329-d65fa6e34234",
   "metadata": {},
   "outputs": [
    {
     "data": {
      "text/html": [
       "<div>\n",
       "<style scoped>\n",
       "    .dataframe tbody tr th:only-of-type {\n",
       "        vertical-align: middle;\n",
       "    }\n",
       "\n",
       "    .dataframe tbody tr th {\n",
       "        vertical-align: top;\n",
       "    }\n",
       "\n",
       "    .dataframe thead th {\n",
       "        text-align: right;\n",
       "    }\n",
       "</style>\n",
       "<table border=\"1\" class=\"dataframe\">\n",
       "  <thead>\n",
       "    <tr style=\"text-align: right;\">\n",
       "      <th></th>\n",
       "      <th>id</th>\n",
       "      <th>software</th>\n",
       "    </tr>\n",
       "  </thead>\n",
       "  <tbody>\n",
       "    <tr>\n",
       "      <th>0</th>\n",
       "      <td>oai:zbmath.org:5181224</td>\n",
       "      <td>SuperLU-DIST</td>\n",
       "    </tr>\n",
       "    <tr>\n",
       "      <th>1</th>\n",
       "      <td>oai:zbmath.org:5187737</td>\n",
       "      <td>SuperLU-DIST</td>\n",
       "    </tr>\n",
       "    <tr>\n",
       "      <th>2</th>\n",
       "      <td>oai:zbmath.org:5187739</td>\n",
       "      <td>SuperLU-DIST</td>\n",
       "    </tr>\n",
       "  </tbody>\n",
       "</table>\n",
       "</div>"
      ],
      "text/plain": [
       "                       id      software\n",
       "0  oai:zbmath.org:5181224  SuperLU-DIST\n",
       "1  oai:zbmath.org:5187737  SuperLU-DIST\n",
       "2  oai:zbmath.org:5187739  SuperLU-DIST"
      ]
     },
     "execution_count": 85,
     "metadata": {},
     "output_type": "execute_result"
    }
   ],
   "source": [
    "# load the list of papers-to-software relations\n",
    "papers_software_df = pd.read_csv('data/all_papers_software.csv.zip')\n",
    "papers_software_df.head(3)"
   ]
  },
  {
   "cell_type": "markdown",
   "id": "c35aef8a-4251-4887-b11e-36b95a81acc3",
   "metadata": {},
   "source": [
    "### Edit a wikibase entity"
   ]
  },
  {
   "cell_type": "code",
   "execution_count": null,
   "id": "e58705ae-55a4-4ffe-b3df-20ec2b082c78",
   "metadata": {},
   "outputs": [],
   "source": [
    "def edit_entity(session, qid, data):\n",
    "    token = get_csrf_token(session)\n",
    "    \n",
    "    params = {\n",
    "        'id': qid,\n",
    "        'action': 'wbeditentity',\n",
    "        'format': 'json',\n",
    "        'data': json.dumps(data),\n",
    "        'token': token\n",
    "    }\n",
    "    r1 = session.post(WIKIBASE_API, data=params)\n",
    "    r1.json = r1.json()\n",
    "    \n",
    "    # raise when edit failed\n",
    "    if 'error' in r1.json.keys():\n",
    "        raise WBAPIException(r1.json['error'])\n",
    "\n",
    "    return r1.json['entity']['id']\n"
   ]
  },
  {
   "cell_type": "code",
   "execution_count": 86,
   "id": "c22d9b4f-ba61-4878-82e0-37cb61eadc68",
   "metadata": {
    "tags": []
   },
   "outputs": [],
   "source": [
    "groups = papers_software_df.groupby('id')\n",
    "for paper_ref,group in groups:\n",
    "    paper_id = papers_df[papers_df['id'] == paper_ref]['qid'].values[0]\n",
    "    for software_name in group['software']:\n",
    "        software_id = software_df[software_df['Len'] == software_name]['qid']\n",
    "        software_id = software_id.values[0]\n",
    "        data = {\n",
    "            'claims': [\n",
    "                {\n",
    "                    # describe project that uses\n",
    "                    'mainsnak':{\n",
    "                        'snaktype':'value', 'property':'P4510', 'datavalue':{'type':'wikibase-entityid', 'value': {'entity-type':'item','id':software_id}}},\n",
    "                        'type': 'statement', 'rank': 'normal'}]\n",
    "        }\n",
    "        edit_entity(session, paper_id, data)"
   ]
  },
  {
   "cell_type": "markdown",
   "id": "4bda1022-3c9e-46aa-a5e2-b04cba6b373e",
   "metadata": {},
   "source": [
    "### Append paper to author relations"
   ]
  },
  {
   "cell_type": "code",
   "execution_count": 84,
   "id": "df1612c2-8841-465e-9309-709ac8894df0",
   "metadata": {},
   "outputs": [
    {
     "data": {
      "text/html": [
       "<div>\n",
       "<style scoped>\n",
       "    .dataframe tbody tr th:only-of-type {\n",
       "        vertical-align: middle;\n",
       "    }\n",
       "\n",
       "    .dataframe tbody tr th {\n",
       "        vertical-align: top;\n",
       "    }\n",
       "\n",
       "    .dataframe thead th {\n",
       "        text-align: right;\n",
       "    }\n",
       "</style>\n",
       "<table border=\"1\" class=\"dataframe\">\n",
       "  <thead>\n",
       "    <tr style=\"text-align: right;\">\n",
       "      <th></th>\n",
       "      <th>Unnamed: 0</th>\n",
       "      <th>paper_id</th>\n",
       "      <th>author_id</th>\n",
       "    </tr>\n",
       "  </thead>\n",
       "  <tbody>\n",
       "    <tr>\n",
       "      <th>0</th>\n",
       "      <td>0</td>\n",
       "      <td>oai:zbmath.org:5181224</td>\n",
       "      <td>zlatev.zahari</td>\n",
       "    </tr>\n",
       "    <tr>\n",
       "      <th>1</th>\n",
       "      <td>1</td>\n",
       "      <td>oai:zbmath.org:5181224</td>\n",
       "      <td>dimov.ivan-todor</td>\n",
       "    </tr>\n",
       "    <tr>\n",
       "      <th>2</th>\n",
       "      <td>2</td>\n",
       "      <td>oai:zbmath.org:5187737</td>\n",
       "      <td>buttari.alfredo</td>\n",
       "    </tr>\n",
       "  </tbody>\n",
       "</table>\n",
       "</div>"
      ],
      "text/plain": [
       "   Unnamed: 0                paper_id         author_id\n",
       "0           0  oai:zbmath.org:5181224     zlatev.zahari\n",
       "1           1  oai:zbmath.org:5181224  dimov.ivan-todor\n",
       "2           2  oai:zbmath.org:5187737   buttari.alfredo"
      ]
     },
     "execution_count": 84,
     "metadata": {},
     "output_type": "execute_result"
    }
   ],
   "source": [
    "# load the list of papers to authors relations\n",
    "papers_authors_df = pd.read_csv('data/all_papers_authors.csv.zip')\n",
    "papers_authors_df.head(3)"
   ]
  },
  {
   "cell_type": "code",
   "execution_count": 97,
   "id": "26a68eaf-709a-49bb-b11b-6aa61b114776",
   "metadata": {
    "tags": []
   },
   "outputs": [],
   "source": [
    "groups = papers_authors_df.groupby('paper_id')\n",
    "for paper_ref,group in groups:\n",
    "    paper_id = papers_df[papers_df['id'] == paper_ref]['qid'].values[0]\n",
    "    for author_ref in group['author_id']:\n",
    "        author_qid = authors_df[authors_df['author_id'] == author_ref]['qid']\n",
    "        author_qid = author_qid.values[0]\n",
    "        data = {\n",
    "            'claims': [\n",
    "                {\n",
    "                    # paper has author\n",
    "                    'mainsnak':{\n",
    "                        'snaktype':'value', 'property':'P50', 'datavalue':{'type':'wikibase-entityid', 'value': {'entity-type':'item','id':author_qid}}},\n",
    "                        'type': 'statement', 'rank': 'normal'}]\n",
    "        }\n",
    "        edit_entity(session, paper_id, data)"
   ]
  },
  {
   "cell_type": "code",
   "execution_count": 93,
   "id": "94c23f5b-2309-4c64-a87b-790c2bfe9a51",
   "metadata": {},
   "outputs": [
    {
     "data": {
      "text/html": [
       "<div>\n",
       "<style scoped>\n",
       "    .dataframe tbody tr th:only-of-type {\n",
       "        vertical-align: middle;\n",
       "    }\n",
       "\n",
       "    .dataframe tbody tr th {\n",
       "        vertical-align: top;\n",
       "    }\n",
       "\n",
       "    .dataframe thead th {\n",
       "        text-align: right;\n",
       "    }\n",
       "</style>\n",
       "<table border=\"1\" class=\"dataframe\">\n",
       "  <thead>\n",
       "    <tr style=\"text-align: right;\">\n",
       "      <th></th>\n",
       "      <th>author_id</th>\n",
       "      <th>author_name</th>\n",
       "      <th>qid</th>\n",
       "    </tr>\n",
       "  </thead>\n",
       "  <tbody>\n",
       "    <tr>\n",
       "      <th>0</th>\n",
       "      <td>aidun.cyrus-k</td>\n",
       "      <td>Aidun, Cyrus K.</td>\n",
       "      <td>Q1104</td>\n",
       "    </tr>\n",
       "    <tr>\n",
       "      <th>1</th>\n",
       "      <td>babuska.ivo-m</td>\n",
       "      <td>Babuška, I.</td>\n",
       "      <td>Q1105</td>\n",
       "    </tr>\n",
       "    <tr>\n",
       "      <th>2</th>\n",
       "      <td>banerjee.uday</td>\n",
       "      <td>Banerjee, U.</td>\n",
       "      <td>Q1106</td>\n",
       "    </tr>\n",
       "    <tr>\n",
       "      <th>3</th>\n",
       "      <td>bartels.alexander</td>\n",
       "      <td>Bartels, Alexander</td>\n",
       "      <td>Q1107</td>\n",
       "    </tr>\n",
       "    <tr>\n",
       "      <th>4</th>\n",
       "      <td>basko.mikhail-m</td>\n",
       "      <td>Basko, M. M.</td>\n",
       "      <td>Q1108</td>\n",
       "    </tr>\n",
       "  </tbody>\n",
       "</table>\n",
       "</div>"
      ],
      "text/plain": [
       "           author_id          author_name    qid\n",
       "0      aidun.cyrus-k      Aidun, Cyrus K.  Q1104\n",
       "1      babuska.ivo-m          Babuška, I.  Q1105\n",
       "2      banerjee.uday         Banerjee, U.  Q1106\n",
       "3  bartels.alexander   Bartels, Alexander  Q1107\n",
       "4    basko.mikhail-m         Basko, M. M.  Q1108"
      ]
     },
     "execution_count": 93,
     "metadata": {},
     "output_type": "execute_result"
    }
   ],
   "source": [
    "authors_df.head()"
   ]
  },
  {
   "cell_type": "code",
   "execution_count": null,
   "id": "ce532bc7-406a-4b64-8b84-3e7047f9718c",
   "metadata": {},
   "outputs": [],
   "source": []
  }
 ],
 "metadata": {
  "kernelspec": {
   "display_name": "Python 3 (ipykernel)",
   "language": "python",
   "name": "python3"
  },
  "language_info": {
   "codemirror_mode": {
    "name": "ipython",
    "version": 3
   },
   "file_extension": ".py",
   "mimetype": "text/x-python",
   "name": "python",
   "nbconvert_exporter": "python",
   "pygments_lexer": "ipython3",
   "version": "3.9.7"
  }
 },
 "nbformat": 4,
 "nbformat_minor": 5
}
