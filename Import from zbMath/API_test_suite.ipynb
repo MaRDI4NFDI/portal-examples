{
 "cells": [
  {
   "cell_type": "markdown",
   "id": "cad7ca3a-4cb9-41e1-bdcf-55d0567e808a",
   "metadata": {
    "tags": []
   },
   "source": [
    "# API test suite\n",
    "Test that the zbMath Open API works as documented.\n",
    "\n",
    "Data in [zbMath Open](https://www.zbmath.org/) can be accessed through the [zbMath Open OAI-PMH](https://oai.zbmath.org/) service, that implements the Open Archives Initiative Protocol for Metadata Harvesting (OAI-PMH) [Schubotz and Teschke, 2021]. The service is open and subject to certain [terms and conditions](https://oai.zbmath.org/static/terms-and-conditions.html)."
   ]
  },
  {
   "cell_type": "code",
   "execution_count": 31,
   "id": "e07dbe3e-8157-477f-9c6c-54dbaf861526",
   "metadata": {},
   "outputs": [
    {
     "name": "stdout",
     "output_type": "stream",
     "text": [
      "Lasr run 2022-01-27 11:17:58.072096\n"
     ]
    }
   ],
   "source": [
    "# load common functions\n",
    "%run definitions_and_functions.ipynb\n",
    "# change the URL to that of the test server\n",
    "API_URL = 'https://zboai.formulasearchengine.com/v1/'\n",
    "FILTER = '{}helper/filter?metadataPrefix=oai_zb_preview'.format(API_URL) # helper/filter endpoint\n",
    "# headers have no effect, but set then to be sure\n",
    "headers = {'accept': 'text/xml'} # this has no effect\n",
    "# print time this notebook was saved\n",
    "print('Lasr run {}'.format(datetime.now()))"
   ]
  },
  {
   "cell_type": "markdown",
   "id": "9b31860b-80bb-4f25-a3a6-05266e264ea5",
   "metadata": {},
   "source": [
    "## Test helpers/filter endpoint"
   ]
  },
  {
   "cell_type": "code",
   "execution_count": 32,
   "id": "d82fc2bb-b1fe-476a-891d-cb61b5e4ef05",
   "metadata": {},
   "outputs": [],
   "source": [
    "# API call with filter software:BEMLIB should return 101 entries\n",
    "software = 'BEMLIB'\n",
    "REQUEST_URL=\"{}&filter=software:{}\".format(FILTER, software)\n",
    "\n",
    "records = parse_pages(REQUEST_URL, headers)\n",
    "assert len(records) == 101, \"Unexpected records count\""
   ]
  },
  {
   "cell_type": "code",
   "execution_count": null,
   "id": "6d37a737-d2c9-48e1-b897-c808ec74f8be",
   "metadata": {},
   "outputs": [],
   "source": []
  }
 ],
 "metadata": {
  "kernelspec": {
   "display_name": "Python 3 (ipykernel)",
   "language": "python",
   "name": "python3"
  },
  "language_info": {
   "codemirror_mode": {
    "name": "ipython",
    "version": 3
   },
   "file_extension": ".py",
   "mimetype": "text/x-python",
   "name": "python",
   "nbconvert_exporter": "python",
   "pygments_lexer": "ipython3",
   "version": "3.9.7"
  }
 },
 "nbformat": 4,
 "nbformat_minor": 5
}
