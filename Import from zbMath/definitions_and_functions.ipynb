{
 "cells": [
  {
   "cell_type": "markdown",
   "id": "8b8ed1eb-bf1a-4884-a490-35e89b6ad51c",
   "metadata": {},
   "source": [
    "# This notebook has definitions and functions used in common by the other notebooks\n",
    "\n",
    "Data in [zbMath Open](https://www.zbmath.org/) can be accessed through the [zbMath Open OAI-PMH](https://oai.zbmath.org/) service, that implements the Open Archives Initiative Protocol for Metadata Harvesting (OAI-PMH) [Schubotz and Teschke, 2021]. The service is open and subject to certain [terms and conditions](https://oai.zbmath.org/static/terms-and-conditions.html).\n",
    "\n",
    "To load these functions into another notebook, do `%run definitions_and_functions.ipynb` inside a code cell, e.g. once at the top of the page."
   ]
  },
  {
   "cell_type": "markdown",
   "id": "bbdcfed1-150f-45a5-a797-dbaed1f6954d",
   "metadata": {},
   "source": [
    "## Common URLs, endpoints and namespaces"
   ]
  },
  {
   "cell_type": "code",
   "execution_count": 2,
   "id": "1a084562-13b8-44b7-829d-dac82b3cc2e5",
   "metadata": {},
   "outputs": [],
   "source": [
    "# API URLs\n",
    "API_URL='https://oai.zbmath.org/v1/' # base URL of the API\n",
    "LIST_IDENTIFIERS=\"{}?verb=ListIdentifiers&metadataPrefix=oai_zb_preview\".format(API_URL) # ListIdentifiers endpoint\n",
    "LIST_RECORDS=\"{}?verb=ListRecords&metadataPrefix=oai_zb_preview\".format(API_URL) # ListRecords endpoint\n",
    "GET_RECORD=\"{}?verb=GetRecord&metadataPrefix=oai_zb_preview\".format(API_URL) # GetRecord endpoint\n",
    "FILTER = '{}helper/filter?metadataPrefix=oai_zb_preview'.format(API_URL) # helper/filter endpoint\n",
    "\n",
    "# API namespaces\n",
    "OAI_NS = 'http://www.openarchives.org/OAI/2.0/' # the OAI namespace\n",
    "OAI_ZB_PREVIEW_NS = 'https://zbmath.org/OAI/2.0/oai_zb_preview/'\n",
    "ZBMATH_NS = 'https://zbmath.org/zbmath/elements/1.0/'\n",
    "\n",
    "# text shown in zbMath Open when there's a license conflict\n",
    "CONFLICT_TXT = 'zbMATH Open Web Interface contents unavailable due to conflicting licenses.'\n",
    "# which tags to keep\n",
    "TAGS = ['author', 'author_ids', 'document_title', 'source', 'classifications', 'keywords', 'doi', 'publication_year']"
   ]
  },
  {
   "cell_type": "markdown",
   "id": "82e29ea8-b52e-4863-b6a5-315771ac7b95",
   "metadata": {},
   "source": [
    "## Defines a function to handle namespaces and tag names"
   ]
  },
  {
   "cell_type": "code",
   "execution_count": 4,
   "id": "0c0b142f-3551-4b62-a33b-cb9d49832fc0",
   "metadata": {},
   "outputs": [],
   "source": [
    "def ns(tag_name, namespace=OAI_NS):\n",
    "    \"\"\"\n",
    "    Returns a fully qualified tag name.\n",
    "    @param namespace URL of a namespace|None (OAI_NS is default)\n",
    "    \"\"\"\n",
    "    return '{{{}}}{}'.format(namespace, tag_name)"
   ]
  },
  {
   "cell_type": "markdown",
   "id": "0fb3a185-0e67-4581-940a-a02811fa124c",
   "metadata": {},
   "source": [
    "## Defines a function to parse records XML into a python dict"
   ]
  },
  {
   "cell_type": "code",
   "execution_count": 5,
   "id": "ef45f3df-c7b2-4cc1-b1d3-954a0a66b1cf",
   "metadata": {},
   "outputs": [],
   "source": [
    "import xml.etree.ElementTree as ET\n",
    "\n",
    "def parse_record(xml_record, verbose=False):\n",
    "    \"\"\"\n",
    "    Parse bibliographic record details from XML Element.\n",
    "    @returns dict\n",
    "    \"\"\"\n",
    "    new_entry = {}\n",
    "    # zbMath identifier\n",
    "    zb_id = xml_record.find(ns('header')).find(ns('identifier')).text \n",
    "    new_entry['id'] = zb_id\n",
    "    # read tags\n",
    "    zb_preview = xml_record.find(ns('metadata')).find(ns('zbmath', OAI_ZB_PREVIEW_NS))\n",
    "    for tag in TAGS:\n",
    "        value = zb_preview.find(ns(tag, ZBMATH_NS))\n",
    "        if value is not None:\n",
    "            if len(value):\n",
    "                # element has children\n",
    "                texts = []\n",
    "                for child in value:\n",
    "                    texts.append(child.text)\n",
    "                text = ';'.join(texts) # multiple values are rendered as a semicolon-separated string\n",
    "            else:\n",
    "                # element content is a simple text\n",
    "                text = zb_preview.find(ns(tag, ZBMATH_NS)).text\n",
    "                \n",
    "            if text == CONFLICT_TXT:\n",
    "                # License conflict\n",
    "                if verbose:\n",
    "                    print('Licensing conflict for id \"{}\" tag \"{}\"'.format(zb_id, tag))\n",
    "                return None\n",
    "            \n",
    "            new_entry[tag] = text\n",
    "    return new_entry"
   ]
  },
  {
   "cell_type": "markdown",
   "id": "4b262aad-f81d-4400-9b98-fe5382accf28",
   "metadata": {},
   "source": [
    "## Subclass Exception to define custom exception for API errors"
   ]
  },
  {
   "cell_type": "code",
   "execution_count": 7,
   "id": "600f94aa-2ea0-4e65-8774-0e9cddf2277c",
   "metadata": {},
   "outputs": [],
   "source": [
    "class ZbMathOpenAPIException(BaseException):\n",
    "    \"\"\"Raised when the zbMATH Open API throws an error\"\"\"\n",
    "    pass\n"
   ]
  },
  {
   "cell_type": "markdown",
   "id": "93399ac0-bd1f-478c-b435-e824507d42dc",
   "metadata": {},
   "source": [
    "## Helper function for logging"
   ]
  },
  {
   "cell_type": "code",
   "execution_count": 12,
   "id": "41175531-1b43-4396-b4a8-b4ac37816610",
   "metadata": {},
   "outputs": [],
   "source": [
    "from datetime import datetime\n",
    "IMPORT_LOG = \"data/api.log\"\n",
    "\n",
    "def log(msg):\n",
    "    \"\"\"Helper function for API log\"\"\"\n",
    "    with open(IMPORT_LOG, \"a\") as logfile:\n",
    "        logfile.write('{} {}\\n'.format(datetime.now(), msg))"
   ]
  },
  {
   "cell_type": "code",
   "execution_count": null,
   "id": "6e7067f9-0480-4eae-8330-1d6041a7c22a",
   "metadata": {},
   "outputs": [],
   "source": []
  }
 ],
 "metadata": {
  "kernelspec": {
   "display_name": "Python 3 (ipykernel)",
   "language": "python",
   "name": "python3"
  },
  "language_info": {
   "codemirror_mode": {
    "name": "ipython",
    "version": 3
   },
   "file_extension": ".py",
   "mimetype": "text/x-python",
   "name": "python",
   "nbconvert_exporter": "python",
   "pygments_lexer": "ipython3",
   "version": "3.9.7"
  }
 },
 "nbformat": 4,
 "nbformat_minor": 5
}
