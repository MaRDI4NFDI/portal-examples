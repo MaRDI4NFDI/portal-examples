{
 "cells": [
  {
   "cell_type": "markdown",
   "id": "03a5fefa-742f-4baf-9661-3e9f0e5a48e2",
   "metadata": {},
   "source": [
    "# Harvest records from zbMath\n",
    "This notebook does basically the same as the [Access data from zbMath](access_data_zbMath.ipynb), but uses the ListRecords endpoint to harvest data *en masse*. This is both more efficient as less http requests are sent, and easier to programm.\n",
    "\n",
    "Data in [zbMath Open](https://www.zbmath.org/) can be accessed through the [zbMath Open OAI-PMH](https://oai.zbmath.org/) service, that implements the Open Archives Initiative Protocol for Metadata Harvesting (OAI-PMH) [Schubotz and Teschke, 2021]. The service is open and subject to certain [terms and conditions](https://oai.zbmath.org/static/terms-and-conditions.html)."
   ]
  },
  {
   "cell_type": "code",
   "execution_count": 1,
   "id": "6e7c043f-3887-492f-a1c1-ae3e3b94e5b2",
   "metadata": {},
   "outputs": [],
   "source": [
    "%run zbMath_common.ipynb"
   ]
  },
  {
   "cell_type": "markdown",
   "id": "4d917cf0-3078-4d53-b376-4a8e535f9522",
   "metadata": {},
   "source": [
    "## Get a list of records"
   ]
  },
  {
   "cell_type": "code",
   "execution_count": 2,
   "id": "94c2e179-f4b2-4aae-9636-ef4157e37d5e",
   "metadata": {},
   "outputs": [],
   "source": [
    "import requests\n",
    "\n",
    "date_from = '2021-01-01T00%3A00%3A00Z'\n",
    "date_until = '2022-01-01T00%3A00%3A00Z'\n",
    "REQUEST_URL=\"{}&from={}&until={}\".format(LIST_RECORDS, date_from, date_until)\n",
    "\n",
    "# get data from API\n",
    "headers = {'accept': 'text/xml'} # this has NO effect\n",
    "all_records_xml = requests.get(REQUEST_URL, headers)\n",
    "\n",
    "# save raw data in local file\n",
    "with open('data/all_records.xml', 'w') as f:\n",
    "    f.write(all_records_xml.text)"
   ]
  },
  {
   "cell_type": "markdown",
   "id": "09391da0-e2d5-4c14-a057-ae819e19ecdd",
   "metadata": {},
   "source": [
    "Parse the response into an XML tree, and find all the 'record' XML elements"
   ]
  },
  {
   "cell_type": "code",
   "execution_count": 3,
   "id": "7789917a-d17e-401a-ad80-45bae8fa5d70",
   "metadata": {},
   "outputs": [],
   "source": [
    "import xml.etree.ElementTree as ET\n",
    "import pandas as pd\n",
    "\n",
    "#parse the tree, get a list of records\n",
    "tree = ET.parse('data/all_records.xml')\n",
    "list_ids = tree.getroot().find(ns('ListRecords'))\n",
    "records = list_ids.findall(ns('record'))"
   ]
  },
  {
   "cell_type": "markdown",
   "id": "c3ee3a2b-0d53-4c5a-8e25-a29d83388500",
   "metadata": {},
   "source": [
    "Parse all records in the data set, put them into a pandas data frame"
   ]
  },
  {
   "cell_type": "code",
   "execution_count": 4,
   "id": "97b22d60-91d5-4d41-823f-2a3c1af1fe34",
   "metadata": {},
   "outputs": [
    {
     "name": "stdout",
     "output_type": "stream",
     "text": [
      "Imported 46 entries (discarded 54 for licensing conflicts)\n"
     ]
    }
   ],
   "source": [
    "# loop through all entries\n",
    "all_details = []\n",
    "for record in records:\n",
    "    details = parse_record(record)\n",
    "    if details:\n",
    "        all_details.append(details)\n",
    "\n",
    "# convert to data frame\n",
    "records_df = pd.DataFrame(all_details)\n",
    "if 'id' not in records_df.columns:\n",
    "    print(\"Problem reading zbMath id's. No data?\")\n",
    "else:\n",
    "    records_df.set_index('id', inplace=True)\n",
    "\n",
    "print('Imported {} entries (discarded {} for licensing conflicts)'.format(len(records_df), len(records) - len(records_df) ))"
   ]
  },
  {
   "cell_type": "markdown",
   "id": "14213a8e-a32b-4fd4-993d-088dff7a9834",
   "metadata": {},
   "source": [
    "Save the data for later usage"
   ]
  },
  {
   "cell_type": "code",
   "execution_count": 5,
   "id": "4987db36-2116-470c-9d3f-a23cd214a4ac",
   "metadata": {},
   "outputs": [],
   "source": [
    "#records_df.to_csv('data/records.csv')"
   ]
  },
  {
   "cell_type": "code",
   "execution_count": null,
   "id": "6c1eeb46-60bf-4673-b28d-3bd560e35f04",
   "metadata": {},
   "outputs": [],
   "source": []
  }
 ],
 "metadata": {
  "kernelspec": {
   "display_name": "Python 3 (ipykernel)",
   "language": "python",
   "name": "python3"
  },
  "language_info": {
   "codemirror_mode": {
    "name": "ipython",
    "version": 3
   },
   "file_extension": ".py",
   "mimetype": "text/x-python",
   "name": "python",
   "nbconvert_exporter": "python",
   "pygments_lexer": "ipython3",
   "version": "3.9.7"
  }
 },
 "nbformat": 4,
 "nbformat_minor": 5
}
