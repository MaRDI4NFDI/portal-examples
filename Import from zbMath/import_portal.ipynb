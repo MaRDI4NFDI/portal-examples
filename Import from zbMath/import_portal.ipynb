{
 "cells": [
  {
   "cell_type": "markdown",
   "id": "e33a2c5a-b2c9-4d19-85fe-1de1d61896e4",
   "metadata": {},
   "source": [
    "# Import data into the MaRDI Portal\n",
    "\n",
    "Used [Protege online](https://webprotege.stanford.edu/) to model the required classes and properties.\n",
    "\n",
    "The resulting model was saved in OWL/XMLformat (`data/mardi-portal.owl`).\n",
    "\n",
    "Used [WebVOWL](http://vowl.visualdataweb.org/webvowl.html) to visualize the model."
   ]
  },
  {
   "cell_type": "markdown",
   "id": "e1bf4693-b5eb-4685-8365-476a1d3fc954",
   "metadata": {},
   "source": [
    "![title](data/mardi-portal.owl.svg)"
   ]
  },
  {
   "cell_type": "markdown",
   "id": "0e91f106-2abd-47f3-909f-28f4a30a98ce",
   "metadata": {},
   "source": [
    "1. Start a local wikibase, e.g. using [MaRDI4NFDI/portal-compose](https://github.com/MaRDI4NFDI/portal-compose)\n",
    "2. Increase memory limit by setting `ini_set( 'memory_limit', '1024M' );` in LocalSettings.d/LocalSettings.override.php\n",
    "3. ~Enable federated properties from Wikidata by setting `$wgWBRepoSettings['federatedPropertiesEnabled'] = true;` in Localsettings.d/LocalSettings.override.php~\n",
    "4. Import the items file `data/Wikidata_items.xml` into the local wikibase. This file contains item and property pages that have been exported from Wikidata."
   ]
  },
  {
   "cell_type": "markdown",
   "id": "aa1fbf78-89b9-4120-8b69-a80214f245e9",
   "metadata": {},
   "source": [
    "## Import the authors list\n",
    "A subsample of the authors list was created in notebook `filter_papers_by_software.ipyb`. This list contains the authors of a papers related to the first 1000 software entries in the list of softwares (`data/swMath-software-list.csv`). The list of authors is in file `data/all_authors.csv.zip`. "
   ]
  },
  {
   "cell_type": "code",
   "execution_count": 1,
   "id": "655e06fd-6b69-4f50-9a54-4f814b3d12c2",
   "metadata": {},
   "outputs": [
    {
     "data": {
      "text/html": [
       "<div>\n",
       "<style scoped>\n",
       "    .dataframe tbody tr th:only-of-type {\n",
       "        vertical-align: middle;\n",
       "    }\n",
       "\n",
       "    .dataframe tbody tr th {\n",
       "        vertical-align: top;\n",
       "    }\n",
       "\n",
       "    .dataframe thead th {\n",
       "        text-align: right;\n",
       "    }\n",
       "</style>\n",
       "<table border=\"1\" class=\"dataframe\">\n",
       "  <thead>\n",
       "    <tr style=\"text-align: right;\">\n",
       "      <th></th>\n",
       "      <th>author_id</th>\n",
       "      <th>author_name</th>\n",
       "    </tr>\n",
       "  </thead>\n",
       "  <tbody>\n",
       "    <tr>\n",
       "      <th>0</th>\n",
       "      <td>aangenent.w-h-t-m</td>\n",
       "      <td>Aangenent, W. H. T. M.</td>\n",
       "    </tr>\n",
       "    <tr>\n",
       "      <th>1</th>\n",
       "      <td>aardal.karen-i</td>\n",
       "      <td>Aardal, Karen</td>\n",
       "    </tr>\n",
       "    <tr>\n",
       "      <th>2</th>\n",
       "      <td>aarts.gert</td>\n",
       "      <td>Aarts, Gert</td>\n",
       "    </tr>\n",
       "    <tr>\n",
       "      <th>3</th>\n",
       "      <td>aavatsmark.ivar</td>\n",
       "      <td>Aavatsmark, Ivar</td>\n",
       "    </tr>\n",
       "    <tr>\n",
       "      <th>4</th>\n",
       "      <td>abad.alberto-j</td>\n",
       "      <td>Abad, Alberto</td>\n",
       "    </tr>\n",
       "  </tbody>\n",
       "</table>\n",
       "</div>"
      ],
      "text/plain": [
       "           author_id             author_name\n",
       "0  aangenent.w-h-t-m  Aangenent, W. H. T. M.\n",
       "1     aardal.karen-i           Aardal, Karen\n",
       "2         aarts.gert             Aarts, Gert\n",
       "3    aavatsmark.ivar        Aavatsmark, Ivar\n",
       "4     abad.alberto-j           Abad, Alberto"
      ]
     },
     "execution_count": 1,
     "metadata": {},
     "output_type": "execute_result"
    }
   ],
   "source": [
    "# load the list of authors\n",
    "import pandas as pd\n",
    "\n",
    "# load the list of zbMath authors\n",
    "authors_df = pd.read_csv('data/all_authors.csv.zip')\n",
    "authors_df.head()"
   ]
  },
  {
   "cell_type": "markdown",
   "id": "5c1fc5f7-a131-4ff6-814e-17c317ff32a8",
   "metadata": {},
   "source": [
    "Map the columns to MaRDI-Portal properties, reformat the data according to [the CSV file syntax expected by Quickstatements](https://www.wikidata.org/wiki/Help:QuickStatements#CSV_file_syntax). "
   ]
  },
  {
   "cell_type": "code",
   "execution_count": 13,
   "id": "75087de1-bc2e-484b-a084-6b1c74775774",
   "metadata": {},
   "outputs": [],
   "source": [
    "from datetime import datetime\n",
    "\n",
    "import_authors_df = pd.DataFrame()\n",
    "import_authors_df['qid'] = len(authors_df) * [''] # leave empty to create new item\n",
    "import_authors_df['Len'] = authors_df['author_name']\n",
    "import_authors_df['P31'] = len(authors_df) * ['Q5'] # instance of 'human'\n",
    "import_authors_df['P1556'] = authors_df['author_id'] # zbMath author id\n",
    "import_authors_df['#'] = len(authors_df) * ['{}: imported from zbMath Open API'.format(datetime.now())]"
   ]
  },
  {
   "cell_type": "code",
   "execution_count": 14,
   "id": "971d332c-561c-42f0-bd12-1e20c1d00e08",
   "metadata": {},
   "outputs": [
    {
     "data": {
      "text/html": [
       "<div>\n",
       "<style scoped>\n",
       "    .dataframe tbody tr th:only-of-type {\n",
       "        vertical-align: middle;\n",
       "    }\n",
       "\n",
       "    .dataframe tbody tr th {\n",
       "        vertical-align: top;\n",
       "    }\n",
       "\n",
       "    .dataframe thead th {\n",
       "        text-align: right;\n",
       "    }\n",
       "</style>\n",
       "<table border=\"1\" class=\"dataframe\">\n",
       "  <thead>\n",
       "    <tr style=\"text-align: right;\">\n",
       "      <th></th>\n",
       "      <th>qid</th>\n",
       "      <th>Len</th>\n",
       "      <th>P31</th>\n",
       "      <th>#</th>\n",
       "      <th>P1556</th>\n",
       "    </tr>\n",
       "  </thead>\n",
       "  <tbody>\n",
       "    <tr>\n",
       "      <th>0</th>\n",
       "      <td></td>\n",
       "      <td>Aangenent, W. H. T. M.</td>\n",
       "      <td>Q5</td>\n",
       "      <td>2022-01-26 14:36:29.973332: imported from zbMa...</td>\n",
       "      <td>aangenent.w-h-t-m</td>\n",
       "    </tr>\n",
       "    <tr>\n",
       "      <th>1</th>\n",
       "      <td></td>\n",
       "      <td>Aardal, Karen</td>\n",
       "      <td>Q5</td>\n",
       "      <td>2022-01-26 14:36:29.973332: imported from zbMa...</td>\n",
       "      <td>aardal.karen-i</td>\n",
       "    </tr>\n",
       "    <tr>\n",
       "      <th>2</th>\n",
       "      <td></td>\n",
       "      <td>Aarts, Gert</td>\n",
       "      <td>Q5</td>\n",
       "      <td>2022-01-26 14:36:29.973332: imported from zbMa...</td>\n",
       "      <td>aarts.gert</td>\n",
       "    </tr>\n",
       "    <tr>\n",
       "      <th>3</th>\n",
       "      <td></td>\n",
       "      <td>Aavatsmark, Ivar</td>\n",
       "      <td>Q5</td>\n",
       "      <td>2022-01-26 14:36:29.973332: imported from zbMa...</td>\n",
       "      <td>aavatsmark.ivar</td>\n",
       "    </tr>\n",
       "    <tr>\n",
       "      <th>4</th>\n",
       "      <td></td>\n",
       "      <td>Abad, Alberto</td>\n",
       "      <td>Q5</td>\n",
       "      <td>2022-01-26 14:36:29.973332: imported from zbMa...</td>\n",
       "      <td>abad.alberto-j</td>\n",
       "    </tr>\n",
       "  </tbody>\n",
       "</table>\n",
       "</div>"
      ],
      "text/plain": [
       "  qid                     Len P31  \\\n",
       "0      Aangenent, W. H. T. M.  Q5   \n",
       "1               Aardal, Karen  Q5   \n",
       "2                 Aarts, Gert  Q5   \n",
       "3            Aavatsmark, Ivar  Q5   \n",
       "4               Abad, Alberto  Q5   \n",
       "\n",
       "                                                   #              P1556  \n",
       "0  2022-01-26 14:36:29.973332: imported from zbMa...  aangenent.w-h-t-m  \n",
       "1  2022-01-26 14:36:29.973332: imported from zbMa...     aardal.karen-i  \n",
       "2  2022-01-26 14:36:29.973332: imported from zbMa...         aarts.gert  \n",
       "3  2022-01-26 14:36:29.973332: imported from zbMa...    aavatsmark.ivar  \n",
       "4  2022-01-26 14:36:29.973332: imported from zbMa...     abad.alberto-j  "
      ]
     },
     "execution_count": 14,
     "metadata": {},
     "output_type": "execute_result"
    }
   ],
   "source": [
    "import_authors_df.head()"
   ]
  },
  {
   "cell_type": "code",
   "execution_count": 15,
   "id": "722aadfa-9e20-4593-b6c4-8b99fdc58ca1",
   "metadata": {},
   "outputs": [],
   "source": [
    "# save as csv\n",
    "import_authors_df.to_csv('data/qs_import_authors.csv', index=None) # suppress index to make valid CSV for import "
   ]
  },
  {
   "cell_type": "markdown",
   "id": "709fb67e-43c4-4095-ad13-6a206ea8990a",
   "metadata": {},
   "source": [
    "Copy and paste the data in the csv into Quickstatements. If you started the local wikibase using [MaRDI4NFDI/portal-compose](https://github.com/MaRDI4NFDI/portal-compose), then Quickstatements can be found at http://localhost:8840."
   ]
  },
  {
   "cell_type": "markdown",
   "id": "c21721c6-5edb-414d-abab-838546a1a661",
   "metadata": {},
   "source": [
    "## Import the software list\n",
    "All software entries have already been imported into the MaRDI portal.\n",
    "Here I will import the first 1000 (out of 40000) software entries into the local wiki for testing."
   ]
  },
  {
   "cell_type": "code",
   "execution_count": 18,
   "id": "fdcc92d9-4006-4083-9835-bce08f5a3068",
   "metadata": {},
   "outputs": [
    {
     "data": {
      "text/html": [
       "<div>\n",
       "<style scoped>\n",
       "    .dataframe tbody tr th:only-of-type {\n",
       "        vertical-align: middle;\n",
       "    }\n",
       "\n",
       "    .dataframe tbody tr th {\n",
       "        vertical-align: top;\n",
       "    }\n",
       "\n",
       "    .dataframe thead th {\n",
       "        text-align: right;\n",
       "    }\n",
       "</style>\n",
       "<table border=\"1\" class=\"dataframe\">\n",
       "  <thead>\n",
       "    <tr style=\"text-align: right;\">\n",
       "      <th></th>\n",
       "      <th>qid</th>\n",
       "      <th>P13</th>\n",
       "      <th>Len</th>\n",
       "      <th>#</th>\n",
       "    </tr>\n",
       "  </thead>\n",
       "  <tbody>\n",
       "    <tr>\n",
       "      <th>0</th>\n",
       "      <td>NaN</td>\n",
       "      <td>'0'</td>\n",
       "      <td>swMATH</td>\n",
       "      <td>initial csv import 2021-12-17</td>\n",
       "    </tr>\n",
       "    <tr>\n",
       "      <th>1</th>\n",
       "      <td>NaN</td>\n",
       "      <td>'1'</td>\n",
       "      <td>FORTRAN</td>\n",
       "      <td>initial csv import 2021-12-17</td>\n",
       "    </tr>\n",
       "    <tr>\n",
       "      <th>2</th>\n",
       "      <td>NaN</td>\n",
       "      <td>'2'</td>\n",
       "      <td>SuperLU-DIST</td>\n",
       "      <td>initial csv import 2021-12-17</td>\n",
       "    </tr>\n",
       "    <tr>\n",
       "      <th>3</th>\n",
       "      <td>NaN</td>\n",
       "      <td>'3'</td>\n",
       "      <td>WHISPAR</td>\n",
       "      <td>initial csv import 2021-12-17</td>\n",
       "    </tr>\n",
       "    <tr>\n",
       "      <th>4</th>\n",
       "      <td>NaN</td>\n",
       "      <td>'4'</td>\n",
       "      <td>MULTI2D</td>\n",
       "      <td>initial csv import 2021-12-17</td>\n",
       "    </tr>\n",
       "  </tbody>\n",
       "</table>\n",
       "</div>"
      ],
      "text/plain": [
       "   qid  P13           Len                              #\n",
       "0  NaN  '0'        swMATH  initial csv import 2021-12-17\n",
       "1  NaN  '1'       FORTRAN  initial csv import 2021-12-17\n",
       "2  NaN  '2'  SuperLU-DIST  initial csv import 2021-12-17\n",
       "3  NaN  '3'       WHISPAR  initial csv import 2021-12-17\n",
       "4  NaN  '4'       MULTI2D  initial csv import 2021-12-17"
      ]
     },
     "execution_count": 18,
     "metadata": {},
     "output_type": "execute_result"
    }
   ],
   "source": [
    "# load the list of zbMath authors\n",
    "software_df = pd.read_csv('data/swMATH-software-list.csv')\n",
    "software_df = software_df[:1000]\n",
    "software_df.head()"
   ]
  },
  {
   "cell_type": "markdown",
   "id": "7b9b60e8-e792-4c3d-9104-a17d11be69b2",
   "metadata": {},
   "source": [
    "Map the columns to MaRDI-Portal properties, reformat the data according to [the CSV file syntax expected by Quickstatements](https://www.wikidata.org/wiki/Help:QuickStatements#CSV_file_syntax). The zbMath software id "
   ]
  },
  {
   "cell_type": "code",
   "execution_count": null,
   "id": "e50c4d5b-f9c1-44d3-9598-76a4bd103842",
   "metadata": {},
   "outputs": [],
   "source": [
    "import_software_df = pd.DataFrame()\n",
    "import_software_df['qid'] = len(software_df) * [''] # leave empty to create new item\n",
    "import_software_df['Len'] = software_df['Len']\n",
    "import_authors_df['P31'] = len(software_df) * ['Q5'] # instance of 'human'\n",
    "import_authors_df['P1556'] = authors_df['author_id'] # zbMath author id\n",
    "import_authors_df['#'] = len(authors_df) * ['{}: imported from zbMath Open API'.format(datetime.now())]"
   ]
  },
  {
   "cell_type": "markdown",
   "id": "09f77730-035a-43c4-a29b-de11a97fddb1",
   "metadata": {},
   "source": [
    "## Import the articles list\n",
    "A subsample of the articleslist was created in notebook `filter_papers_by_software.ipyb`. This list contains the papers related to the first 1000 software entries in the list of softwares (`data/swMath-software-list.csv`). The list of papers is in file `data/all_papers.csv.zip`. "
   ]
  },
  {
   "cell_type": "markdown",
   "id": "10c83d89-d9a4-4151-975f-bf68ff80a8c3",
   "metadata": {},
   "source": [
    "# Example queries\n",
    "Some example SPARQL queries that *should* be possible with the model and can be used to test it:\n",
    "* List all papers that use a certain software\n",
    "* List all papers by one author, sort by date\n",
    "* List all papers published by a certain journal, sort by author\n"
   ]
  },
  {
   "cell_type": "code",
   "execution_count": null,
   "id": "eb44fcd8-e1aa-4ca1-8aa7-2dc3c5313f3b",
   "metadata": {},
   "outputs": [],
   "source": []
  }
 ],
 "metadata": {
  "kernelspec": {
   "display_name": "Python 3 (ipykernel)",
   "language": "python",
   "name": "python3"
  },
  "language_info": {
   "codemirror_mode": {
    "name": "ipython",
    "version": 3
   },
   "file_extension": ".py",
   "mimetype": "text/x-python",
   "name": "python",
   "nbconvert_exporter": "python",
   "pygments_lexer": "ipython3",
   "version": "3.9.7"
  }
 },
 "nbformat": 4,
 "nbformat_minor": 5
}
