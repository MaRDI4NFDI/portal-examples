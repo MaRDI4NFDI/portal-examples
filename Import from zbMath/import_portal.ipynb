{
 "cells": [
  {
   "cell_type": "markdown",
   "id": "e33a2c5a-b2c9-4d19-85fe-1de1d61896e4",
   "metadata": {},
   "source": [
    "# Import data into the MaRDI Portal\n",
    "\n",
    "Used [Protege online](https://webprotege.stanford.edu/) to model the required classes and properties.\n",
    "\n",
    "The resulting model was saved in OWL/XMLformat (`data/mardi-portal.owl`).\n",
    "\n",
    "Used [WebVOWL](http://vowl.visualdataweb.org/webvowl.html) to visualize the model."
   ]
  },
  {
   "cell_type": "markdown",
   "id": "e1bf4693-b5eb-4685-8365-476a1d3fc954",
   "metadata": {},
   "source": [
    "![title](data/mardi-portal.owl.svg)"
   ]
  },
  {
   "cell_type": "markdown",
   "id": "10c83d89-d9a4-4151-975f-bf68ff80a8c3",
   "metadata": {},
   "source": [
    "# Use cases\n",
    "Some example queries that should be possible with the model:\n",
    "* List all papers that use a certain software\n",
    "* List all papers by one author\n",
    "* List all papers published by a \n"
   ]
  }
 ],
 "metadata": {
  "kernelspec": {
   "display_name": "Python 3 (ipykernel)",
   "language": "python",
   "name": "python3"
  },
  "language_info": {
   "codemirror_mode": {
    "name": "ipython",
    "version": 3
   },
   "file_extension": ".py",
   "mimetype": "text/x-python",
   "name": "python",
   "nbconvert_exporter": "python",
   "pygments_lexer": "ipython3",
   "version": "3.9.7"
  }
 },
 "nbformat": 4,
 "nbformat_minor": 5
}
