{
 "cells": [
  {
   "cell_type": "markdown",
   "id": "fcf862c8-5d08-4539-be78-54a78479f7d5",
   "metadata": {},
   "source": [
    "# Access data from zbMath\n",
    "Data in [zbMath Open](https://www.zbmath.org/) can be accessed through the [zbMath Open OAI-PMH](https://oai.zbmath.org/) service, that implements the Open Archives Initiative Protocol for Metadata Harvesting (OAI-PMH) [Schubotz and Teschke, 2021]. The service is open and subject to certain [terms and conditions](https://oai.zbmath.org/static/terms-and-conditions.html)."
   ]
  },
  {
   "cell_type": "code",
   "execution_count": 1,
   "id": "d2aac324-db87-4fc5-a966-75c5619d4b62",
   "metadata": {},
   "outputs": [],
   "source": [
    "%run zbMath_common.ipynb"
   ]
  },
  {
   "cell_type": "markdown",
   "id": "385a2100-c419-43fe-9e9b-7aa250019be1",
   "metadata": {},
   "source": [
    "## Get a list of publication Id's\n",
    "The following example gets the first 100 id's of the publications of the year 2021."
   ]
  },
  {
   "cell_type": "code",
   "execution_count": 2,
   "id": "0714ffd5-a8bd-4612-9e33-960303740f90",
   "metadata": {},
   "outputs": [],
   "source": [
    "import requests\n",
    "\n",
    "date_from = '2021-01-01T00%3A00%3A00Z'\n",
    "date_until = '2022-01-01T00%3A00%3A00Z'\n",
    "REQUEST_URL=\"{}&from={}&until={}\".format(LIST_IDENTIFIERS, date_from, date_until)\n",
    "\n",
    "# get data from API\n",
    "headers = {'accept': 'text/xml'} # this has NO effect\n",
    "all_ids_xml = requests.get(REQUEST_URL, headers)"
   ]
  },
  {
   "cell_type": "markdown",
   "id": "c51bf25d-5a40-4b9a-a0ba-17521232a84e",
   "metadata": {},
   "source": [
    "Save raw XML data in local file"
   ]
  },
  {
   "cell_type": "code",
   "execution_count": null,
   "id": "47e737b5-6e3e-4163-ab12-3d640ebc3d1d",
   "metadata": {},
   "outputs": [],
   "source": [
    "with open('data/all_ids.xml', 'w') as f:\n",
    "    f.write(all_ids_xml.text)"
   ]
  },
  {
   "cell_type": "markdown",
   "id": "504d03ed-c287-433e-8d31-6d82c1e3181a",
   "metadata": {},
   "source": [
    "Parse the response into an XML tree, and put the result into a pandas data frame."
   ]
  },
  {
   "cell_type": "code",
   "execution_count": 3,
   "id": "8630f15d-18e5-4b20-80a0-82051c513269",
   "metadata": {},
   "outputs": [
    {
     "name": "stdout",
     "output_type": "stream",
     "text": [
      "The data has 100 entries.\n"
     ]
    }
   ],
   "source": [
    "import xml.etree.ElementTree as ET\n",
    "import pandas as pd\n",
    "\n",
    "#parse the tree, get a list of identifiers\n",
    "tree = ET.parse('data/all_ids.xml')\n",
    "list_ids = tree.getroot().find(ns('ListIdentifiers'))\n",
    "entries = list_ids.findall(ns('header'))\n",
    "\n",
    "# put identifiers in a pandas dataframe\n",
    "entries_df = pd.DataFrame(columns=['id'])\n",
    "for entry in entries:\n",
    "    entry_id = entry.find(ns('identifier')).text\n",
    "    entries_df = entries_df.append({'id': entry_id}, ignore_index=True)\n",
    "\n",
    "print('The data has', entries_df.shape[0], 'entries.')"
   ]
  },
  {
   "cell_type": "markdown",
   "id": "73213643-9385-4dfc-bd9e-0dd0cdf2462d",
   "metadata": {},
   "source": [
    "## Get the details of each publication\n",
    "Call the API for each id returned by the previous call and get the corresponding bibliographic details."
   ]
  },
  {
   "cell_type": "code",
   "execution_count": 4,
   "id": "13eaeea2-5f37-43da-9ca3-8838700d0edc",
   "metadata": {
    "tags": []
   },
   "outputs": [],
   "source": [
    "\n",
    "def request_details(entry_id):\n",
    "    \"\"\"Sends a get request to zbMath, returns the details of a publication.\"\"\"\n",
    "\n",
    "    REQUEST_URL=\"{}&identifier={}\".format(GET_RECORD, entry_id)\n",
    "    response = requests.get(REQUEST_URL, headers)\n",
    "    tree = ET.fromstring(response.text)\n",
    "    return tree"
   ]
  },
  {
   "cell_type": "markdown",
   "id": "4d3bb4c4-27a2-4d59-89e0-ef3843dcb38c",
   "metadata": {},
   "source": [
    "For each publication, these details will be kept: 'document_id', 'author', 'document_title', 'source', 'classifications', 'keywords', 'doi'.\n",
    "\n",
    "To do: map these details to an ontology"
   ]
  },
  {
   "cell_type": "markdown",
   "id": "c4e2c45d-afa2-45df-be1f-e3f002b6230f",
   "metadata": {},
   "source": [
    "Loop through all entries, get the details of each one, put the result into a pandas data frame."
   ]
  },
  {
   "cell_type": "code",
   "execution_count": 5,
   "id": "3dae0d77-6091-4df8-9c1a-507fed760ef1",
   "metadata": {},
   "outputs": [
    {
     "name": "stdout",
     "output_type": "stream",
     "text": [
      "Processed 10/100 entries\n",
      "Processed 20/100 entries\n",
      "Processed 30/100 entries\n",
      "Processed 40/100 entries\n",
      "Processed 50/100 entries\n",
      "Processed 60/100 entries\n",
      "Processed 70/100 entries\n",
      "Processed 80/100 entries\n",
      "Processed 90/100 entries\n",
      "Processed 100/100 entries\n",
      "Imported 46 entries (discarded 54 for licensing conflicts)\n"
     ]
    }
   ],
   "source": [
    "# loop through all entries\n",
    "all_details = []\n",
    "counter = 0\n",
    "for _,current_entry in entries_df.iterrows():\n",
    "    xml_element = request_details(current_entry.id)\n",
    "    record = xml_element.find(ns('GetRecord')).find(ns('record'))\n",
    "    details = parse_record(record)\n",
    "    if details:\n",
    "        all_details.append(details)\n",
    "\n",
    "    # print progress info\n",
    "    counter += 1\n",
    "    if counter % 10 == 0:\n",
    "        print('Processed {}/{} entries'.format(counter, len(entries_df)))\n",
    "\n",
    "# convert to data frame\n",
    "details_df = pd.DataFrame(all_details)\n",
    "if 'id' not in details_df.columns:\n",
    "    print(\"Problem reading zbMath id's. No data?\")\n",
    "else:\n",
    "    details_df.set_index('id', inplace=True)\n",
    "\n",
    "print('Imported {} entries (discarded {} for licensing conflicts)'.format(len(details_df), len(entries_df) - len(details_df) ))"
   ]
  },
  {
   "cell_type": "markdown",
   "id": "b706fa1c-ced5-4e72-a29c-bb647f88bff7",
   "metadata": {},
   "source": [
    "### Cleanup\n",
    "* drop incomplete entries: no author or no author ids or no title\n",
    "* remove duplicate entries: same doi, same authors and title and year"
   ]
  },
  {
   "cell_type": "code",
   "execution_count": 6,
   "id": "95c3b4a2-f080-4d34-8e33-04ca51444de8",
   "metadata": {},
   "outputs": [
    {
     "name": "stdout",
     "output_type": "stream",
     "text": [
      "11 incomplete entries were removed\n"
     ]
    }
   ],
   "source": [
    "# drop entries without an author or a title\n",
    "idx = (details_df.author.isna()) | details_df.author_ids.isna() | (details_df.document_title.isna())\n",
    "details_df = details_df[~idx]\n",
    "print('{} incomplete entries were removed'.format(idx.sum()))"
   ]
  },
  {
   "cell_type": "code",
   "execution_count": 7,
   "id": "d2e18f9f-2b76-4a3d-a766-1241d5fbcb73",
   "metadata": {},
   "outputs": [
    {
     "name": "stdout",
     "output_type": "stream",
     "text": [
      "0 duplicated entries were removed\n"
     ]
    }
   ],
   "source": [
    "idx = (details_df.duplicated(subset='doi')) | (details_df.duplicated(subset=['author', 'document_title', 'publication_year']))\n",
    "details_df = details_df[~idx]\n",
    "print('{} duplicated entries were removed'.format(idx.sum()))"
   ]
  },
  {
   "cell_type": "markdown",
   "id": "15682de5-644a-46a0-9687-866f96f419ff",
   "metadata": {},
   "source": [
    "Save the data for later usage"
   ]
  },
  {
   "cell_type": "code",
   "execution_count": 8,
   "id": "ba8a447a-5c2e-4d76-b3b9-247392dc4be6",
   "metadata": {},
   "outputs": [],
   "source": [
    "#details_df.to_csv('data/details.csv')"
   ]
  },
  {
   "cell_type": "markdown",
   "id": "80875cd7-7b0f-4169-b401-47603df3c1e8",
   "metadata": {},
   "source": [
    "## References\n",
    "M. Schubotz and O. Teschke, zbMATH Open: Towards standardized machine interfaces to expose bibliographic metadata. EMS Magazine 119, 50–53 (2021). https://euromathsoc.org/magazine/articles/mag-12"
   ]
  },
  {
   "cell_type": "code",
   "execution_count": null,
   "id": "524d9dcf-c2c9-42cc-8cdf-7ad125b56a82",
   "metadata": {},
   "outputs": [],
   "source": []
  }
 ],
 "metadata": {
  "kernelspec": {
   "display_name": "Python 3",
   "language": "python",
   "name": "python3"
  },
  "language_info": {
   "codemirror_mode": {
    "name": "ipython",
    "version": 3
   },
   "file_extension": ".py",
   "mimetype": "text/x-python",
   "name": "python",
   "nbconvert_exporter": "python",
   "pygments_lexer": "ipython3",
   "version": "3.6.9"
  }
 },
 "nbformat": 4,
 "nbformat_minor": 5
}
