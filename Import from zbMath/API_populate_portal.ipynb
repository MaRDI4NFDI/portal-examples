{
 "cells": [
  {
   "cell_type": "markdown",
   "id": "597bc76e-13c4-4bc6-806d-0dc3d03807fa",
   "metadata": {},
   "source": [
    "# Populate the portal using the API\n",
    "Import the data prepared in `filter_papers_by_software.ipynb` into the data structure setup in `import_wikidata_properties.ipynb`.\n",
    "\n",
    "The API documentation is [here](https://www.wikidata.org/w/api.php?action=help&modules=wbeditentity)"
   ]
  },
  {
   "cell_type": "markdown",
   "id": "6e23e5e2-8b91-44ec-9d84-a255b2d5a89e",
   "metadata": {},
   "source": [
    "## Login to the Wikibase\n",
    "\n",
    "### Network settings\n",
    "* Make sure the wikibase is running, e.g. using [MaRDI4NFDI/portal-compose](https://github.com/MaRDI4NFDI/portal-compose)\n",
    "* Make sure this jupyter notebook is in the same network as the wiki. This is done in docker-compose\n",
    "\n",
    "```\n",
    "networks:\n",
    "  default:\n",
    "    external: true\n",
    "    name: portal-compose_default\n",
    "```\n",
    "\n",
    "Networks can be listed using `docker network ls`. Here, \"portal-compose_default\" is the name of the network started by portal-compose.\n",
    "* Verify that this notebook is in the correct network `docker network inspect portal-compose_default`\n",
    "\n",
    "The wiki is then accessible from the notebook container at `http://mardi-wikibase`.\n",
    "\n",
    "### Credentials\n",
    "* Login to the wiki as admin\n",
    "* Go to Special:BotPasswords, create a bot user, call it \"import\", grant it \"High-volume editing\", \"Edit existing pages\", \"Create, edit, and move pages\"\n",
    "* Copy `data/credentials.tpl` to `data/credentials.ini`. Replace the username and password by those of the newly created bot user (make sure not to commit this file)"
   ]
  },
  {
   "cell_type": "code",
   "execution_count": 39,
   "id": "0dbfbc00-45db-4101-a7c9-74c769e773cb",
   "metadata": {},
   "outputs": [
    {
     "name": "stdout",
     "output_type": "stream",
     "text": [
      "Admin@import 0gs16d2gh9cj2gckujo9ui8e04jpqps2\n",
      "{\"login\":{\"result\":\"Success\",\"lguserid\":1,\"lgusername\":\"Admin\"}}\n"
     ]
    }
   ],
   "source": [
    "import requests\n",
    "import json \n",
    "import configparser\n",
    "\n",
    "# url of the API endpoint\n",
    "WIKIBASE_API = 'http://mardi-wikibase/w/api.php?format=json'\n",
    "\n",
    "# bot username and password\n",
    "config = configparser.ConfigParser()\n",
    "config.sections()\n",
    "config.read('data/credentials.ini')\n",
    "username = config['default']['username']\n",
    "password = config['default']['password']\n",
    "\n",
    "# Cookie available after Login\n",
    "cookies = None\n",
    "\n",
    "print(username, password)\n",
    "def login():\n",
    "    # get a login token\n",
    "    TOKEN_ENDPOINT = '{}&action=query&meta=tokens&type=login'.format(WIKIBASE_API)\n",
    "    resp = requests.get(TOKEN_ENDPOINT)\n",
    "    logintoken = json.loads(resp.text)['query']['tokens']['logintoken']\n",
    "    cookies = resp.cookies\n",
    "\n",
    "    # use with bot user\n",
    "    LOGIN_ENDPOINT = '{}&action=login'.format(WIKIBASE_API)\n",
    "    resp = requests.post(\n",
    "        LOGIN_ENDPOINT, \n",
    "        data={'lgname':username, 'lgpassword': password, 'lgtoken': logintoken, 'format': 'json'},\n",
    "    cookies = cookies)\n",
    "    print(resp.text)\n",
    "\n",
    "login()"
   ]
  },
  {
   "cell_type": "markdown",
   "id": "7cb19004-9d5e-434a-875e-7027d69a3724",
   "metadata": {},
   "source": [
    "## Import the authors list\n",
    "A subsample of the authors list was created in notebook `filter_papers_by_software.ipyb`. This list contains the authors of a papers related to the first 1000 software entries in the list of softwares (`data/swMath-software-list.csv`). The list of authors is in file `data/all_authors.csv.zip`. "
   ]
  },
  {
   "cell_type": "code",
   "execution_count": 1,
   "id": "5d100aed-4b5c-4b63-81fe-192653b39a4f",
   "metadata": {},
   "outputs": [],
   "source": [
    "# load the list of authors\n",
    "import pandas as pd\n",
    "\n",
    "# load the list of zbMath authors\n",
    "authors_df = pd.read_csv('data/all_authors.csv.zip')\n",
    "#authors_df.head()"
   ]
  },
  {
   "cell_type": "markdown",
   "id": "e47a9d0b-0c0b-408b-b466-c3cdcdc4d01a",
   "metadata": {},
   "source": [
    "Map the columns to MaRDI-Portal properties, reformat the data according to [the CSV file syntax expected by Quickstatements](https://www.wikidata.org/wiki/Help:QuickStatements#CSV_file_syntax). "
   ]
  },
  {
   "cell_type": "code",
   "execution_count": 2,
   "id": "4443919e-be1d-412a-8eac-e017296d845c",
   "metadata": {},
   "outputs": [],
   "source": [
    "from datetime import datetime\n",
    "\n",
    "import_authors_df = pd.DataFrame()\n",
    "import_authors_df['qid'] = len(authors_df) * [''] # leave empty to create new item\n",
    "import_authors_df['Len'] = authors_df['author_name']\n",
    "import_authors_df['P31'] = len(authors_df) * ['Q5'] # instance of 'human'\n",
    "import_authors_df['P1556'] = authors_df['author_id'] # zbMath author id\n",
    "import_authors_df['#'] = len(authors_df) * ['{}: imported from zbMath Open API'.format(datetime.now())]"
   ]
  },
  {
   "cell_type": "code",
   "execution_count": 3,
   "id": "ecf44727-1032-4b71-b877-7cbeccfd6598",
   "metadata": {},
   "outputs": [
    {
     "data": {
      "text/html": [
       "<div>\n",
       "<style scoped>\n",
       "    .dataframe tbody tr th:only-of-type {\n",
       "        vertical-align: middle;\n",
       "    }\n",
       "\n",
       "    .dataframe tbody tr th {\n",
       "        vertical-align: top;\n",
       "    }\n",
       "\n",
       "    .dataframe thead th {\n",
       "        text-align: right;\n",
       "    }\n",
       "</style>\n",
       "<table border=\"1\" class=\"dataframe\">\n",
       "  <thead>\n",
       "    <tr style=\"text-align: right;\">\n",
       "      <th></th>\n",
       "      <th>qid</th>\n",
       "      <th>Len</th>\n",
       "      <th>P31</th>\n",
       "      <th>P1556</th>\n",
       "      <th>#</th>\n",
       "    </tr>\n",
       "  </thead>\n",
       "  <tbody>\n",
       "    <tr>\n",
       "      <th>0</th>\n",
       "      <td></td>\n",
       "      <td>Aardal, Karen</td>\n",
       "      <td>Q5</td>\n",
       "      <td>aardal.karen-i</td>\n",
       "      <td>2022-01-28 16:50:49.379647: imported from zbMa...</td>\n",
       "    </tr>\n",
       "    <tr>\n",
       "      <th>1</th>\n",
       "      <td></td>\n",
       "      <td>Aarts, Gert</td>\n",
       "      <td>Q5</td>\n",
       "      <td>aarts.gert</td>\n",
       "      <td>2022-01-28 16:50:49.379647: imported from zbMa...</td>\n",
       "    </tr>\n",
       "    <tr>\n",
       "      <th>2</th>\n",
       "      <td></td>\n",
       "      <td>Abad, Alberto</td>\n",
       "      <td>Q5</td>\n",
       "      <td>abad.alberto-j</td>\n",
       "      <td>2022-01-28 16:50:49.379647: imported from zbMa...</td>\n",
       "    </tr>\n",
       "    <tr>\n",
       "      <th>3</th>\n",
       "      <td></td>\n",
       "      <td>Abada, Asmaa</td>\n",
       "      <td>Q5</td>\n",
       "      <td>abada.asmaa</td>\n",
       "      <td>2022-01-28 16:50:49.379647: imported from zbMa...</td>\n",
       "    </tr>\n",
       "    <tr>\n",
       "      <th>4</th>\n",
       "      <td></td>\n",
       "      <td>Abánades, Miguel A.</td>\n",
       "      <td>Q5</td>\n",
       "      <td>abanades.miguel-angel</td>\n",
       "      <td>2022-01-28 16:50:49.379647: imported from zbMa...</td>\n",
       "    </tr>\n",
       "  </tbody>\n",
       "</table>\n",
       "</div>"
      ],
      "text/plain": [
       "  qid                   Len P31                  P1556  \\\n",
       "0             Aardal, Karen  Q5         aardal.karen-i   \n",
       "1               Aarts, Gert  Q5             aarts.gert   \n",
       "2             Abad, Alberto  Q5         abad.alberto-j   \n",
       "3              Abada, Asmaa  Q5            abada.asmaa   \n",
       "4       Abánades, Miguel A.  Q5  abanades.miguel-angel   \n",
       "\n",
       "                                                   #  \n",
       "0  2022-01-28 16:50:49.379647: imported from zbMa...  \n",
       "1  2022-01-28 16:50:49.379647: imported from zbMa...  \n",
       "2  2022-01-28 16:50:49.379647: imported from zbMa...  \n",
       "3  2022-01-28 16:50:49.379647: imported from zbMa...  \n",
       "4  2022-01-28 16:50:49.379647: imported from zbMa...  "
      ]
     },
     "execution_count": 3,
     "metadata": {},
     "output_type": "execute_result"
    }
   ],
   "source": [
    "import_authors_df.head()"
   ]
  },
  {
   "cell_type": "code",
   "execution_count": null,
   "id": "dfacc356-7bbe-4d8c-a5b2-681b086238e6",
   "metadata": {},
   "outputs": [],
   "source": []
  }
 ],
 "metadata": {
  "kernelspec": {
   "display_name": "Python 3 (ipykernel)",
   "language": "python",
   "name": "python3"
  },
  "language_info": {
   "codemirror_mode": {
    "name": "ipython",
    "version": 3
   },
   "file_extension": ".py",
   "mimetype": "text/x-python",
   "name": "python",
   "nbconvert_exporter": "python",
   "pygments_lexer": "ipython3",
   "version": "3.9.7"
  }
 },
 "nbformat": 4,
 "nbformat_minor": 5
}
