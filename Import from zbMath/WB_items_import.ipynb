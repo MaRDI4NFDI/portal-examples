{
 "cells": [
  {
   "cell_type": "markdown",
   "id": "db2efdbd-689a-4cdb-b048-cbde88c695f0",
   "metadata": {},
   "source": [
    "There is no existing software that can import properties and items from Wikibase and resolving naming conflicts automatically.\n",
    "\n",
    "1. Start a local wikibase, e.g. using [MaRDI4NFDI/portal-compose](https://github.com/MaRDI4NFDI/portal-compose)\n",
    "2. Increase memory limit by setting `ini_set( 'memory_limit', '2G' );` in LocalSettings.d/LocalSettings.override.php\n",
    "3. ~Enable federated properties from Wikidata by setting `$wgWBRepoSettings['federatedPropertiesEnabled'] = true;` in Localsettings.d/LocalSettings.override.php~ (potentially creates entity namimg conflicts)\n",
    "4. ~Use native MediaWiki export/import to load the required pages fom Wikidata by importing the XML files into the local wikibase. These files contains item and property pages that have been exported from Wikidata.~(potentially creates entity namimg conflicts)\n",
    "5. ~Use WikibaseImport to import pages from Wikidata.~(waste of time)\n",
    "6. Use a custom script to import the XML dumps from Wikidata into the local wiki without overwritting existing items and properties\n",
    "\n",
    "see https://www.mediawiki.org/wiki/Wikibase/Importing\n"
   ]
  },
  {
   "cell_type": "code",
   "execution_count": 1,
   "id": "9db2637c-c5ed-43a7-badf-8d37ddb92a5f",
   "metadata": {},
   "outputs": [],
   "source": [
    "# import common definitions and functions\n",
    "%run WB_common.ipynb"
   ]
  },
  {
   "cell_type": "code",
   "execution_count": 2,
   "id": "3ca49aa5-72ad-405c-99cf-543ecc82ba69",
   "metadata": {},
   "outputs": [],
   "source": [
    "# read bot username and password from data/credentials.tpl\n",
    "config = configparser.ConfigParser()\n",
    "config.sections()\n",
    "config.read('data/credentials.tpl')\n",
    "username = config['default']['username']\n",
    "botpwd = config['default']['password']\n",
    "WIKIBASE_API = config['default']['WIKIBASE_API']\n",
    "\n",
    "session = login(username, botpwd)"
   ]
  },
  {
   "cell_type": "markdown",
   "id": "03248a30-cab9-4f5f-851f-8cc671275edc",
   "metadata": {},
   "source": [
    "## Import properties by custom script\n",
    "A dump of the required properties was created in `WB_wikidata_export`notebook and stored in file `data/Wikidata_properties.xml`."
   ]
  },
  {
   "cell_type": "code",
   "execution_count": null,
   "id": "ee85123e-d70c-48c2-a15a-2fffa75cb1bb",
   "metadata": {},
   "outputs": [],
   "source": []
  }
 ],
 "metadata": {
  "kernelspec": {
   "display_name": "Python 3 (ipykernel)",
   "language": "python",
   "name": "python3"
  },
  "language_info": {
   "codemirror_mode": {
    "name": "ipython",
    "version": 3
   },
   "file_extension": ".py",
   "mimetype": "text/x-python",
   "name": "python",
   "nbconvert_exporter": "python",
   "pygments_lexer": "ipython3",
   "version": "3.9.7"
  }
 },
 "nbformat": 4,
 "nbformat_minor": 5
}
